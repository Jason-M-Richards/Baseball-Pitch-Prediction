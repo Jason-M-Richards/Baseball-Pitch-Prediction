{
  "nbformat": 4,
  "nbformat_minor": 0,
  "metadata": {
    "kernelspec": {
      "display_name": "learn-env",
      "language": "python",
      "name": "learn-env"
    },
    "language_info": {
      "codemirror_mode": {
        "name": "ipython",
        "version": 3
      },
      "file_extension": ".py",
      "mimetype": "text/x-python",
      "name": "python",
      "nbconvert_exporter": "python",
      "pygments_lexer": "ipython3",
      "version": "3.6.9"
    },
    "toc": {
      "base_numbering": 1,
      "nav_menu": {},
      "number_sections": true,
      "sideBar": true,
      "skip_h1_title": false,
      "title_cell": "Table of Contents",
      "title_sidebar": "Contents",
      "toc_cell": false,
      "toc_position": {
        "height": "calc(100% - 180px)",
        "left": "10px",
        "top": "150px",
        "width": "341.333px"
      },
      "toc_section_display": true,
      "toc_window_display": true
    },
    "colab": {
      "name": "Baseball.ipynb",
      "version": "0.3.2",
      "provenance": [],
      "include_colab_link": true
    },
    "accelerator": "GPU"
  },
  "cells": [
    {
      "cell_type": "markdown",
      "metadata": {
        "id": "view-in-github",
        "colab_type": "text"
      },
      "source": [
        "<a href=\"https://colab.research.google.com/github/Jason-Richards76/Baseball-Pitch-Prediction/blob/master/Baseball.ipynb\" target=\"_parent\"><img src=\"https://colab.research.google.com/assets/colab-badge.svg\" alt=\"Open In Colab\"/></a>"
      ]
    },
    {
      "cell_type": "markdown",
      "metadata": {
        "id": "-piRwMJeMC97",
        "colab_type": "text"
      },
      "source": [
        "Pitches Columns\n",
        "- px - location as pitch crosses the plate. X=0 means right down the middle\n",
        "- pz - location as pitch crosses the plate. Z=0 means the ground\n",
        "- start_speed - Speed of the pitch just as it's thrown\n",
        "- end_speed - Speed of the pitch when it reaches the plate\n",
        "- spin_rate - The pitch's spin rate, measure in RPM\n",
        "- spin_dir - Direction in which pitch is spinning, measured in degrees\n",
        "- break_angle\n",
        "- break_length\n",
        "- break_y\n",
        "- ax\n",
        "- ay\n",
        "- az\n",
        "- sz_bot\n",
        "- sz_top\n",
        "- type_confidence - Confidence in pitch_type classification. Goes up to 2 for some reason.\n",
        "- vx0\n",
        "- vy0\n",
        "- vz0\n",
        "- x\n",
        "- x0\n",
        "- y\n",
        "- y0\n",
        "- z0\n",
        "- pfx_x\n",
        "- pfx_z\n",
        "- nasty\n",
        "- zone\n",
        "- codeRecords - the result of the pitch. See dataset description for list of codes and their meaning\n",
        "- typeSimplified - code, S (strike) B (ball) or X (in play)\n",
        "- pitch_type - Type of pitch. See dataset description for list of pitch types\n",
        "- event_num - event number, used for finding when exactly ejections happen.\n",
        "- b_score - score for the batter's team\n",
        "- ab_id - at bat ID. Matches up with atbats.csv\n",
        "- b_count - balls in the current count\n",
        "- s_count - strikes in the current count\n",
        "- outs - number of outs (before pitch is thrown)\n",
        "- pitch_num - pitch number (of at-bat)\n",
        "- on_1b - True if there's a runner on first, False if empty\n",
        "- on_2b - True if there's a runner on second, False if empty\n",
        "- on_3b - True if there's a runner on third, False if empty"
      ]
    },
    {
      "cell_type": "markdown",
      "metadata": {
        "id": "8FjMkxNgMC98",
        "colab_type": "text"
      },
      "source": [
        "At Bat Columns\n",
        "- ab_idat - bat ID. First 4 digits are year. Matches with ab_id in pitches.csv\n",
        "- batter_id - player ID of the batter. Given by MLB, player names found in player_names.csv\n",
        "- event - description of the result of the at-bat\n",
        "- g_id - game ID. First 4 digits are year\n",
        "- inning - inning number\n",
        "- o - number of outs after this at-bat\n",
        "- p_score - score for the pitcher's team\n",
        "- p_throws - which hand pitcher throws with. Single character, R or L\n",
        "- pitcher_idplayer ID of the pitcher. Given by MLB, player names found in player_names.csv\n",
        "- stand - which side batter hits on. Single character, R or L\n",
        "- topTrue - if it's the top of the inning, False if it's the bottom"
      ]
    },
    {
      "cell_type": "code",
      "metadata": {
        "id": "TMiiDdCpMC9_",
        "colab_type": "code",
        "colab": {}
      },
      "source": [
        "import pandas as pd\n",
        "import numpy as np\n",
        "import matplotlib.pyplot as plt\n",
        "import seaborn as sns"
      ],
      "execution_count": 0,
      "outputs": []
    },
    {
      "cell_type": "code",
      "metadata": {
        "id": "aQ4hKhjzMC-B",
        "colab_type": "code",
        "colab": {}
      },
      "source": [
        "pitches = pd.read_csv(\"pitches.csv\")"
      ],
      "execution_count": 0,
      "outputs": []
    },
    {
      "cell_type": "code",
      "metadata": {
        "id": "NNO1_rKpMC-D",
        "colab_type": "code",
        "colab": {}
      },
      "source": [
        "atbats = pd.read_csv('atbats.csv')"
      ],
      "execution_count": 0,
      "outputs": []
    },
    {
      "cell_type": "code",
      "metadata": {
        "id": "CiBM1sfSMC-F",
        "colab_type": "code",
        "outputId": "2183d054-d870-4b7b-cfbe-0ba5242909b4",
        "colab": {
          "base_uri": "https://localhost:8080/",
          "height": 215
        }
      },
      "source": [
        "pitches.head()"
      ],
      "execution_count": 0,
      "outputs": [
        {
          "output_type": "execute_result",
          "data": {
            "text/html": [
              "<div>\n",
              "<style scoped>\n",
              "    .dataframe tbody tr th:only-of-type {\n",
              "        vertical-align: middle;\n",
              "    }\n",
              "\n",
              "    .dataframe tbody tr th {\n",
              "        vertical-align: top;\n",
              "    }\n",
              "\n",
              "    .dataframe thead th {\n",
              "        text-align: right;\n",
              "    }\n",
              "</style>\n",
              "<table border=\"1\" class=\"dataframe\">\n",
              "  <thead>\n",
              "    <tr style=\"text-align: right;\">\n",
              "      <th></th>\n",
              "      <th>px</th>\n",
              "      <th>pz</th>\n",
              "      <th>start_speed</th>\n",
              "      <th>end_speed</th>\n",
              "      <th>spin_rate</th>\n",
              "      <th>spin_dir</th>\n",
              "      <th>break_angle</th>\n",
              "      <th>break_length</th>\n",
              "      <th>break_y</th>\n",
              "      <th>ax</th>\n",
              "      <th>ay</th>\n",
              "      <th>az</th>\n",
              "      <th>sz_bot</th>\n",
              "      <th>sz_top</th>\n",
              "      <th>type_confidence</th>\n",
              "      <th>vx0</th>\n",
              "      <th>vy0</th>\n",
              "      <th>vz0</th>\n",
              "      <th>x</th>\n",
              "      <th>x0</th>\n",
              "      <th>y</th>\n",
              "      <th>y0</th>\n",
              "      <th>z0</th>\n",
              "      <th>pfx_x</th>\n",
              "      <th>pfx_z</th>\n",
              "      <th>nasty</th>\n",
              "      <th>zone</th>\n",
              "      <th>code</th>\n",
              "      <th>type</th>\n",
              "      <th>pitch_type</th>\n",
              "      <th>event_num</th>\n",
              "      <th>b_score</th>\n",
              "      <th>ab_id</th>\n",
              "      <th>b_count</th>\n",
              "      <th>s_count</th>\n",
              "      <th>outs</th>\n",
              "      <th>pitch_num</th>\n",
              "      <th>on_1b</th>\n",
              "      <th>on_2b</th>\n",
              "      <th>on_3b</th>\n",
              "    </tr>\n",
              "  </thead>\n",
              "  <tbody>\n",
              "    <tr>\n",
              "      <th>0</th>\n",
              "      <td>0.416</td>\n",
              "      <td>2.963</td>\n",
              "      <td>92.9</td>\n",
              "      <td>84.1</td>\n",
              "      <td>2305.052</td>\n",
              "      <td>159.235</td>\n",
              "      <td>-25.0</td>\n",
              "      <td>3.2</td>\n",
              "      <td>23.7</td>\n",
              "      <td>7.665</td>\n",
              "      <td>34.685</td>\n",
              "      <td>-11.960</td>\n",
              "      <td>1.72</td>\n",
              "      <td>3.56</td>\n",
              "      <td>2.0</td>\n",
              "      <td>-6.409</td>\n",
              "      <td>-136.065</td>\n",
              "      <td>-3.995</td>\n",
              "      <td>101.140000</td>\n",
              "      <td>2.280</td>\n",
              "      <td>158.780000</td>\n",
              "      <td>50.0</td>\n",
              "      <td>5.302</td>\n",
              "      <td>4.16</td>\n",
              "      <td>10.93</td>\n",
              "      <td>55.0</td>\n",
              "      <td>3.0</td>\n",
              "      <td>C</td>\n",
              "      <td>S</td>\n",
              "      <td>FF</td>\n",
              "      <td>3</td>\n",
              "      <td>0.0</td>\n",
              "      <td>2.015000e+09</td>\n",
              "      <td>0.0</td>\n",
              "      <td>0.0</td>\n",
              "      <td>0.0</td>\n",
              "      <td>1.0</td>\n",
              "      <td>0.0</td>\n",
              "      <td>0.0</td>\n",
              "      <td>0.0</td>\n",
              "    </tr>\n",
              "    <tr>\n",
              "      <th>1</th>\n",
              "      <td>-0.191</td>\n",
              "      <td>2.347</td>\n",
              "      <td>92.8</td>\n",
              "      <td>84.1</td>\n",
              "      <td>2689.935</td>\n",
              "      <td>151.402</td>\n",
              "      <td>-40.7</td>\n",
              "      <td>3.4</td>\n",
              "      <td>23.7</td>\n",
              "      <td>12.043</td>\n",
              "      <td>34.225</td>\n",
              "      <td>-10.085</td>\n",
              "      <td>1.72</td>\n",
              "      <td>3.56</td>\n",
              "      <td>2.0</td>\n",
              "      <td>-8.411</td>\n",
              "      <td>-135.690</td>\n",
              "      <td>-5.980</td>\n",
              "      <td>124.280000</td>\n",
              "      <td>2.119</td>\n",
              "      <td>175.410000</td>\n",
              "      <td>50.0</td>\n",
              "      <td>5.307</td>\n",
              "      <td>6.57</td>\n",
              "      <td>12.00</td>\n",
              "      <td>31.0</td>\n",
              "      <td>5.0</td>\n",
              "      <td>S</td>\n",
              "      <td>S</td>\n",
              "      <td>FF</td>\n",
              "      <td>4</td>\n",
              "      <td>0.0</td>\n",
              "      <td>2.015000e+09</td>\n",
              "      <td>0.0</td>\n",
              "      <td>1.0</td>\n",
              "      <td>0.0</td>\n",
              "      <td>2.0</td>\n",
              "      <td>0.0</td>\n",
              "      <td>0.0</td>\n",
              "      <td>0.0</td>\n",
              "    </tr>\n",
              "    <tr>\n",
              "      <th>2</th>\n",
              "      <td>-0.518</td>\n",
              "      <td>3.284</td>\n",
              "      <td>94.1</td>\n",
              "      <td>85.2</td>\n",
              "      <td>2647.972</td>\n",
              "      <td>145.125</td>\n",
              "      <td>-43.7</td>\n",
              "      <td>3.7</td>\n",
              "      <td>23.7</td>\n",
              "      <td>14.368</td>\n",
              "      <td>35.276</td>\n",
              "      <td>-11.560</td>\n",
              "      <td>1.72</td>\n",
              "      <td>3.56</td>\n",
              "      <td>2.0</td>\n",
              "      <td>-9.802</td>\n",
              "      <td>-137.668</td>\n",
              "      <td>-3.337</td>\n",
              "      <td>136.740000</td>\n",
              "      <td>2.127</td>\n",
              "      <td>150.110000</td>\n",
              "      <td>50.0</td>\n",
              "      <td>5.313</td>\n",
              "      <td>7.61</td>\n",
              "      <td>10.88</td>\n",
              "      <td>49.0</td>\n",
              "      <td>1.0</td>\n",
              "      <td>F</td>\n",
              "      <td>S</td>\n",
              "      <td>FF</td>\n",
              "      <td>5</td>\n",
              "      <td>0.0</td>\n",
              "      <td>2.015000e+09</td>\n",
              "      <td>0.0</td>\n",
              "      <td>2.0</td>\n",
              "      <td>0.0</td>\n",
              "      <td>3.0</td>\n",
              "      <td>0.0</td>\n",
              "      <td>0.0</td>\n",
              "      <td>0.0</td>\n",
              "    </tr>\n",
              "    <tr>\n",
              "      <th>3</th>\n",
              "      <td>-0.641</td>\n",
              "      <td>1.221</td>\n",
              "      <td>91.0</td>\n",
              "      <td>84.0</td>\n",
              "      <td>1289.590</td>\n",
              "      <td>169.751</td>\n",
              "      <td>-1.3</td>\n",
              "      <td>5.0</td>\n",
              "      <td>23.8</td>\n",
              "      <td>2.104</td>\n",
              "      <td>28.354</td>\n",
              "      <td>-20.540</td>\n",
              "      <td>1.74</td>\n",
              "      <td>3.35</td>\n",
              "      <td>2.0</td>\n",
              "      <td>-8.071</td>\n",
              "      <td>-133.005</td>\n",
              "      <td>-6.567</td>\n",
              "      <td>109.685636</td>\n",
              "      <td>2.279</td>\n",
              "      <td>187.463482</td>\n",
              "      <td>50.0</td>\n",
              "      <td>5.210</td>\n",
              "      <td>1.17</td>\n",
              "      <td>6.45</td>\n",
              "      <td>41.0</td>\n",
              "      <td>13.0</td>\n",
              "      <td>B</td>\n",
              "      <td>B</td>\n",
              "      <td>FF</td>\n",
              "      <td>6</td>\n",
              "      <td>0.0</td>\n",
              "      <td>2.015000e+09</td>\n",
              "      <td>0.0</td>\n",
              "      <td>2.0</td>\n",
              "      <td>0.0</td>\n",
              "      <td>4.0</td>\n",
              "      <td>0.0</td>\n",
              "      <td>0.0</td>\n",
              "      <td>0.0</td>\n",
              "    </tr>\n",
              "    <tr>\n",
              "      <th>4</th>\n",
              "      <td>-1.821</td>\n",
              "      <td>2.083</td>\n",
              "      <td>75.4</td>\n",
              "      <td>69.6</td>\n",
              "      <td>1374.569</td>\n",
              "      <td>280.671</td>\n",
              "      <td>18.4</td>\n",
              "      <td>12.0</td>\n",
              "      <td>23.8</td>\n",
              "      <td>-10.280</td>\n",
              "      <td>21.774</td>\n",
              "      <td>-34.111</td>\n",
              "      <td>1.72</td>\n",
              "      <td>3.56</td>\n",
              "      <td>2.0</td>\n",
              "      <td>-6.309</td>\n",
              "      <td>-110.409</td>\n",
              "      <td>0.325</td>\n",
              "      <td>146.527525</td>\n",
              "      <td>2.179</td>\n",
              "      <td>177.242829</td>\n",
              "      <td>50.0</td>\n",
              "      <td>5.557</td>\n",
              "      <td>-8.43</td>\n",
              "      <td>-1.65</td>\n",
              "      <td>18.0</td>\n",
              "      <td>13.0</td>\n",
              "      <td>B</td>\n",
              "      <td>B</td>\n",
              "      <td>CU</td>\n",
              "      <td>7</td>\n",
              "      <td>0.0</td>\n",
              "      <td>2.015000e+09</td>\n",
              "      <td>1.0</td>\n",
              "      <td>2.0</td>\n",
              "      <td>0.0</td>\n",
              "      <td>5.0</td>\n",
              "      <td>0.0</td>\n",
              "      <td>0.0</td>\n",
              "      <td>0.0</td>\n",
              "    </tr>\n",
              "  </tbody>\n",
              "</table>\n",
              "</div>"
            ],
            "text/plain": [
              "      px     pz  start_speed  end_speed  ...  pitch_num  on_1b  on_2b  on_3b\n",
              "0  0.416  2.963         92.9       84.1  ...        1.0    0.0    0.0    0.0\n",
              "1 -0.191  2.347         92.8       84.1  ...        2.0    0.0    0.0    0.0\n",
              "2 -0.518  3.284         94.1       85.2  ...        3.0    0.0    0.0    0.0\n",
              "3 -0.641  1.221         91.0       84.0  ...        4.0    0.0    0.0    0.0\n",
              "4 -1.821  2.083         75.4       69.6  ...        5.0    0.0    0.0    0.0\n",
              "\n",
              "[5 rows x 40 columns]"
            ]
          },
          "metadata": {
            "tags": []
          },
          "execution_count": 23
        }
      ]
    },
    {
      "cell_type": "code",
      "metadata": {
        "id": "1Ceugq_6MC-I",
        "colab_type": "code",
        "outputId": "cd63d35a-69b8-4feb-a06f-4acfc3d32b03",
        "colab": {
          "base_uri": "https://localhost:8080/",
          "height": 195
        }
      },
      "source": [
        "atbats.head()"
      ],
      "execution_count": 0,
      "outputs": [
        {
          "output_type": "execute_result",
          "data": {
            "text/html": [
              "<div>\n",
              "<style scoped>\n",
              "    .dataframe tbody tr th:only-of-type {\n",
              "        vertical-align: middle;\n",
              "    }\n",
              "\n",
              "    .dataframe tbody tr th {\n",
              "        vertical-align: top;\n",
              "    }\n",
              "\n",
              "    .dataframe thead th {\n",
              "        text-align: right;\n",
              "    }\n",
              "</style>\n",
              "<table border=\"1\" class=\"dataframe\">\n",
              "  <thead>\n",
              "    <tr style=\"text-align: right;\">\n",
              "      <th></th>\n",
              "      <th>ab_id</th>\n",
              "      <th>batter_id</th>\n",
              "      <th>event</th>\n",
              "      <th>g_id</th>\n",
              "      <th>inning</th>\n",
              "      <th>o</th>\n",
              "      <th>p_score</th>\n",
              "      <th>p_throws</th>\n",
              "      <th>pitcher_id</th>\n",
              "      <th>stand</th>\n",
              "      <th>top</th>\n",
              "    </tr>\n",
              "  </thead>\n",
              "  <tbody>\n",
              "    <tr>\n",
              "      <th>0</th>\n",
              "      <td>2015000001</td>\n",
              "      <td>572761</td>\n",
              "      <td>Groundout</td>\n",
              "      <td>201500001</td>\n",
              "      <td>1</td>\n",
              "      <td>1</td>\n",
              "      <td>0</td>\n",
              "      <td>L</td>\n",
              "      <td>452657</td>\n",
              "      <td>L</td>\n",
              "      <td>True</td>\n",
              "    </tr>\n",
              "    <tr>\n",
              "      <th>1</th>\n",
              "      <td>2015000002</td>\n",
              "      <td>518792</td>\n",
              "      <td>Double</td>\n",
              "      <td>201500001</td>\n",
              "      <td>1</td>\n",
              "      <td>1</td>\n",
              "      <td>0</td>\n",
              "      <td>L</td>\n",
              "      <td>452657</td>\n",
              "      <td>L</td>\n",
              "      <td>True</td>\n",
              "    </tr>\n",
              "    <tr>\n",
              "      <th>2</th>\n",
              "      <td>2015000003</td>\n",
              "      <td>407812</td>\n",
              "      <td>Single</td>\n",
              "      <td>201500001</td>\n",
              "      <td>1</td>\n",
              "      <td>1</td>\n",
              "      <td>0</td>\n",
              "      <td>L</td>\n",
              "      <td>452657</td>\n",
              "      <td>R</td>\n",
              "      <td>True</td>\n",
              "    </tr>\n",
              "    <tr>\n",
              "      <th>3</th>\n",
              "      <td>2015000004</td>\n",
              "      <td>425509</td>\n",
              "      <td>Strikeout</td>\n",
              "      <td>201500001</td>\n",
              "      <td>1</td>\n",
              "      <td>2</td>\n",
              "      <td>0</td>\n",
              "      <td>L</td>\n",
              "      <td>452657</td>\n",
              "      <td>R</td>\n",
              "      <td>True</td>\n",
              "    </tr>\n",
              "    <tr>\n",
              "      <th>4</th>\n",
              "      <td>2015000005</td>\n",
              "      <td>571431</td>\n",
              "      <td>Strikeout</td>\n",
              "      <td>201500001</td>\n",
              "      <td>1</td>\n",
              "      <td>3</td>\n",
              "      <td>0</td>\n",
              "      <td>L</td>\n",
              "      <td>452657</td>\n",
              "      <td>L</td>\n",
              "      <td>True</td>\n",
              "    </tr>\n",
              "  </tbody>\n",
              "</table>\n",
              "</div>"
            ],
            "text/plain": [
              "        ab_id  batter_id      event       g_id  ...  p_throws  pitcher_id  stand   top\n",
              "0  2015000001     572761  Groundout  201500001  ...         L      452657      L  True\n",
              "1  2015000002     518792     Double  201500001  ...         L      452657      L  True\n",
              "2  2015000003     407812     Single  201500001  ...         L      452657      R  True\n",
              "3  2015000004     425509  Strikeout  201500001  ...         L      452657      R  True\n",
              "4  2015000005     571431  Strikeout  201500001  ...         L      452657      L  True\n",
              "\n",
              "[5 rows x 11 columns]"
            ]
          },
          "metadata": {
            "tags": []
          },
          "execution_count": 24
        }
      ]
    },
    {
      "cell_type": "code",
      "metadata": {
        "id": "bZbyiCmFMC-K",
        "colab_type": "code",
        "colab": {}
      },
      "source": [
        "data = pd.merge(pitches, atbats, on = 'ab_id', how = 'left')"
      ],
      "execution_count": 0,
      "outputs": []
    },
    {
      "cell_type": "code",
      "metadata": {
        "id": "fKAvWbuAMC-M",
        "colab_type": "code",
        "outputId": "8cf1a5fc-2367-4e02-eb36-3520ea965df8",
        "colab": {
          "base_uri": "https://localhost:8080/",
          "height": 941
        }
      },
      "source": [
        "data.info()"
      ],
      "execution_count": 0,
      "outputs": [
        {
          "output_type": "stream",
          "text": [
            "<class 'pandas.core.frame.DataFrame'>\n",
            "Int64Index: 2867154 entries, 0 to 2867153\n",
            "Data columns (total 50 columns):\n",
            "px                 float64\n",
            "pz                 float64\n",
            "start_speed        float64\n",
            "end_speed          float64\n",
            "spin_rate          float64\n",
            "spin_dir           float64\n",
            "break_angle        float64\n",
            "break_length       float64\n",
            "break_y            float64\n",
            "ax                 float64\n",
            "ay                 float64\n",
            "az                 float64\n",
            "sz_bot             float64\n",
            "sz_top             float64\n",
            "type_confidence    float64\n",
            "vx0                float64\n",
            "vy0                float64\n",
            "vz0                float64\n",
            "x                  float64\n",
            "x0                 float64\n",
            "y                  float64\n",
            "y0                 float64\n",
            "z0                 float64\n",
            "pfx_x              float64\n",
            "pfx_z              float64\n",
            "nasty              float64\n",
            "zone               float64\n",
            "code               object\n",
            "type               object\n",
            "pitch_type         object\n",
            "event_num          int64\n",
            "b_score            float64\n",
            "ab_id              float64\n",
            "b_count            float64\n",
            "s_count            float64\n",
            "outs               float64\n",
            "pitch_num          float64\n",
            "on_1b              float64\n",
            "on_2b              float64\n",
            "on_3b              float64\n",
            "batter_id          int64\n",
            "event              object\n",
            "g_id               int64\n",
            "inning             int64\n",
            "o                  int64\n",
            "p_score            int64\n",
            "p_throws           object\n",
            "pitcher_id         int64\n",
            "stand              object\n",
            "top                bool\n",
            "dtypes: bool(1), float64(36), int64(7), object(6)\n",
            "memory usage: 1.1+ GB\n"
          ],
          "name": "stdout"
        }
      ]
    },
    {
      "cell_type": "code",
      "metadata": {
        "id": "Kj_HtgUNMC-N",
        "colab_type": "code",
        "colab": {}
      },
      "source": [
        "data1 = data.g_id.astype('str')"
      ],
      "execution_count": 0,
      "outputs": []
    },
    {
      "cell_type": "code",
      "metadata": {
        "id": "_jugRcyDMC-S",
        "colab_type": "code",
        "colab": {}
      },
      "source": [
        "data1 = data1.str[:4]"
      ],
      "execution_count": 0,
      "outputs": []
    },
    {
      "cell_type": "code",
      "metadata": {
        "scrolled": true,
        "id": "jfGc7XL-MC-V",
        "colab_type": "code",
        "outputId": "552ef038-1621-4144-ba0a-adbdd87ee400",
        "colab": {
          "base_uri": "https://localhost:8080/",
          "height": 118
        }
      },
      "source": [
        "data1.head()"
      ],
      "execution_count": 0,
      "outputs": [
        {
          "output_type": "execute_result",
          "data": {
            "text/plain": [
              "0    2015\n",
              "1    2015\n",
              "2    2015\n",
              "3    2015\n",
              "4    2015\n",
              "Name: g_id, dtype: object"
            ]
          },
          "metadata": {
            "tags": []
          },
          "execution_count": 29
        }
      ]
    },
    {
      "cell_type": "code",
      "metadata": {
        "id": "saCxLhU9MC-Y",
        "colab_type": "code",
        "colab": {}
      },
      "source": [
        "data['year'] = data1.values"
      ],
      "execution_count": 0,
      "outputs": []
    },
    {
      "cell_type": "code",
      "metadata": {
        "id": "47m6qr2fMC-a",
        "colab_type": "code",
        "outputId": "ebc617a3-ca27-420c-d73b-8e1a8d89dedc",
        "colab": {
          "base_uri": "https://localhost:8080/",
          "height": 958
        }
      },
      "source": [
        "data.info()"
      ],
      "execution_count": 0,
      "outputs": [
        {
          "output_type": "stream",
          "text": [
            "<class 'pandas.core.frame.DataFrame'>\n",
            "Int64Index: 2867154 entries, 0 to 2867153\n",
            "Data columns (total 51 columns):\n",
            "px                 float64\n",
            "pz                 float64\n",
            "start_speed        float64\n",
            "end_speed          float64\n",
            "spin_rate          float64\n",
            "spin_dir           float64\n",
            "break_angle        float64\n",
            "break_length       float64\n",
            "break_y            float64\n",
            "ax                 float64\n",
            "ay                 float64\n",
            "az                 float64\n",
            "sz_bot             float64\n",
            "sz_top             float64\n",
            "type_confidence    float64\n",
            "vx0                float64\n",
            "vy0                float64\n",
            "vz0                float64\n",
            "x                  float64\n",
            "x0                 float64\n",
            "y                  float64\n",
            "y0                 float64\n",
            "z0                 float64\n",
            "pfx_x              float64\n",
            "pfx_z              float64\n",
            "nasty              float64\n",
            "zone               float64\n",
            "code               object\n",
            "type               object\n",
            "pitch_type         object\n",
            "event_num          int64\n",
            "b_score            float64\n",
            "ab_id              float64\n",
            "b_count            float64\n",
            "s_count            float64\n",
            "outs               float64\n",
            "pitch_num          float64\n",
            "on_1b              float64\n",
            "on_2b              float64\n",
            "on_3b              float64\n",
            "batter_id          int64\n",
            "event              object\n",
            "g_id               int64\n",
            "inning             int64\n",
            "o                  int64\n",
            "p_score            int64\n",
            "p_throws           object\n",
            "pitcher_id         int64\n",
            "stand              object\n",
            "top                bool\n",
            "year               object\n",
            "dtypes: bool(1), float64(36), int64(7), object(7)\n",
            "memory usage: 1.1+ GB\n"
          ],
          "name": "stdout"
        }
      ]
    },
    {
      "cell_type": "code",
      "metadata": {
        "id": "0EfiFIcEMC-c",
        "colab_type": "code",
        "colab": {}
      },
      "source": [
        "data18 = data[data['year'] == '2018']"
      ],
      "execution_count": 0,
      "outputs": []
    },
    {
      "cell_type": "code",
      "metadata": {
        "id": "TFmkC5HcMC-e",
        "colab_type": "code",
        "outputId": "30058120-94b7-4205-9004-5ac2f9766df2",
        "colab": {
          "base_uri": "https://localhost:8080/",
          "height": 958
        }
      },
      "source": [
        "data18.info()"
      ],
      "execution_count": 0,
      "outputs": [
        {
          "output_type": "stream",
          "text": [
            "<class 'pandas.core.frame.DataFrame'>\n",
            "Int64Index: 724444 entries, 2142710 to 2867153\n",
            "Data columns (total 51 columns):\n",
            "px                 718322 non-null float64\n",
            "pz                 718322 non-null float64\n",
            "start_speed        718334 non-null float64\n",
            "end_speed          718334 non-null float64\n",
            "spin_rate          718322 non-null float64\n",
            "spin_dir           718322 non-null float64\n",
            "break_angle        718322 non-null float64\n",
            "break_length       718322 non-null float64\n",
            "break_y            718322 non-null float64\n",
            "ax                 718322 non-null float64\n",
            "ay                 718322 non-null float64\n",
            "az                 718322 non-null float64\n",
            "sz_bot             723353 non-null float64\n",
            "sz_top             723353 non-null float64\n",
            "type_confidence    718322 non-null float64\n",
            "vx0                718322 non-null float64\n",
            "vy0                718322 non-null float64\n",
            "vz0                718322 non-null float64\n",
            "x                  724444 non-null float64\n",
            "x0                 718322 non-null float64\n",
            "y                  724444 non-null float64\n",
            "y0                 718322 non-null float64\n",
            "z0                 718322 non-null float64\n",
            "pfx_x              718322 non-null float64\n",
            "pfx_z              718322 non-null float64\n",
            "nasty              718322 non-null float64\n",
            "zone               718322 non-null float64\n",
            "code               724444 non-null object\n",
            "type               724444 non-null object\n",
            "pitch_type         718322 non-null object\n",
            "event_num          724444 non-null int64\n",
            "b_score            724444 non-null float64\n",
            "ab_id              724444 non-null float64\n",
            "b_count            724444 non-null float64\n",
            "s_count            724444 non-null float64\n",
            "outs               724444 non-null float64\n",
            "pitch_num          724444 non-null float64\n",
            "on_1b              724444 non-null float64\n",
            "on_2b              724444 non-null float64\n",
            "on_3b              724444 non-null float64\n",
            "batter_id          724444 non-null int64\n",
            "event              724444 non-null object\n",
            "g_id               724444 non-null int64\n",
            "inning             724444 non-null int64\n",
            "o                  724444 non-null int64\n",
            "p_score            724444 non-null int64\n",
            "p_throws           724444 non-null object\n",
            "pitcher_id         724444 non-null int64\n",
            "stand              724444 non-null object\n",
            "top                724444 non-null bool\n",
            "year               724444 non-null object\n",
            "dtypes: bool(1), float64(36), int64(7), object(7)\n",
            "memory usage: 282.6+ MB\n"
          ],
          "name": "stdout"
        }
      ]
    },
    {
      "cell_type": "code",
      "metadata": {
        "id": "F-X5yWPyMC-h",
        "colab_type": "code",
        "colab": {}
      },
      "source": [
        "data18.to_csv('mergebb.csv')"
      ],
      "execution_count": 0,
      "outputs": []
    },
    {
      "cell_type": "code",
      "metadata": {
        "id": "uBamjHoMMC-i",
        "colab_type": "code",
        "colab": {}
      },
      "source": [
        "pXs = pd.DataFrame(data18[['code', 'type', 'pitch_type', 'b_score', 's_count', 'outs', 'pitch_num',\\\n",
        "                            'on_1b', 'on_2b', 'on_3b', 'batter_id', 'inning', 'p_score', 'p_throws',\\\n",
        "                             'pitcher_id', 'stand', 'top']])"
      ],
      "execution_count": 0,
      "outputs": []
    },
    {
      "cell_type": "code",
      "metadata": {
        "id": "5LbS_4PJMC-k",
        "colab_type": "code",
        "outputId": "a896e693-a667-4fb4-fa3b-cb5bd6caee8f",
        "colab": {
          "base_uri": "https://localhost:8080/",
          "height": 215
        }
      },
      "source": [
        "pXs.head()"
      ],
      "execution_count": 0,
      "outputs": [
        {
          "output_type": "execute_result",
          "data": {
            "text/html": [
              "<div>\n",
              "<style scoped>\n",
              "    .dataframe tbody tr th:only-of-type {\n",
              "        vertical-align: middle;\n",
              "    }\n",
              "\n",
              "    .dataframe tbody tr th {\n",
              "        vertical-align: top;\n",
              "    }\n",
              "\n",
              "    .dataframe thead th {\n",
              "        text-align: right;\n",
              "    }\n",
              "</style>\n",
              "<table border=\"1\" class=\"dataframe\">\n",
              "  <thead>\n",
              "    <tr style=\"text-align: right;\">\n",
              "      <th></th>\n",
              "      <th>code</th>\n",
              "      <th>type</th>\n",
              "      <th>pitch_type</th>\n",
              "      <th>b_score</th>\n",
              "      <th>s_count</th>\n",
              "      <th>outs</th>\n",
              "      <th>pitch_num</th>\n",
              "      <th>on_1b</th>\n",
              "      <th>on_2b</th>\n",
              "      <th>on_3b</th>\n",
              "      <th>batter_id</th>\n",
              "      <th>inning</th>\n",
              "      <th>p_score</th>\n",
              "      <th>p_throws</th>\n",
              "      <th>pitcher_id</th>\n",
              "      <th>stand</th>\n",
              "      <th>top</th>\n",
              "    </tr>\n",
              "  </thead>\n",
              "  <tbody>\n",
              "    <tr>\n",
              "      <th>2142710</th>\n",
              "      <td>C</td>\n",
              "      <td>S</td>\n",
              "      <td>SI</td>\n",
              "      <td>0.0</td>\n",
              "      <td>0.0</td>\n",
              "      <td>0.0</td>\n",
              "      <td>1.0</td>\n",
              "      <td>0.0</td>\n",
              "      <td>0.0</td>\n",
              "      <td>0.0</td>\n",
              "      <td>446359</td>\n",
              "      <td>1</td>\n",
              "      <td>0</td>\n",
              "      <td>R</td>\n",
              "      <td>608665</td>\n",
              "      <td>R</td>\n",
              "      <td>True</td>\n",
              "    </tr>\n",
              "    <tr>\n",
              "      <th>2142711</th>\n",
              "      <td>B</td>\n",
              "      <td>B</td>\n",
              "      <td>SI</td>\n",
              "      <td>0.0</td>\n",
              "      <td>1.0</td>\n",
              "      <td>0.0</td>\n",
              "      <td>2.0</td>\n",
              "      <td>0.0</td>\n",
              "      <td>0.0</td>\n",
              "      <td>0.0</td>\n",
              "      <td>446359</td>\n",
              "      <td>1</td>\n",
              "      <td>0</td>\n",
              "      <td>R</td>\n",
              "      <td>608665</td>\n",
              "      <td>R</td>\n",
              "      <td>True</td>\n",
              "    </tr>\n",
              "    <tr>\n",
              "      <th>2142712</th>\n",
              "      <td>C</td>\n",
              "      <td>S</td>\n",
              "      <td>SI</td>\n",
              "      <td>0.0</td>\n",
              "      <td>1.0</td>\n",
              "      <td>0.0</td>\n",
              "      <td>3.0</td>\n",
              "      <td>0.0</td>\n",
              "      <td>0.0</td>\n",
              "      <td>0.0</td>\n",
              "      <td>446359</td>\n",
              "      <td>1</td>\n",
              "      <td>0</td>\n",
              "      <td>R</td>\n",
              "      <td>608665</td>\n",
              "      <td>R</td>\n",
              "      <td>True</td>\n",
              "    </tr>\n",
              "    <tr>\n",
              "      <th>2142713</th>\n",
              "      <td>F</td>\n",
              "      <td>S</td>\n",
              "      <td>SL</td>\n",
              "      <td>0.0</td>\n",
              "      <td>2.0</td>\n",
              "      <td>0.0</td>\n",
              "      <td>4.0</td>\n",
              "      <td>0.0</td>\n",
              "      <td>0.0</td>\n",
              "      <td>0.0</td>\n",
              "      <td>446359</td>\n",
              "      <td>1</td>\n",
              "      <td>0</td>\n",
              "      <td>R</td>\n",
              "      <td>608665</td>\n",
              "      <td>R</td>\n",
              "      <td>True</td>\n",
              "    </tr>\n",
              "    <tr>\n",
              "      <th>2142714</th>\n",
              "      <td>S</td>\n",
              "      <td>S</td>\n",
              "      <td>SI</td>\n",
              "      <td>0.0</td>\n",
              "      <td>2.0</td>\n",
              "      <td>0.0</td>\n",
              "      <td>5.0</td>\n",
              "      <td>0.0</td>\n",
              "      <td>0.0</td>\n",
              "      <td>0.0</td>\n",
              "      <td>446359</td>\n",
              "      <td>1</td>\n",
              "      <td>0</td>\n",
              "      <td>R</td>\n",
              "      <td>608665</td>\n",
              "      <td>R</td>\n",
              "      <td>True</td>\n",
              "    </tr>\n",
              "  </tbody>\n",
              "</table>\n",
              "</div>"
            ],
            "text/plain": [
              "        code type pitch_type  b_score  ...  p_throws  pitcher_id  stand   top\n",
              "2142710    C    S         SI      0.0  ...         R      608665      R  True\n",
              "2142711    B    B         SI      0.0  ...         R      608665      R  True\n",
              "2142712    C    S         SI      0.0  ...         R      608665      R  True\n",
              "2142713    F    S         SL      0.0  ...         R      608665      R  True\n",
              "2142714    S    S         SI      0.0  ...         R      608665      R  True\n",
              "\n",
              "[5 rows x 17 columns]"
            ]
          },
          "metadata": {
            "tags": []
          },
          "execution_count": 36
        }
      ]
    },
    {
      "cell_type": "code",
      "metadata": {
        "id": "LCiAp4PwMC-m",
        "colab_type": "code",
        "outputId": "6d5c00e9-99c4-40a9-d9ca-633d4b2a665f",
        "colab": {
          "base_uri": "https://localhost:8080/",
          "height": 386
        }
      },
      "source": [
        "pXs.info()"
      ],
      "execution_count": 0,
      "outputs": [
        {
          "output_type": "stream",
          "text": [
            "<class 'pandas.core.frame.DataFrame'>\n",
            "Int64Index: 724444 entries, 2142710 to 2867153\n",
            "Data columns (total 17 columns):\n",
            "code          724444 non-null object\n",
            "type          724444 non-null object\n",
            "pitch_type    718322 non-null object\n",
            "b_score       724444 non-null float64\n",
            "s_count       724444 non-null float64\n",
            "outs          724444 non-null float64\n",
            "pitch_num     724444 non-null float64\n",
            "on_1b         724444 non-null float64\n",
            "on_2b         724444 non-null float64\n",
            "on_3b         724444 non-null float64\n",
            "batter_id     724444 non-null int64\n",
            "inning        724444 non-null int64\n",
            "p_score       724444 non-null int64\n",
            "p_throws      724444 non-null object\n",
            "pitcher_id    724444 non-null int64\n",
            "stand         724444 non-null object\n",
            "top           724444 non-null bool\n",
            "dtypes: bool(1), float64(7), int64(4), object(5)\n",
            "memory usage: 94.7+ MB\n"
          ],
          "name": "stdout"
        }
      ]
    },
    {
      "cell_type": "code",
      "metadata": {
        "id": "eaLbIUTJMC-q",
        "colab_type": "code",
        "outputId": "b0055ede-3437-4627-d943-11cf0f233ef1",
        "colab": {
          "base_uri": "https://localhost:8080/",
          "height": 319
        }
      },
      "source": [
        "pXs.isnull().sum()"
      ],
      "execution_count": 0,
      "outputs": [
        {
          "output_type": "execute_result",
          "data": {
            "text/plain": [
              "code             0\n",
              "type             0\n",
              "pitch_type    6122\n",
              "b_score          0\n",
              "s_count          0\n",
              "outs             0\n",
              "pitch_num        0\n",
              "on_1b            0\n",
              "on_2b            0\n",
              "on_3b            0\n",
              "batter_id        0\n",
              "inning           0\n",
              "p_score          0\n",
              "p_throws         0\n",
              "pitcher_id       0\n",
              "stand            0\n",
              "top              0\n",
              "dtype: int64"
            ]
          },
          "metadata": {
            "tags": []
          },
          "execution_count": 38
        }
      ]
    },
    {
      "cell_type": "code",
      "metadata": {
        "id": "q3fmBEhEMC-t",
        "colab_type": "code",
        "outputId": "204c3233-b933-4754-a9d0-f809f33dfa1e",
        "colab": {
          "base_uri": "https://localhost:8080/",
          "height": 286
        }
      },
      "source": [
        "pXs.pitch_type.value_counts()"
      ],
      "execution_count": 0,
      "outputs": [
        {
          "output_type": "execute_result",
          "data": {
            "text/plain": [
              "FF    254086\n",
              "SL    122796\n",
              "FT     81617\n",
              "CH     74606\n",
              "CU     60360\n",
              "SI     57970\n",
              "FC     39061\n",
              "KC     16327\n",
              "FS     10365\n",
              "KN       719\n",
              "EP       204\n",
              "PO        89\n",
              "FO        84\n",
              "SC        37\n",
              "AB         1\n",
              "Name: pitch_type, dtype: int64"
            ]
          },
          "metadata": {
            "tags": []
          },
          "execution_count": 39
        }
      ]
    },
    {
      "cell_type": "code",
      "metadata": {
        "id": "TpS3DRPNMC-w",
        "colab_type": "code",
        "outputId": "92b2f2db-60f0-44e4-9127-04a5731328dd",
        "colab": {
          "base_uri": "https://localhost:8080/",
          "height": 1000
        }
      },
      "source": [
        "pXs.dropna()"
      ],
      "execution_count": 0,
      "outputs": [
        {
          "output_type": "execute_result",
          "data": {
            "text/html": [
              "<div>\n",
              "<style scoped>\n",
              "    .dataframe tbody tr th:only-of-type {\n",
              "        vertical-align: middle;\n",
              "    }\n",
              "\n",
              "    .dataframe tbody tr th {\n",
              "        vertical-align: top;\n",
              "    }\n",
              "\n",
              "    .dataframe thead th {\n",
              "        text-align: right;\n",
              "    }\n",
              "</style>\n",
              "<table border=\"1\" class=\"dataframe\">\n",
              "  <thead>\n",
              "    <tr style=\"text-align: right;\">\n",
              "      <th></th>\n",
              "      <th>code</th>\n",
              "      <th>type</th>\n",
              "      <th>pitch_type</th>\n",
              "      <th>b_score</th>\n",
              "      <th>s_count</th>\n",
              "      <th>outs</th>\n",
              "      <th>pitch_num</th>\n",
              "      <th>on_1b</th>\n",
              "      <th>on_2b</th>\n",
              "      <th>on_3b</th>\n",
              "      <th>batter_id</th>\n",
              "      <th>inning</th>\n",
              "      <th>p_score</th>\n",
              "      <th>p_throws</th>\n",
              "      <th>pitcher_id</th>\n",
              "      <th>stand</th>\n",
              "      <th>top</th>\n",
              "    </tr>\n",
              "  </thead>\n",
              "  <tbody>\n",
              "    <tr>\n",
              "      <th>2142710</th>\n",
              "      <td>C</td>\n",
              "      <td>S</td>\n",
              "      <td>SI</td>\n",
              "      <td>0.0</td>\n",
              "      <td>0.0</td>\n",
              "      <td>0.0</td>\n",
              "      <td>1.0</td>\n",
              "      <td>0.0</td>\n",
              "      <td>0.0</td>\n",
              "      <td>0.0</td>\n",
              "      <td>446359</td>\n",
              "      <td>1</td>\n",
              "      <td>0</td>\n",
              "      <td>R</td>\n",
              "      <td>608665</td>\n",
              "      <td>R</td>\n",
              "      <td>True</td>\n",
              "    </tr>\n",
              "    <tr>\n",
              "      <th>2142711</th>\n",
              "      <td>B</td>\n",
              "      <td>B</td>\n",
              "      <td>SI</td>\n",
              "      <td>0.0</td>\n",
              "      <td>1.0</td>\n",
              "      <td>0.0</td>\n",
              "      <td>2.0</td>\n",
              "      <td>0.0</td>\n",
              "      <td>0.0</td>\n",
              "      <td>0.0</td>\n",
              "      <td>446359</td>\n",
              "      <td>1</td>\n",
              "      <td>0</td>\n",
              "      <td>R</td>\n",
              "      <td>608665</td>\n",
              "      <td>R</td>\n",
              "      <td>True</td>\n",
              "    </tr>\n",
              "    <tr>\n",
              "      <th>2142712</th>\n",
              "      <td>C</td>\n",
              "      <td>S</td>\n",
              "      <td>SI</td>\n",
              "      <td>0.0</td>\n",
              "      <td>1.0</td>\n",
              "      <td>0.0</td>\n",
              "      <td>3.0</td>\n",
              "      <td>0.0</td>\n",
              "      <td>0.0</td>\n",
              "      <td>0.0</td>\n",
              "      <td>446359</td>\n",
              "      <td>1</td>\n",
              "      <td>0</td>\n",
              "      <td>R</td>\n",
              "      <td>608665</td>\n",
              "      <td>R</td>\n",
              "      <td>True</td>\n",
              "    </tr>\n",
              "    <tr>\n",
              "      <th>2142713</th>\n",
              "      <td>F</td>\n",
              "      <td>S</td>\n",
              "      <td>SL</td>\n",
              "      <td>0.0</td>\n",
              "      <td>2.0</td>\n",
              "      <td>0.0</td>\n",
              "      <td>4.0</td>\n",
              "      <td>0.0</td>\n",
              "      <td>0.0</td>\n",
              "      <td>0.0</td>\n",
              "      <td>446359</td>\n",
              "      <td>1</td>\n",
              "      <td>0</td>\n",
              "      <td>R</td>\n",
              "      <td>608665</td>\n",
              "      <td>R</td>\n",
              "      <td>True</td>\n",
              "    </tr>\n",
              "    <tr>\n",
              "      <th>2142714</th>\n",
              "      <td>S</td>\n",
              "      <td>S</td>\n",
              "      <td>SI</td>\n",
              "      <td>0.0</td>\n",
              "      <td>2.0</td>\n",
              "      <td>0.0</td>\n",
              "      <td>5.0</td>\n",
              "      <td>0.0</td>\n",
              "      <td>0.0</td>\n",
              "      <td>0.0</td>\n",
              "      <td>446359</td>\n",
              "      <td>1</td>\n",
              "      <td>0</td>\n",
              "      <td>R</td>\n",
              "      <td>608665</td>\n",
              "      <td>R</td>\n",
              "      <td>True</td>\n",
              "    </tr>\n",
              "    <tr>\n",
              "      <th>2142715</th>\n",
              "      <td>C</td>\n",
              "      <td>S</td>\n",
              "      <td>SI</td>\n",
              "      <td>0.0</td>\n",
              "      <td>0.0</td>\n",
              "      <td>1.0</td>\n",
              "      <td>1.0</td>\n",
              "      <td>0.0</td>\n",
              "      <td>0.0</td>\n",
              "      <td>0.0</td>\n",
              "      <td>545361</td>\n",
              "      <td>1</td>\n",
              "      <td>0</td>\n",
              "      <td>R</td>\n",
              "      <td>608665</td>\n",
              "      <td>R</td>\n",
              "      <td>True</td>\n",
              "    </tr>\n",
              "    <tr>\n",
              "      <th>2142716</th>\n",
              "      <td>B</td>\n",
              "      <td>B</td>\n",
              "      <td>FF</td>\n",
              "      <td>0.0</td>\n",
              "      <td>1.0</td>\n",
              "      <td>1.0</td>\n",
              "      <td>2.0</td>\n",
              "      <td>0.0</td>\n",
              "      <td>0.0</td>\n",
              "      <td>0.0</td>\n",
              "      <td>545361</td>\n",
              "      <td>1</td>\n",
              "      <td>0</td>\n",
              "      <td>R</td>\n",
              "      <td>608665</td>\n",
              "      <td>R</td>\n",
              "      <td>True</td>\n",
              "    </tr>\n",
              "    <tr>\n",
              "      <th>2142717</th>\n",
              "      <td>T</td>\n",
              "      <td>S</td>\n",
              "      <td>FC</td>\n",
              "      <td>0.0</td>\n",
              "      <td>1.0</td>\n",
              "      <td>1.0</td>\n",
              "      <td>3.0</td>\n",
              "      <td>0.0</td>\n",
              "      <td>0.0</td>\n",
              "      <td>0.0</td>\n",
              "      <td>545361</td>\n",
              "      <td>1</td>\n",
              "      <td>0</td>\n",
              "      <td>R</td>\n",
              "      <td>608665</td>\n",
              "      <td>R</td>\n",
              "      <td>True</td>\n",
              "    </tr>\n",
              "    <tr>\n",
              "      <th>2142718</th>\n",
              "      <td>X</td>\n",
              "      <td>X</td>\n",
              "      <td>SI</td>\n",
              "      <td>0.0</td>\n",
              "      <td>2.0</td>\n",
              "      <td>1.0</td>\n",
              "      <td>4.0</td>\n",
              "      <td>0.0</td>\n",
              "      <td>0.0</td>\n",
              "      <td>0.0</td>\n",
              "      <td>545361</td>\n",
              "      <td>1</td>\n",
              "      <td>0</td>\n",
              "      <td>R</td>\n",
              "      <td>608665</td>\n",
              "      <td>R</td>\n",
              "      <td>True</td>\n",
              "    </tr>\n",
              "    <tr>\n",
              "      <th>2142719</th>\n",
              "      <td>C</td>\n",
              "      <td>S</td>\n",
              "      <td>SI</td>\n",
              "      <td>0.0</td>\n",
              "      <td>0.0</td>\n",
              "      <td>2.0</td>\n",
              "      <td>1.0</td>\n",
              "      <td>0.0</td>\n",
              "      <td>0.0</td>\n",
              "      <td>0.0</td>\n",
              "      <td>457708</td>\n",
              "      <td>1</td>\n",
              "      <td>0</td>\n",
              "      <td>R</td>\n",
              "      <td>608665</td>\n",
              "      <td>R</td>\n",
              "      <td>True</td>\n",
              "    </tr>\n",
              "    <tr>\n",
              "      <th>2142720</th>\n",
              "      <td>F</td>\n",
              "      <td>S</td>\n",
              "      <td>SI</td>\n",
              "      <td>0.0</td>\n",
              "      <td>1.0</td>\n",
              "      <td>2.0</td>\n",
              "      <td>2.0</td>\n",
              "      <td>0.0</td>\n",
              "      <td>0.0</td>\n",
              "      <td>0.0</td>\n",
              "      <td>457708</td>\n",
              "      <td>1</td>\n",
              "      <td>0</td>\n",
              "      <td>R</td>\n",
              "      <td>608665</td>\n",
              "      <td>R</td>\n",
              "      <td>True</td>\n",
              "    </tr>\n",
              "    <tr>\n",
              "      <th>2142721</th>\n",
              "      <td>B</td>\n",
              "      <td>B</td>\n",
              "      <td>FF</td>\n",
              "      <td>0.0</td>\n",
              "      <td>2.0</td>\n",
              "      <td>2.0</td>\n",
              "      <td>3.0</td>\n",
              "      <td>0.0</td>\n",
              "      <td>0.0</td>\n",
              "      <td>0.0</td>\n",
              "      <td>457708</td>\n",
              "      <td>1</td>\n",
              "      <td>0</td>\n",
              "      <td>R</td>\n",
              "      <td>608665</td>\n",
              "      <td>R</td>\n",
              "      <td>True</td>\n",
              "    </tr>\n",
              "    <tr>\n",
              "      <th>2142722</th>\n",
              "      <td>B</td>\n",
              "      <td>B</td>\n",
              "      <td>FC</td>\n",
              "      <td>0.0</td>\n",
              "      <td>2.0</td>\n",
              "      <td>2.0</td>\n",
              "      <td>4.0</td>\n",
              "      <td>0.0</td>\n",
              "      <td>0.0</td>\n",
              "      <td>0.0</td>\n",
              "      <td>457708</td>\n",
              "      <td>1</td>\n",
              "      <td>0</td>\n",
              "      <td>R</td>\n",
              "      <td>608665</td>\n",
              "      <td>R</td>\n",
              "      <td>True</td>\n",
              "    </tr>\n",
              "    <tr>\n",
              "      <th>2142723</th>\n",
              "      <td>X</td>\n",
              "      <td>X</td>\n",
              "      <td>SI</td>\n",
              "      <td>0.0</td>\n",
              "      <td>2.0</td>\n",
              "      <td>2.0</td>\n",
              "      <td>5.0</td>\n",
              "      <td>0.0</td>\n",
              "      <td>0.0</td>\n",
              "      <td>0.0</td>\n",
              "      <td>457708</td>\n",
              "      <td>1</td>\n",
              "      <td>0</td>\n",
              "      <td>R</td>\n",
              "      <td>608665</td>\n",
              "      <td>R</td>\n",
              "      <td>True</td>\n",
              "    </tr>\n",
              "    <tr>\n",
              "      <th>2142724</th>\n",
              "      <td>D</td>\n",
              "      <td>X</td>\n",
              "      <td>FF</td>\n",
              "      <td>0.0</td>\n",
              "      <td>0.0</td>\n",
              "      <td>0.0</td>\n",
              "      <td>1.0</td>\n",
              "      <td>0.0</td>\n",
              "      <td>0.0</td>\n",
              "      <td>0.0</td>\n",
              "      <td>459964</td>\n",
              "      <td>1</td>\n",
              "      <td>0</td>\n",
              "      <td>R</td>\n",
              "      <td>572070</td>\n",
              "      <td>L</td>\n",
              "      <td>False</td>\n",
              "    </tr>\n",
              "    <tr>\n",
              "      <th>2142725</th>\n",
              "      <td>B</td>\n",
              "      <td>B</td>\n",
              "      <td>FF</td>\n",
              "      <td>0.0</td>\n",
              "      <td>0.0</td>\n",
              "      <td>0.0</td>\n",
              "      <td>1.0</td>\n",
              "      <td>1.0</td>\n",
              "      <td>0.0</td>\n",
              "      <td>0.0</td>\n",
              "      <td>543760</td>\n",
              "      <td>1</td>\n",
              "      <td>0</td>\n",
              "      <td>R</td>\n",
              "      <td>572070</td>\n",
              "      <td>R</td>\n",
              "      <td>False</td>\n",
              "    </tr>\n",
              "    <tr>\n",
              "      <th>2142726</th>\n",
              "      <td>D</td>\n",
              "      <td>X</td>\n",
              "      <td>FF</td>\n",
              "      <td>0.0</td>\n",
              "      <td>0.0</td>\n",
              "      <td>0.0</td>\n",
              "      <td>2.0</td>\n",
              "      <td>1.0</td>\n",
              "      <td>0.0</td>\n",
              "      <td>0.0</td>\n",
              "      <td>543760</td>\n",
              "      <td>1</td>\n",
              "      <td>0</td>\n",
              "      <td>R</td>\n",
              "      <td>572070</td>\n",
              "      <td>R</td>\n",
              "      <td>False</td>\n",
              "    </tr>\n",
              "    <tr>\n",
              "      <th>2142727</th>\n",
              "      <td>F</td>\n",
              "      <td>S</td>\n",
              "      <td>FF</td>\n",
              "      <td>0.0</td>\n",
              "      <td>0.0</td>\n",
              "      <td>0.0</td>\n",
              "      <td>1.0</td>\n",
              "      <td>1.0</td>\n",
              "      <td>0.0</td>\n",
              "      <td>1.0</td>\n",
              "      <td>476704</td>\n",
              "      <td>1</td>\n",
              "      <td>0</td>\n",
              "      <td>R</td>\n",
              "      <td>572070</td>\n",
              "      <td>L</td>\n",
              "      <td>False</td>\n",
              "    </tr>\n",
              "    <tr>\n",
              "      <th>2142728</th>\n",
              "      <td>*B</td>\n",
              "      <td>B</td>\n",
              "      <td>SL</td>\n",
              "      <td>0.0</td>\n",
              "      <td>1.0</td>\n",
              "      <td>0.0</td>\n",
              "      <td>2.0</td>\n",
              "      <td>1.0</td>\n",
              "      <td>0.0</td>\n",
              "      <td>1.0</td>\n",
              "      <td>476704</td>\n",
              "      <td>1</td>\n",
              "      <td>0</td>\n",
              "      <td>R</td>\n",
              "      <td>572070</td>\n",
              "      <td>L</td>\n",
              "      <td>False</td>\n",
              "    </tr>\n",
              "    <tr>\n",
              "      <th>2142729</th>\n",
              "      <td>C</td>\n",
              "      <td>S</td>\n",
              "      <td>SL</td>\n",
              "      <td>0.0</td>\n",
              "      <td>1.0</td>\n",
              "      <td>0.0</td>\n",
              "      <td>3.0</td>\n",
              "      <td>1.0</td>\n",
              "      <td>0.0</td>\n",
              "      <td>1.0</td>\n",
              "      <td>476704</td>\n",
              "      <td>1</td>\n",
              "      <td>0</td>\n",
              "      <td>R</td>\n",
              "      <td>572070</td>\n",
              "      <td>L</td>\n",
              "      <td>False</td>\n",
              "    </tr>\n",
              "    <tr>\n",
              "      <th>2142730</th>\n",
              "      <td>*B</td>\n",
              "      <td>B</td>\n",
              "      <td>CU</td>\n",
              "      <td>0.0</td>\n",
              "      <td>2.0</td>\n",
              "      <td>0.0</td>\n",
              "      <td>4.0</td>\n",
              "      <td>1.0</td>\n",
              "      <td>0.0</td>\n",
              "      <td>1.0</td>\n",
              "      <td>476704</td>\n",
              "      <td>1</td>\n",
              "      <td>0</td>\n",
              "      <td>R</td>\n",
              "      <td>572070</td>\n",
              "      <td>L</td>\n",
              "      <td>False</td>\n",
              "    </tr>\n",
              "    <tr>\n",
              "      <th>2142731</th>\n",
              "      <td>X</td>\n",
              "      <td>X</td>\n",
              "      <td>FF</td>\n",
              "      <td>0.0</td>\n",
              "      <td>2.0</td>\n",
              "      <td>0.0</td>\n",
              "      <td>5.0</td>\n",
              "      <td>1.0</td>\n",
              "      <td>0.0</td>\n",
              "      <td>1.0</td>\n",
              "      <td>476704</td>\n",
              "      <td>1</td>\n",
              "      <td>0</td>\n",
              "      <td>R</td>\n",
              "      <td>572070</td>\n",
              "      <td>L</td>\n",
              "      <td>False</td>\n",
              "    </tr>\n",
              "    <tr>\n",
              "      <th>2142732</th>\n",
              "      <td>S</td>\n",
              "      <td>S</td>\n",
              "      <td>SL</td>\n",
              "      <td>0.0</td>\n",
              "      <td>0.0</td>\n",
              "      <td>1.0</td>\n",
              "      <td>1.0</td>\n",
              "      <td>1.0</td>\n",
              "      <td>1.0</td>\n",
              "      <td>0.0</td>\n",
              "      <td>501981</td>\n",
              "      <td>1</td>\n",
              "      <td>0</td>\n",
              "      <td>R</td>\n",
              "      <td>572070</td>\n",
              "      <td>R</td>\n",
              "      <td>False</td>\n",
              "    </tr>\n",
              "    <tr>\n",
              "      <th>2142733</th>\n",
              "      <td>S</td>\n",
              "      <td>S</td>\n",
              "      <td>SL</td>\n",
              "      <td>0.0</td>\n",
              "      <td>1.0</td>\n",
              "      <td>1.0</td>\n",
              "      <td>2.0</td>\n",
              "      <td>1.0</td>\n",
              "      <td>1.0</td>\n",
              "      <td>0.0</td>\n",
              "      <td>501981</td>\n",
              "      <td>1</td>\n",
              "      <td>0</td>\n",
              "      <td>R</td>\n",
              "      <td>572070</td>\n",
              "      <td>R</td>\n",
              "      <td>False</td>\n",
              "    </tr>\n",
              "    <tr>\n",
              "      <th>2142734</th>\n",
              "      <td>F</td>\n",
              "      <td>S</td>\n",
              "      <td>SL</td>\n",
              "      <td>0.0</td>\n",
              "      <td>2.0</td>\n",
              "      <td>1.0</td>\n",
              "      <td>3.0</td>\n",
              "      <td>1.0</td>\n",
              "      <td>1.0</td>\n",
              "      <td>0.0</td>\n",
              "      <td>501981</td>\n",
              "      <td>1</td>\n",
              "      <td>0</td>\n",
              "      <td>R</td>\n",
              "      <td>572070</td>\n",
              "      <td>R</td>\n",
              "      <td>False</td>\n",
              "    </tr>\n",
              "    <tr>\n",
              "      <th>2142735</th>\n",
              "      <td>X</td>\n",
              "      <td>X</td>\n",
              "      <td>FF</td>\n",
              "      <td>0.0</td>\n",
              "      <td>2.0</td>\n",
              "      <td>1.0</td>\n",
              "      <td>4.0</td>\n",
              "      <td>1.0</td>\n",
              "      <td>1.0</td>\n",
              "      <td>0.0</td>\n",
              "      <td>501981</td>\n",
              "      <td>1</td>\n",
              "      <td>0</td>\n",
              "      <td>R</td>\n",
              "      <td>572070</td>\n",
              "      <td>R</td>\n",
              "      <td>False</td>\n",
              "    </tr>\n",
              "    <tr>\n",
              "      <th>2142736</th>\n",
              "      <td>B</td>\n",
              "      <td>B</td>\n",
              "      <td>SL</td>\n",
              "      <td>0.0</td>\n",
              "      <td>0.0</td>\n",
              "      <td>2.0</td>\n",
              "      <td>1.0</td>\n",
              "      <td>1.0</td>\n",
              "      <td>1.0</td>\n",
              "      <td>0.0</td>\n",
              "      <td>621566</td>\n",
              "      <td>1</td>\n",
              "      <td>0</td>\n",
              "      <td>R</td>\n",
              "      <td>572070</td>\n",
              "      <td>L</td>\n",
              "      <td>False</td>\n",
              "    </tr>\n",
              "    <tr>\n",
              "      <th>2142737</th>\n",
              "      <td>C</td>\n",
              "      <td>S</td>\n",
              "      <td>SL</td>\n",
              "      <td>0.0</td>\n",
              "      <td>0.0</td>\n",
              "      <td>2.0</td>\n",
              "      <td>2.0</td>\n",
              "      <td>1.0</td>\n",
              "      <td>1.0</td>\n",
              "      <td>0.0</td>\n",
              "      <td>621566</td>\n",
              "      <td>1</td>\n",
              "      <td>0</td>\n",
              "      <td>R</td>\n",
              "      <td>572070</td>\n",
              "      <td>L</td>\n",
              "      <td>False</td>\n",
              "    </tr>\n",
              "    <tr>\n",
              "      <th>2142738</th>\n",
              "      <td>B</td>\n",
              "      <td>B</td>\n",
              "      <td>FF</td>\n",
              "      <td>0.0</td>\n",
              "      <td>1.0</td>\n",
              "      <td>2.0</td>\n",
              "      <td>3.0</td>\n",
              "      <td>1.0</td>\n",
              "      <td>1.0</td>\n",
              "      <td>0.0</td>\n",
              "      <td>621566</td>\n",
              "      <td>1</td>\n",
              "      <td>0</td>\n",
              "      <td>R</td>\n",
              "      <td>572070</td>\n",
              "      <td>L</td>\n",
              "      <td>False</td>\n",
              "    </tr>\n",
              "    <tr>\n",
              "      <th>2142739</th>\n",
              "      <td>F</td>\n",
              "      <td>S</td>\n",
              "      <td>SL</td>\n",
              "      <td>0.0</td>\n",
              "      <td>1.0</td>\n",
              "      <td>2.0</td>\n",
              "      <td>4.0</td>\n",
              "      <td>1.0</td>\n",
              "      <td>1.0</td>\n",
              "      <td>0.0</td>\n",
              "      <td>621566</td>\n",
              "      <td>1</td>\n",
              "      <td>0</td>\n",
              "      <td>R</td>\n",
              "      <td>572070</td>\n",
              "      <td>L</td>\n",
              "      <td>False</td>\n",
              "    </tr>\n",
              "    <tr>\n",
              "      <th>...</th>\n",
              "      <td>...</td>\n",
              "      <td>...</td>\n",
              "      <td>...</td>\n",
              "      <td>...</td>\n",
              "      <td>...</td>\n",
              "      <td>...</td>\n",
              "      <td>...</td>\n",
              "      <td>...</td>\n",
              "      <td>...</td>\n",
              "      <td>...</td>\n",
              "      <td>...</td>\n",
              "      <td>...</td>\n",
              "      <td>...</td>\n",
              "      <td>...</td>\n",
              "      <td>...</td>\n",
              "      <td>...</td>\n",
              "      <td>...</td>\n",
              "    </tr>\n",
              "    <tr>\n",
              "      <th>2867124</th>\n",
              "      <td>B</td>\n",
              "      <td>B</td>\n",
              "      <td>FF</td>\n",
              "      <td>3.0</td>\n",
              "      <td>0.0</td>\n",
              "      <td>1.0</td>\n",
              "      <td>2.0</td>\n",
              "      <td>1.0</td>\n",
              "      <td>0.0</td>\n",
              "      <td>0.0</td>\n",
              "      <td>456124</td>\n",
              "      <td>9</td>\n",
              "      <td>1</td>\n",
              "      <td>L</td>\n",
              "      <td>448802</td>\n",
              "      <td>R</td>\n",
              "      <td>True</td>\n",
              "    </tr>\n",
              "    <tr>\n",
              "      <th>2867125</th>\n",
              "      <td>C</td>\n",
              "      <td>S</td>\n",
              "      <td>FF</td>\n",
              "      <td>3.0</td>\n",
              "      <td>0.0</td>\n",
              "      <td>1.0</td>\n",
              "      <td>3.0</td>\n",
              "      <td>1.0</td>\n",
              "      <td>0.0</td>\n",
              "      <td>0.0</td>\n",
              "      <td>456124</td>\n",
              "      <td>9</td>\n",
              "      <td>1</td>\n",
              "      <td>L</td>\n",
              "      <td>448802</td>\n",
              "      <td>R</td>\n",
              "      <td>True</td>\n",
              "    </tr>\n",
              "    <tr>\n",
              "      <th>2867126</th>\n",
              "      <td>X</td>\n",
              "      <td>X</td>\n",
              "      <td>FF</td>\n",
              "      <td>3.0</td>\n",
              "      <td>1.0</td>\n",
              "      <td>1.0</td>\n",
              "      <td>4.0</td>\n",
              "      <td>1.0</td>\n",
              "      <td>0.0</td>\n",
              "      <td>0.0</td>\n",
              "      <td>456124</td>\n",
              "      <td>9</td>\n",
              "      <td>1</td>\n",
              "      <td>L</td>\n",
              "      <td>448802</td>\n",
              "      <td>R</td>\n",
              "      <td>True</td>\n",
              "    </tr>\n",
              "    <tr>\n",
              "      <th>2867127</th>\n",
              "      <td>B</td>\n",
              "      <td>B</td>\n",
              "      <td>FT</td>\n",
              "      <td>3.0</td>\n",
              "      <td>0.0</td>\n",
              "      <td>2.0</td>\n",
              "      <td>1.0</td>\n",
              "      <td>1.0</td>\n",
              "      <td>0.0</td>\n",
              "      <td>0.0</td>\n",
              "      <td>606115</td>\n",
              "      <td>9</td>\n",
              "      <td>1</td>\n",
              "      <td>L</td>\n",
              "      <td>448802</td>\n",
              "      <td>R</td>\n",
              "      <td>True</td>\n",
              "    </tr>\n",
              "    <tr>\n",
              "      <th>2867128</th>\n",
              "      <td>F</td>\n",
              "      <td>S</td>\n",
              "      <td>FF</td>\n",
              "      <td>3.0</td>\n",
              "      <td>0.0</td>\n",
              "      <td>2.0</td>\n",
              "      <td>2.0</td>\n",
              "      <td>1.0</td>\n",
              "      <td>0.0</td>\n",
              "      <td>0.0</td>\n",
              "      <td>606115</td>\n",
              "      <td>9</td>\n",
              "      <td>1</td>\n",
              "      <td>L</td>\n",
              "      <td>448802</td>\n",
              "      <td>R</td>\n",
              "      <td>True</td>\n",
              "    </tr>\n",
              "    <tr>\n",
              "      <th>2867129</th>\n",
              "      <td>D</td>\n",
              "      <td>X</td>\n",
              "      <td>FF</td>\n",
              "      <td>3.0</td>\n",
              "      <td>1.0</td>\n",
              "      <td>2.0</td>\n",
              "      <td>3.0</td>\n",
              "      <td>1.0</td>\n",
              "      <td>0.0</td>\n",
              "      <td>0.0</td>\n",
              "      <td>606115</td>\n",
              "      <td>9</td>\n",
              "      <td>1</td>\n",
              "      <td>L</td>\n",
              "      <td>448802</td>\n",
              "      <td>R</td>\n",
              "      <td>True</td>\n",
              "    </tr>\n",
              "    <tr>\n",
              "      <th>2867130</th>\n",
              "      <td>B</td>\n",
              "      <td>B</td>\n",
              "      <td>FT</td>\n",
              "      <td>3.0</td>\n",
              "      <td>0.0</td>\n",
              "      <td>2.0</td>\n",
              "      <td>1.0</td>\n",
              "      <td>1.0</td>\n",
              "      <td>1.0</td>\n",
              "      <td>0.0</td>\n",
              "      <td>543768</td>\n",
              "      <td>9</td>\n",
              "      <td>1</td>\n",
              "      <td>L</td>\n",
              "      <td>448802</td>\n",
              "      <td>L</td>\n",
              "      <td>True</td>\n",
              "    </tr>\n",
              "    <tr>\n",
              "      <th>2867131</th>\n",
              "      <td>S</td>\n",
              "      <td>S</td>\n",
              "      <td>FT</td>\n",
              "      <td>3.0</td>\n",
              "      <td>0.0</td>\n",
              "      <td>2.0</td>\n",
              "      <td>2.0</td>\n",
              "      <td>1.0</td>\n",
              "      <td>1.0</td>\n",
              "      <td>0.0</td>\n",
              "      <td>543768</td>\n",
              "      <td>9</td>\n",
              "      <td>1</td>\n",
              "      <td>L</td>\n",
              "      <td>448802</td>\n",
              "      <td>L</td>\n",
              "      <td>True</td>\n",
              "    </tr>\n",
              "    <tr>\n",
              "      <th>2867132</th>\n",
              "      <td>X</td>\n",
              "      <td>X</td>\n",
              "      <td>SL</td>\n",
              "      <td>3.0</td>\n",
              "      <td>1.0</td>\n",
              "      <td>2.0</td>\n",
              "      <td>3.0</td>\n",
              "      <td>1.0</td>\n",
              "      <td>1.0</td>\n",
              "      <td>0.0</td>\n",
              "      <td>543768</td>\n",
              "      <td>9</td>\n",
              "      <td>1</td>\n",
              "      <td>L</td>\n",
              "      <td>448802</td>\n",
              "      <td>L</td>\n",
              "      <td>True</td>\n",
              "    </tr>\n",
              "    <tr>\n",
              "      <th>2867133</th>\n",
              "      <td>C</td>\n",
              "      <td>S</td>\n",
              "      <td>FF</td>\n",
              "      <td>1.0</td>\n",
              "      <td>0.0</td>\n",
              "      <td>0.0</td>\n",
              "      <td>1.0</td>\n",
              "      <td>0.0</td>\n",
              "      <td>0.0</td>\n",
              "      <td>0.0</td>\n",
              "      <td>502517</td>\n",
              "      <td>9</td>\n",
              "      <td>3</td>\n",
              "      <td>L</td>\n",
              "      <td>623352</td>\n",
              "      <td>L</td>\n",
              "      <td>False</td>\n",
              "    </tr>\n",
              "    <tr>\n",
              "      <th>2867134</th>\n",
              "      <td>S</td>\n",
              "      <td>S</td>\n",
              "      <td>SL</td>\n",
              "      <td>1.0</td>\n",
              "      <td>1.0</td>\n",
              "      <td>0.0</td>\n",
              "      <td>2.0</td>\n",
              "      <td>0.0</td>\n",
              "      <td>0.0</td>\n",
              "      <td>0.0</td>\n",
              "      <td>502517</td>\n",
              "      <td>9</td>\n",
              "      <td>3</td>\n",
              "      <td>L</td>\n",
              "      <td>623352</td>\n",
              "      <td>L</td>\n",
              "      <td>False</td>\n",
              "    </tr>\n",
              "    <tr>\n",
              "      <th>2867135</th>\n",
              "      <td>F</td>\n",
              "      <td>S</td>\n",
              "      <td>FF</td>\n",
              "      <td>1.0</td>\n",
              "      <td>2.0</td>\n",
              "      <td>0.0</td>\n",
              "      <td>3.0</td>\n",
              "      <td>0.0</td>\n",
              "      <td>0.0</td>\n",
              "      <td>0.0</td>\n",
              "      <td>502517</td>\n",
              "      <td>9</td>\n",
              "      <td>3</td>\n",
              "      <td>L</td>\n",
              "      <td>623352</td>\n",
              "      <td>L</td>\n",
              "      <td>False</td>\n",
              "    </tr>\n",
              "    <tr>\n",
              "      <th>2867136</th>\n",
              "      <td>S</td>\n",
              "      <td>S</td>\n",
              "      <td>FF</td>\n",
              "      <td>1.0</td>\n",
              "      <td>2.0</td>\n",
              "      <td>0.0</td>\n",
              "      <td>4.0</td>\n",
              "      <td>0.0</td>\n",
              "      <td>0.0</td>\n",
              "      <td>0.0</td>\n",
              "      <td>502517</td>\n",
              "      <td>9</td>\n",
              "      <td>3</td>\n",
              "      <td>L</td>\n",
              "      <td>623352</td>\n",
              "      <td>L</td>\n",
              "      <td>False</td>\n",
              "    </tr>\n",
              "    <tr>\n",
              "      <th>2867137</th>\n",
              "      <td>F</td>\n",
              "      <td>S</td>\n",
              "      <td>FF</td>\n",
              "      <td>1.0</td>\n",
              "      <td>0.0</td>\n",
              "      <td>1.0</td>\n",
              "      <td>1.0</td>\n",
              "      <td>0.0</td>\n",
              "      <td>0.0</td>\n",
              "      <td>0.0</td>\n",
              "      <td>450314</td>\n",
              "      <td>9</td>\n",
              "      <td>3</td>\n",
              "      <td>L</td>\n",
              "      <td>623352</td>\n",
              "      <td>R</td>\n",
              "      <td>False</td>\n",
              "    </tr>\n",
              "    <tr>\n",
              "      <th>2867138</th>\n",
              "      <td>B</td>\n",
              "      <td>B</td>\n",
              "      <td>FF</td>\n",
              "      <td>1.0</td>\n",
              "      <td>1.0</td>\n",
              "      <td>1.0</td>\n",
              "      <td>2.0</td>\n",
              "      <td>0.0</td>\n",
              "      <td>0.0</td>\n",
              "      <td>0.0</td>\n",
              "      <td>450314</td>\n",
              "      <td>9</td>\n",
              "      <td>3</td>\n",
              "      <td>L</td>\n",
              "      <td>623352</td>\n",
              "      <td>R</td>\n",
              "      <td>False</td>\n",
              "    </tr>\n",
              "    <tr>\n",
              "      <th>2867139</th>\n",
              "      <td>B</td>\n",
              "      <td>B</td>\n",
              "      <td>SL</td>\n",
              "      <td>1.0</td>\n",
              "      <td>1.0</td>\n",
              "      <td>1.0</td>\n",
              "      <td>3.0</td>\n",
              "      <td>0.0</td>\n",
              "      <td>0.0</td>\n",
              "      <td>0.0</td>\n",
              "      <td>450314</td>\n",
              "      <td>9</td>\n",
              "      <td>3</td>\n",
              "      <td>L</td>\n",
              "      <td>623352</td>\n",
              "      <td>R</td>\n",
              "      <td>False</td>\n",
              "    </tr>\n",
              "    <tr>\n",
              "      <th>2867140</th>\n",
              "      <td>X</td>\n",
              "      <td>X</td>\n",
              "      <td>FF</td>\n",
              "      <td>1.0</td>\n",
              "      <td>1.0</td>\n",
              "      <td>1.0</td>\n",
              "      <td>4.0</td>\n",
              "      <td>0.0</td>\n",
              "      <td>0.0</td>\n",
              "      <td>0.0</td>\n",
              "      <td>450314</td>\n",
              "      <td>9</td>\n",
              "      <td>3</td>\n",
              "      <td>L</td>\n",
              "      <td>623352</td>\n",
              "      <td>R</td>\n",
              "      <td>False</td>\n",
              "    </tr>\n",
              "    <tr>\n",
              "      <th>2867141</th>\n",
              "      <td>B</td>\n",
              "      <td>B</td>\n",
              "      <td>SL</td>\n",
              "      <td>1.0</td>\n",
              "      <td>0.0</td>\n",
              "      <td>2.0</td>\n",
              "      <td>1.0</td>\n",
              "      <td>0.0</td>\n",
              "      <td>0.0</td>\n",
              "      <td>0.0</td>\n",
              "      <td>595879</td>\n",
              "      <td>9</td>\n",
              "      <td>3</td>\n",
              "      <td>L</td>\n",
              "      <td>623352</td>\n",
              "      <td>R</td>\n",
              "      <td>False</td>\n",
              "    </tr>\n",
              "    <tr>\n",
              "      <th>2867142</th>\n",
              "      <td>B</td>\n",
              "      <td>B</td>\n",
              "      <td>FF</td>\n",
              "      <td>1.0</td>\n",
              "      <td>0.0</td>\n",
              "      <td>2.0</td>\n",
              "      <td>2.0</td>\n",
              "      <td>0.0</td>\n",
              "      <td>0.0</td>\n",
              "      <td>0.0</td>\n",
              "      <td>595879</td>\n",
              "      <td>9</td>\n",
              "      <td>3</td>\n",
              "      <td>L</td>\n",
              "      <td>623352</td>\n",
              "      <td>R</td>\n",
              "      <td>False</td>\n",
              "    </tr>\n",
              "    <tr>\n",
              "      <th>2867143</th>\n",
              "      <td>B</td>\n",
              "      <td>B</td>\n",
              "      <td>FF</td>\n",
              "      <td>1.0</td>\n",
              "      <td>0.0</td>\n",
              "      <td>2.0</td>\n",
              "      <td>3.0</td>\n",
              "      <td>0.0</td>\n",
              "      <td>0.0</td>\n",
              "      <td>0.0</td>\n",
              "      <td>595879</td>\n",
              "      <td>9</td>\n",
              "      <td>3</td>\n",
              "      <td>L</td>\n",
              "      <td>623352</td>\n",
              "      <td>R</td>\n",
              "      <td>False</td>\n",
              "    </tr>\n",
              "    <tr>\n",
              "      <th>2867144</th>\n",
              "      <td>C</td>\n",
              "      <td>S</td>\n",
              "      <td>FF</td>\n",
              "      <td>1.0</td>\n",
              "      <td>0.0</td>\n",
              "      <td>2.0</td>\n",
              "      <td>4.0</td>\n",
              "      <td>0.0</td>\n",
              "      <td>0.0</td>\n",
              "      <td>0.0</td>\n",
              "      <td>595879</td>\n",
              "      <td>9</td>\n",
              "      <td>3</td>\n",
              "      <td>L</td>\n",
              "      <td>623352</td>\n",
              "      <td>R</td>\n",
              "      <td>False</td>\n",
              "    </tr>\n",
              "    <tr>\n",
              "      <th>2867145</th>\n",
              "      <td>C</td>\n",
              "      <td>S</td>\n",
              "      <td>FF</td>\n",
              "      <td>1.0</td>\n",
              "      <td>1.0</td>\n",
              "      <td>2.0</td>\n",
              "      <td>5.0</td>\n",
              "      <td>0.0</td>\n",
              "      <td>0.0</td>\n",
              "      <td>0.0</td>\n",
              "      <td>595879</td>\n",
              "      <td>9</td>\n",
              "      <td>3</td>\n",
              "      <td>L</td>\n",
              "      <td>623352</td>\n",
              "      <td>R</td>\n",
              "      <td>False</td>\n",
              "    </tr>\n",
              "    <tr>\n",
              "      <th>2867146</th>\n",
              "      <td>F</td>\n",
              "      <td>S</td>\n",
              "      <td>FF</td>\n",
              "      <td>1.0</td>\n",
              "      <td>2.0</td>\n",
              "      <td>2.0</td>\n",
              "      <td>6.0</td>\n",
              "      <td>0.0</td>\n",
              "      <td>0.0</td>\n",
              "      <td>0.0</td>\n",
              "      <td>595879</td>\n",
              "      <td>9</td>\n",
              "      <td>3</td>\n",
              "      <td>L</td>\n",
              "      <td>623352</td>\n",
              "      <td>R</td>\n",
              "      <td>False</td>\n",
              "    </tr>\n",
              "    <tr>\n",
              "      <th>2867147</th>\n",
              "      <td>F</td>\n",
              "      <td>S</td>\n",
              "      <td>FF</td>\n",
              "      <td>1.0</td>\n",
              "      <td>2.0</td>\n",
              "      <td>2.0</td>\n",
              "      <td>7.0</td>\n",
              "      <td>0.0</td>\n",
              "      <td>0.0</td>\n",
              "      <td>0.0</td>\n",
              "      <td>595879</td>\n",
              "      <td>9</td>\n",
              "      <td>3</td>\n",
              "      <td>L</td>\n",
              "      <td>623352</td>\n",
              "      <td>R</td>\n",
              "      <td>False</td>\n",
              "    </tr>\n",
              "    <tr>\n",
              "      <th>2867148</th>\n",
              "      <td>F</td>\n",
              "      <td>S</td>\n",
              "      <td>FF</td>\n",
              "      <td>1.0</td>\n",
              "      <td>2.0</td>\n",
              "      <td>2.0</td>\n",
              "      <td>8.0</td>\n",
              "      <td>0.0</td>\n",
              "      <td>0.0</td>\n",
              "      <td>0.0</td>\n",
              "      <td>595879</td>\n",
              "      <td>9</td>\n",
              "      <td>3</td>\n",
              "      <td>L</td>\n",
              "      <td>623352</td>\n",
              "      <td>R</td>\n",
              "      <td>False</td>\n",
              "    </tr>\n",
              "    <tr>\n",
              "      <th>2867149</th>\n",
              "      <td>D</td>\n",
              "      <td>X</td>\n",
              "      <td>SL</td>\n",
              "      <td>1.0</td>\n",
              "      <td>2.0</td>\n",
              "      <td>2.0</td>\n",
              "      <td>9.0</td>\n",
              "      <td>0.0</td>\n",
              "      <td>0.0</td>\n",
              "      <td>0.0</td>\n",
              "      <td>595879</td>\n",
              "      <td>9</td>\n",
              "      <td>3</td>\n",
              "      <td>L</td>\n",
              "      <td>623352</td>\n",
              "      <td>R</td>\n",
              "      <td>False</td>\n",
              "    </tr>\n",
              "    <tr>\n",
              "      <th>2867150</th>\n",
              "      <td>B</td>\n",
              "      <td>B</td>\n",
              "      <td>FF</td>\n",
              "      <td>1.0</td>\n",
              "      <td>0.0</td>\n",
              "      <td>2.0</td>\n",
              "      <td>1.0</td>\n",
              "      <td>1.0</td>\n",
              "      <td>0.0</td>\n",
              "      <td>0.0</td>\n",
              "      <td>519203</td>\n",
              "      <td>9</td>\n",
              "      <td>3</td>\n",
              "      <td>L</td>\n",
              "      <td>623352</td>\n",
              "      <td>L</td>\n",
              "      <td>False</td>\n",
              "    </tr>\n",
              "    <tr>\n",
              "      <th>2867151</th>\n",
              "      <td>F</td>\n",
              "      <td>S</td>\n",
              "      <td>FF</td>\n",
              "      <td>1.0</td>\n",
              "      <td>0.0</td>\n",
              "      <td>2.0</td>\n",
              "      <td>2.0</td>\n",
              "      <td>0.0</td>\n",
              "      <td>1.0</td>\n",
              "      <td>0.0</td>\n",
              "      <td>519203</td>\n",
              "      <td>9</td>\n",
              "      <td>3</td>\n",
              "      <td>L</td>\n",
              "      <td>623352</td>\n",
              "      <td>L</td>\n",
              "      <td>False</td>\n",
              "    </tr>\n",
              "    <tr>\n",
              "      <th>2867152</th>\n",
              "      <td>S</td>\n",
              "      <td>S</td>\n",
              "      <td>FF</td>\n",
              "      <td>1.0</td>\n",
              "      <td>1.0</td>\n",
              "      <td>2.0</td>\n",
              "      <td>3.0</td>\n",
              "      <td>0.0</td>\n",
              "      <td>1.0</td>\n",
              "      <td>0.0</td>\n",
              "      <td>519203</td>\n",
              "      <td>9</td>\n",
              "      <td>3</td>\n",
              "      <td>L</td>\n",
              "      <td>623352</td>\n",
              "      <td>L</td>\n",
              "      <td>False</td>\n",
              "    </tr>\n",
              "    <tr>\n",
              "      <th>2867153</th>\n",
              "      <td>X</td>\n",
              "      <td>X</td>\n",
              "      <td>FF</td>\n",
              "      <td>1.0</td>\n",
              "      <td>2.0</td>\n",
              "      <td>2.0</td>\n",
              "      <td>4.0</td>\n",
              "      <td>0.0</td>\n",
              "      <td>1.0</td>\n",
              "      <td>0.0</td>\n",
              "      <td>519203</td>\n",
              "      <td>9</td>\n",
              "      <td>3</td>\n",
              "      <td>L</td>\n",
              "      <td>623352</td>\n",
              "      <td>L</td>\n",
              "      <td>False</td>\n",
              "    </tr>\n",
              "  </tbody>\n",
              "</table>\n",
              "<p>718322 rows × 17 columns</p>\n",
              "</div>"
            ],
            "text/plain": [
              "        code type pitch_type  b_score  ...  p_throws  pitcher_id  stand    top\n",
              "2142710    C    S         SI      0.0  ...         R      608665      R   True\n",
              "2142711    B    B         SI      0.0  ...         R      608665      R   True\n",
              "2142712    C    S         SI      0.0  ...         R      608665      R   True\n",
              "2142713    F    S         SL      0.0  ...         R      608665      R   True\n",
              "2142714    S    S         SI      0.0  ...         R      608665      R   True\n",
              "2142715    C    S         SI      0.0  ...         R      608665      R   True\n",
              "2142716    B    B         FF      0.0  ...         R      608665      R   True\n",
              "2142717    T    S         FC      0.0  ...         R      608665      R   True\n",
              "2142718    X    X         SI      0.0  ...         R      608665      R   True\n",
              "2142719    C    S         SI      0.0  ...         R      608665      R   True\n",
              "2142720    F    S         SI      0.0  ...         R      608665      R   True\n",
              "2142721    B    B         FF      0.0  ...         R      608665      R   True\n",
              "2142722    B    B         FC      0.0  ...         R      608665      R   True\n",
              "2142723    X    X         SI      0.0  ...         R      608665      R   True\n",
              "2142724    D    X         FF      0.0  ...         R      572070      L  False\n",
              "2142725    B    B         FF      0.0  ...         R      572070      R  False\n",
              "2142726    D    X         FF      0.0  ...         R      572070      R  False\n",
              "2142727    F    S         FF      0.0  ...         R      572070      L  False\n",
              "2142728   *B    B         SL      0.0  ...         R      572070      L  False\n",
              "2142729    C    S         SL      0.0  ...         R      572070      L  False\n",
              "2142730   *B    B         CU      0.0  ...         R      572070      L  False\n",
              "2142731    X    X         FF      0.0  ...         R      572070      L  False\n",
              "2142732    S    S         SL      0.0  ...         R      572070      R  False\n",
              "2142733    S    S         SL      0.0  ...         R      572070      R  False\n",
              "2142734    F    S         SL      0.0  ...         R      572070      R  False\n",
              "2142735    X    X         FF      0.0  ...         R      572070      R  False\n",
              "2142736    B    B         SL      0.0  ...         R      572070      L  False\n",
              "2142737    C    S         SL      0.0  ...         R      572070      L  False\n",
              "2142738    B    B         FF      0.0  ...         R      572070      L  False\n",
              "2142739    F    S         SL      0.0  ...         R      572070      L  False\n",
              "...      ...  ...        ...      ...  ...       ...         ...    ...    ...\n",
              "2867124    B    B         FF      3.0  ...         L      448802      R   True\n",
              "2867125    C    S         FF      3.0  ...         L      448802      R   True\n",
              "2867126    X    X         FF      3.0  ...         L      448802      R   True\n",
              "2867127    B    B         FT      3.0  ...         L      448802      R   True\n",
              "2867128    F    S         FF      3.0  ...         L      448802      R   True\n",
              "2867129    D    X         FF      3.0  ...         L      448802      R   True\n",
              "2867130    B    B         FT      3.0  ...         L      448802      L   True\n",
              "2867131    S    S         FT      3.0  ...         L      448802      L   True\n",
              "2867132    X    X         SL      3.0  ...         L      448802      L   True\n",
              "2867133    C    S         FF      1.0  ...         L      623352      L  False\n",
              "2867134    S    S         SL      1.0  ...         L      623352      L  False\n",
              "2867135    F    S         FF      1.0  ...         L      623352      L  False\n",
              "2867136    S    S         FF      1.0  ...         L      623352      L  False\n",
              "2867137    F    S         FF      1.0  ...         L      623352      R  False\n",
              "2867138    B    B         FF      1.0  ...         L      623352      R  False\n",
              "2867139    B    B         SL      1.0  ...         L      623352      R  False\n",
              "2867140    X    X         FF      1.0  ...         L      623352      R  False\n",
              "2867141    B    B         SL      1.0  ...         L      623352      R  False\n",
              "2867142    B    B         FF      1.0  ...         L      623352      R  False\n",
              "2867143    B    B         FF      1.0  ...         L      623352      R  False\n",
              "2867144    C    S         FF      1.0  ...         L      623352      R  False\n",
              "2867145    C    S         FF      1.0  ...         L      623352      R  False\n",
              "2867146    F    S         FF      1.0  ...         L      623352      R  False\n",
              "2867147    F    S         FF      1.0  ...         L      623352      R  False\n",
              "2867148    F    S         FF      1.0  ...         L      623352      R  False\n",
              "2867149    D    X         SL      1.0  ...         L      623352      R  False\n",
              "2867150    B    B         FF      1.0  ...         L      623352      L  False\n",
              "2867151    F    S         FF      1.0  ...         L      623352      L  False\n",
              "2867152    S    S         FF      1.0  ...         L      623352      L  False\n",
              "2867153    X    X         FF      1.0  ...         L      623352      L  False\n",
              "\n",
              "[718322 rows x 17 columns]"
            ]
          },
          "metadata": {
            "tags": []
          },
          "execution_count": 40
        }
      ]
    },
    {
      "cell_type": "code",
      "metadata": {
        "id": "7PJ31JiYMC-0",
        "colab_type": "code",
        "outputId": "cd758b56-eddd-4b4c-e1e4-b5de68b5727f",
        "colab": {
          "base_uri": "https://localhost:8080/",
          "height": 386
        }
      },
      "source": [
        "pXs.info()"
      ],
      "execution_count": 0,
      "outputs": [
        {
          "output_type": "stream",
          "text": [
            "<class 'pandas.core.frame.DataFrame'>\n",
            "Int64Index: 724444 entries, 2142710 to 2867153\n",
            "Data columns (total 17 columns):\n",
            "code          724444 non-null object\n",
            "type          724444 non-null object\n",
            "pitch_type    718322 non-null object\n",
            "b_score       724444 non-null float64\n",
            "s_count       724444 non-null float64\n",
            "outs          724444 non-null float64\n",
            "pitch_num     724444 non-null float64\n",
            "on_1b         724444 non-null float64\n",
            "on_2b         724444 non-null float64\n",
            "on_3b         724444 non-null float64\n",
            "batter_id     724444 non-null int64\n",
            "inning        724444 non-null int64\n",
            "p_score       724444 non-null int64\n",
            "p_throws      724444 non-null int64\n",
            "pitcher_id    724444 non-null int64\n",
            "stand         724444 non-null object\n",
            "top           724444 non-null bool\n",
            "dtypes: bool(1), float64(7), int64(5), object(4)\n",
            "memory usage: 94.7+ MB\n"
          ],
          "name": "stdout"
        }
      ]
    },
    {
      "cell_type": "code",
      "metadata": {
        "id": "Rn7PSfLTMC-1",
        "colab_type": "code",
        "outputId": "97ce1c8b-a9bd-484b-8882-5270fbc42e2b",
        "colab": {
          "base_uri": "https://localhost:8080/",
          "height": 303
        }
      },
      "source": [
        "pXs.p_throws = pXs.p_throws.replace(['R', 'L'], [0,1])"
      ],
      "execution_count": 0,
      "outputs": [
        {
          "output_type": "error",
          "ename": "TypeError",
          "evalue": "ignored",
          "traceback": [
            "\u001b[0;31m---------------------------------------------------------------------------\u001b[0m",
            "\u001b[0;31mTypeError\u001b[0m                                 Traceback (most recent call last)",
            "\u001b[0;32m<ipython-input-45-8baae7f1a94a>\u001b[0m in \u001b[0;36m<module>\u001b[0;34m()\u001b[0m\n\u001b[0;32m----> 1\u001b[0;31m \u001b[0mpXs\u001b[0m\u001b[0;34m.\u001b[0m\u001b[0mp_throws\u001b[0m \u001b[0;34m=\u001b[0m \u001b[0mpXs\u001b[0m\u001b[0;34m.\u001b[0m\u001b[0mp_throws\u001b[0m\u001b[0;34m.\u001b[0m\u001b[0mreplace\u001b[0m\u001b[0;34m(\u001b[0m\u001b[0;34m[\u001b[0m\u001b[0;34m'R'\u001b[0m\u001b[0;34m,\u001b[0m \u001b[0;34m'L'\u001b[0m\u001b[0;34m]\u001b[0m\u001b[0;34m,\u001b[0m \u001b[0;34m[\u001b[0m\u001b[0;36m0\u001b[0m\u001b[0;34m,\u001b[0m\u001b[0;36m1\u001b[0m\u001b[0;34m]\u001b[0m\u001b[0;34m)\u001b[0m\u001b[0;34m\u001b[0m\u001b[0;34m\u001b[0m\u001b[0m\n\u001b[0m",
            "\u001b[0;32m/usr/local/lib/python3.6/dist-packages/pandas/core/series.py\u001b[0m in \u001b[0;36mreplace\u001b[0;34m(self, to_replace, value, inplace, limit, regex, method)\u001b[0m\n\u001b[1;32m   3843\u001b[0m         return super(Series, self).replace(to_replace=to_replace, value=value,\n\u001b[1;32m   3844\u001b[0m                                            \u001b[0minplace\u001b[0m\u001b[0;34m=\u001b[0m\u001b[0minplace\u001b[0m\u001b[0;34m,\u001b[0m \u001b[0mlimit\u001b[0m\u001b[0;34m=\u001b[0m\u001b[0mlimit\u001b[0m\u001b[0;34m,\u001b[0m\u001b[0;34m\u001b[0m\u001b[0;34m\u001b[0m\u001b[0m\n\u001b[0;32m-> 3845\u001b[0;31m                                            regex=regex, method=method)\n\u001b[0m\u001b[1;32m   3846\u001b[0m \u001b[0;34m\u001b[0m\u001b[0m\n\u001b[1;32m   3847\u001b[0m     \u001b[0;34m@\u001b[0m\u001b[0mAppender\u001b[0m\u001b[0;34m(\u001b[0m\u001b[0mgeneric\u001b[0m\u001b[0;34m.\u001b[0m\u001b[0m_shared_docs\u001b[0m\u001b[0;34m[\u001b[0m\u001b[0;34m'shift'\u001b[0m\u001b[0;34m]\u001b[0m \u001b[0;34m%\u001b[0m \u001b[0m_shared_doc_kwargs\u001b[0m\u001b[0;34m)\u001b[0m\u001b[0;34m\u001b[0m\u001b[0;34m\u001b[0m\u001b[0m\n",
            "\u001b[0;32m/usr/local/lib/python3.6/dist-packages/pandas/core/generic.py\u001b[0m in \u001b[0;36mreplace\u001b[0;34m(self, to_replace, value, inplace, limit, regex, method)\u001b[0m\n\u001b[1;32m   6545\u001b[0m                                                        \u001b[0mdest_list\u001b[0m\u001b[0;34m=\u001b[0m\u001b[0mvalue\u001b[0m\u001b[0;34m,\u001b[0m\u001b[0;34m\u001b[0m\u001b[0;34m\u001b[0m\u001b[0m\n\u001b[1;32m   6546\u001b[0m                                                        \u001b[0minplace\u001b[0m\u001b[0;34m=\u001b[0m\u001b[0minplace\u001b[0m\u001b[0;34m,\u001b[0m\u001b[0;34m\u001b[0m\u001b[0;34m\u001b[0m\u001b[0m\n\u001b[0;32m-> 6547\u001b[0;31m                                                        regex=regex)\n\u001b[0m\u001b[1;32m   6548\u001b[0m \u001b[0;34m\u001b[0m\u001b[0m\n\u001b[1;32m   6549\u001b[0m                 \u001b[0;32melse\u001b[0m\u001b[0;34m:\u001b[0m  \u001b[0;31m# [NA, ''] -> 0\u001b[0m\u001b[0;34m\u001b[0m\u001b[0;34m\u001b[0m\u001b[0m\n",
            "\u001b[0;32m/usr/local/lib/python3.6/dist-packages/pandas/core/internals/managers.py\u001b[0m in \u001b[0;36mreplace_list\u001b[0;34m(self, src_list, dest_list, inplace, regex)\u001b[0m\n\u001b[1;32m    557\u001b[0m             \u001b[0;32mreturn\u001b[0m \u001b[0m_compare_or_regex_search\u001b[0m\u001b[0;34m(\u001b[0m\u001b[0mvalues\u001b[0m\u001b[0;34m,\u001b[0m \u001b[0ms\u001b[0m\u001b[0;34m,\u001b[0m \u001b[0mregex\u001b[0m\u001b[0;34m)\u001b[0m\u001b[0;34m\u001b[0m\u001b[0;34m\u001b[0m\u001b[0m\n\u001b[1;32m    558\u001b[0m \u001b[0;34m\u001b[0m\u001b[0m\n\u001b[0;32m--> 559\u001b[0;31m         \u001b[0mmasks\u001b[0m \u001b[0;34m=\u001b[0m \u001b[0;34m[\u001b[0m\u001b[0mcomp\u001b[0m\u001b[0;34m(\u001b[0m\u001b[0ms\u001b[0m\u001b[0;34m,\u001b[0m \u001b[0mregex\u001b[0m\u001b[0;34m)\u001b[0m \u001b[0;32mfor\u001b[0m \u001b[0mi\u001b[0m\u001b[0;34m,\u001b[0m \u001b[0ms\u001b[0m \u001b[0;32min\u001b[0m \u001b[0menumerate\u001b[0m\u001b[0;34m(\u001b[0m\u001b[0msrc_list\u001b[0m\u001b[0;34m)\u001b[0m\u001b[0;34m]\u001b[0m\u001b[0;34m\u001b[0m\u001b[0;34m\u001b[0m\u001b[0m\n\u001b[0m\u001b[1;32m    560\u001b[0m \u001b[0;34m\u001b[0m\u001b[0m\n\u001b[1;32m    561\u001b[0m         \u001b[0mresult_blocks\u001b[0m \u001b[0;34m=\u001b[0m \u001b[0;34m[\u001b[0m\u001b[0;34m]\u001b[0m\u001b[0;34m\u001b[0m\u001b[0;34m\u001b[0m\u001b[0m\n",
            "\u001b[0;32m/usr/local/lib/python3.6/dist-packages/pandas/core/internals/managers.py\u001b[0m in \u001b[0;36m<listcomp>\u001b[0;34m(.0)\u001b[0m\n\u001b[1;32m    557\u001b[0m             \u001b[0;32mreturn\u001b[0m \u001b[0m_compare_or_regex_search\u001b[0m\u001b[0;34m(\u001b[0m\u001b[0mvalues\u001b[0m\u001b[0;34m,\u001b[0m \u001b[0ms\u001b[0m\u001b[0;34m,\u001b[0m \u001b[0mregex\u001b[0m\u001b[0;34m)\u001b[0m\u001b[0;34m\u001b[0m\u001b[0;34m\u001b[0m\u001b[0m\n\u001b[1;32m    558\u001b[0m \u001b[0;34m\u001b[0m\u001b[0m\n\u001b[0;32m--> 559\u001b[0;31m         \u001b[0mmasks\u001b[0m \u001b[0;34m=\u001b[0m \u001b[0;34m[\u001b[0m\u001b[0mcomp\u001b[0m\u001b[0;34m(\u001b[0m\u001b[0ms\u001b[0m\u001b[0;34m,\u001b[0m \u001b[0mregex\u001b[0m\u001b[0;34m)\u001b[0m \u001b[0;32mfor\u001b[0m \u001b[0mi\u001b[0m\u001b[0;34m,\u001b[0m \u001b[0ms\u001b[0m \u001b[0;32min\u001b[0m \u001b[0menumerate\u001b[0m\u001b[0;34m(\u001b[0m\u001b[0msrc_list\u001b[0m\u001b[0;34m)\u001b[0m\u001b[0;34m]\u001b[0m\u001b[0;34m\u001b[0m\u001b[0;34m\u001b[0m\u001b[0m\n\u001b[0m\u001b[1;32m    560\u001b[0m \u001b[0;34m\u001b[0m\u001b[0m\n\u001b[1;32m    561\u001b[0m         \u001b[0mresult_blocks\u001b[0m \u001b[0;34m=\u001b[0m \u001b[0;34m[\u001b[0m\u001b[0;34m]\u001b[0m\u001b[0;34m\u001b[0m\u001b[0;34m\u001b[0m\u001b[0m\n",
            "\u001b[0;32m/usr/local/lib/python3.6/dist-packages/pandas/core/internals/managers.py\u001b[0m in \u001b[0;36mcomp\u001b[0;34m(s, regex)\u001b[0m\n\u001b[1;32m    555\u001b[0m                 return _compare_or_regex_search(maybe_convert_objects(values),\n\u001b[1;32m    556\u001b[0m                                                 getattr(s, 'asm8'), regex)\n\u001b[0;32m--> 557\u001b[0;31m             \u001b[0;32mreturn\u001b[0m \u001b[0m_compare_or_regex_search\u001b[0m\u001b[0;34m(\u001b[0m\u001b[0mvalues\u001b[0m\u001b[0;34m,\u001b[0m \u001b[0ms\u001b[0m\u001b[0;34m,\u001b[0m \u001b[0mregex\u001b[0m\u001b[0;34m)\u001b[0m\u001b[0;34m\u001b[0m\u001b[0;34m\u001b[0m\u001b[0m\n\u001b[0m\u001b[1;32m    558\u001b[0m \u001b[0;34m\u001b[0m\u001b[0m\n\u001b[1;32m    559\u001b[0m         \u001b[0mmasks\u001b[0m \u001b[0;34m=\u001b[0m \u001b[0;34m[\u001b[0m\u001b[0mcomp\u001b[0m\u001b[0;34m(\u001b[0m\u001b[0ms\u001b[0m\u001b[0;34m,\u001b[0m \u001b[0mregex\u001b[0m\u001b[0;34m)\u001b[0m \u001b[0;32mfor\u001b[0m \u001b[0mi\u001b[0m\u001b[0;34m,\u001b[0m \u001b[0ms\u001b[0m \u001b[0;32min\u001b[0m \u001b[0menumerate\u001b[0m\u001b[0;34m(\u001b[0m\u001b[0msrc_list\u001b[0m\u001b[0;34m)\u001b[0m\u001b[0;34m]\u001b[0m\u001b[0;34m\u001b[0m\u001b[0;34m\u001b[0m\u001b[0m\n",
            "\u001b[0;32m/usr/local/lib/python3.6/dist-packages/pandas/core/internals/managers.py\u001b[0m in \u001b[0;36m_compare_or_regex_search\u001b[0;34m(a, b, regex)\u001b[0m\n\u001b[1;32m   1949\u001b[0m         raise TypeError(\n\u001b[1;32m   1950\u001b[0m             \"Cannot compare types {a!r} and {b!r}\".format(a=type_names[0],\n\u001b[0;32m-> 1951\u001b[0;31m                                                           b=type_names[1]))\n\u001b[0m\u001b[1;32m   1952\u001b[0m     \u001b[0;32mreturn\u001b[0m \u001b[0mresult\u001b[0m\u001b[0;34m\u001b[0m\u001b[0;34m\u001b[0m\u001b[0m\n\u001b[1;32m   1953\u001b[0m \u001b[0;34m\u001b[0m\u001b[0m\n",
            "\u001b[0;31mTypeError\u001b[0m: Cannot compare types 'ndarray(dtype=int64)' and 'str'"
          ]
        }
      ]
    },
    {
      "cell_type": "code",
      "metadata": {
        "id": "xoiuAtF0MC-4",
        "colab_type": "code",
        "colab": {}
      },
      "source": [
        "pXs.stand = pXs.stand.replace(['R', 'L'], [0,1])"
      ],
      "execution_count": 0,
      "outputs": []
    },
    {
      "cell_type": "code",
      "metadata": {
        "id": "2gLVcHqCMC-6",
        "colab_type": "code",
        "colab": {}
      },
      "source": [
        "pXs.top = pXs.top.replace([True, False], [1,0])"
      ],
      "execution_count": 0,
      "outputs": []
    },
    {
      "cell_type": "code",
      "metadata": {
        "id": "x1e-8TtrMC-7",
        "colab_type": "code",
        "outputId": "f7332028-2b5a-445a-b67d-5101a10ea500",
        "colab": {
          "base_uri": "https://localhost:8080/",
          "height": 386
        }
      },
      "source": [
        "pXs.info()"
      ],
      "execution_count": 0,
      "outputs": [
        {
          "output_type": "stream",
          "text": [
            "<class 'pandas.core.frame.DataFrame'>\n",
            "Int64Index: 724444 entries, 2142710 to 2867153\n",
            "Data columns (total 17 columns):\n",
            "code          724444 non-null object\n",
            "type          724444 non-null object\n",
            "pitch_type    718322 non-null object\n",
            "b_score       724444 non-null float64\n",
            "s_count       724444 non-null float64\n",
            "outs          724444 non-null float64\n",
            "pitch_num     724444 non-null float64\n",
            "on_1b         724444 non-null float64\n",
            "on_2b         724444 non-null float64\n",
            "on_3b         724444 non-null float64\n",
            "batter_id     724444 non-null int64\n",
            "inning        724444 non-null int64\n",
            "p_score       724444 non-null int64\n",
            "p_throws      724444 non-null int64\n",
            "pitcher_id    724444 non-null int64\n",
            "stand         724444 non-null int64\n",
            "top           724444 non-null int64\n",
            "dtypes: float64(7), int64(7), object(3)\n",
            "memory usage: 99.5+ MB\n"
          ],
          "name": "stdout"
        }
      ]
    },
    {
      "cell_type": "code",
      "metadata": {
        "id": "TneG6n2sMC-9",
        "colab_type": "code",
        "colab": {}
      },
      "source": [
        "code = pXs.code"
      ],
      "execution_count": 0,
      "outputs": []
    },
    {
      "cell_type": "code",
      "metadata": {
        "id": "-mxiT0BxMC--",
        "colab_type": "code",
        "colab": {}
      },
      "source": [
        "_type = pXs.type"
      ],
      "execution_count": 0,
      "outputs": []
    },
    {
      "cell_type": "code",
      "metadata": {
        "id": "RBv9J-o7MC_A",
        "colab_type": "code",
        "colab": {}
      },
      "source": [
        "pXs1 = pXs.drop(['code', 'type'], axis = 1)"
      ],
      "execution_count": 0,
      "outputs": []
    },
    {
      "cell_type": "code",
      "metadata": {
        "id": "KwCGGUEfMC_C",
        "colab_type": "code",
        "outputId": "523c4a83-c3f6-45ea-c92c-c04c2ef946e7",
        "colab": {
          "base_uri": "https://localhost:8080/",
          "height": 353
        }
      },
      "source": [
        "pXs1.info()"
      ],
      "execution_count": 0,
      "outputs": [
        {
          "output_type": "stream",
          "text": [
            "<class 'pandas.core.frame.DataFrame'>\n",
            "Int64Index: 724444 entries, 2142710 to 2867153\n",
            "Data columns (total 15 columns):\n",
            "pitch_type    718322 non-null object\n",
            "b_score       724444 non-null float64\n",
            "s_count       724444 non-null float64\n",
            "outs          724444 non-null float64\n",
            "pitch_num     724444 non-null float64\n",
            "on_1b         724444 non-null float64\n",
            "on_2b         724444 non-null float64\n",
            "on_3b         724444 non-null float64\n",
            "batter_id     724444 non-null int64\n",
            "inning        724444 non-null int64\n",
            "p_score       724444 non-null int64\n",
            "p_throws      724444 non-null int64\n",
            "pitcher_id    724444 non-null int64\n",
            "stand         724444 non-null int64\n",
            "top           724444 non-null int64\n",
            "dtypes: float64(7), int64(7), object(1)\n",
            "memory usage: 88.4+ MB\n"
          ],
          "name": "stdout"
        }
      ]
    },
    {
      "cell_type": "markdown",
      "metadata": {
        "id": "itp2I_FIMC_E",
        "colab_type": "text"
      },
      "source": [
        "Pitch Type Definitions\n",
        "- CH - Changeup\n",
        "- CU - Curveball\n",
        "- FC - Cutter\n",
        "- FF - Four-seam Fastball\n",
        "- FS - Splitter\n",
        "- FT - Two-seam Fastball\n",
        "- IN - Intentional ball\n",
        "- KC - Knuckle curve\n",
        "- KN - Knuckeball\n",
        "- PO - Pitchout\n",
        "- SC - Screwball\n",
        "- SI - Sinker\n",
        "- SL - Slider"
      ]
    },
    {
      "cell_type": "code",
      "metadata": {
        "id": "KIqHHaigMC_F",
        "colab_type": "code",
        "outputId": "46d9af7a-a822-4576-f64a-9daaac3a436c",
        "colab": {
          "base_uri": "https://localhost:8080/",
          "height": 286
        }
      },
      "source": [
        "pXs1.pitch_type.value_counts()"
      ],
      "execution_count": 0,
      "outputs": [
        {
          "output_type": "execute_result",
          "data": {
            "text/plain": [
              "FF    254086\n",
              "SL    122796\n",
              "FT     81617\n",
              "CH     74606\n",
              "CU     60360\n",
              "SI     57970\n",
              "FC     39061\n",
              "KC     16327\n",
              "FS     10365\n",
              "KN       719\n",
              "EP       204\n",
              "PO        89\n",
              "FO        84\n",
              "SC        37\n",
              "AB         1\n",
              "Name: pitch_type, dtype: int64"
            ]
          },
          "metadata": {
            "tags": []
          },
          "execution_count": 53
        }
      ]
    },
    {
      "cell_type": "code",
      "metadata": {
        "id": "JxEQws2cMC_I",
        "colab_type": "code",
        "colab": {}
      },
      "source": [
        "pXs1 = pXs1[pXs1.pitch_type != 'FA']\n",
        "pXs1 = pXs1[pXs1.pitch_type != 'AB']\n",
        "pXs1 = pXs1[pXs1.pitch_type != 'UN']\n",
        "pXs1 = pXs1[pXs1.pitch_type != 'EP']"
      ],
      "execution_count": 0,
      "outputs": []
    },
    {
      "cell_type": "code",
      "metadata": {
        "id": "QU9iyGZmMC_J",
        "colab_type": "code",
        "outputId": "66e1bf03-5324-471c-8cea-201389fa4751",
        "colab": {
          "base_uri": "https://localhost:8080/",
          "height": 252
        }
      },
      "source": [
        "pXs1.pitch_type.value_counts()"
      ],
      "execution_count": 0,
      "outputs": [
        {
          "output_type": "execute_result",
          "data": {
            "text/plain": [
              "FF    254086\n",
              "SL    122796\n",
              "FT     81617\n",
              "CH     74606\n",
              "CU     60360\n",
              "SI     57970\n",
              "FC     39061\n",
              "KC     16327\n",
              "FS     10365\n",
              "KN       719\n",
              "PO        89\n",
              "FO        84\n",
              "SC        37\n",
              "Name: pitch_type, dtype: int64"
            ]
          },
          "metadata": {
            "tags": []
          },
          "execution_count": 55
        }
      ]
    },
    {
      "cell_type": "code",
      "metadata": {
        "id": "MGu0cokyMC_L",
        "colab_type": "code",
        "colab": {}
      },
      "source": [
        "pXs1.pitch_type.replace('FO', 'PO', inplace=True)"
      ],
      "execution_count": 0,
      "outputs": []
    },
    {
      "cell_type": "code",
      "metadata": {
        "id": "2kHQ_uFLMC_M",
        "colab_type": "code",
        "outputId": "ab650cbe-bb2c-425e-8450-04c10033727a",
        "colab": {
          "base_uri": "https://localhost:8080/",
          "height": 235
        }
      },
      "source": [
        "pXs1.pitch_type.value_counts()"
      ],
      "execution_count": 0,
      "outputs": [
        {
          "output_type": "execute_result",
          "data": {
            "text/plain": [
              "FF    254086\n",
              "SL    122796\n",
              "FT     81617\n",
              "CH     74606\n",
              "CU     60360\n",
              "SI     57970\n",
              "FC     39061\n",
              "KC     16327\n",
              "FS     10365\n",
              "KN       719\n",
              "PO       173\n",
              "SC        37\n",
              "Name: pitch_type, dtype: int64"
            ]
          },
          "metadata": {
            "tags": []
          },
          "execution_count": 57
        }
      ]
    },
    {
      "cell_type": "code",
      "metadata": {
        "id": "f7EdjS1OMC_O",
        "colab_type": "code",
        "outputId": "817dcbfc-5293-4e1e-d4bd-b6650872b5b3",
        "colab": {
          "base_uri": "https://localhost:8080/",
          "height": 286
        }
      },
      "source": [
        "pXs1.isnull().sum()"
      ],
      "execution_count": 0,
      "outputs": [
        {
          "output_type": "execute_result",
          "data": {
            "text/plain": [
              "pitch_type    6122\n",
              "b_score          0\n",
              "s_count          0\n",
              "outs             0\n",
              "pitch_num        0\n",
              "on_1b            0\n",
              "on_2b            0\n",
              "on_3b            0\n",
              "batter_id        0\n",
              "inning           0\n",
              "p_score          0\n",
              "p_throws         0\n",
              "pitcher_id       0\n",
              "stand            0\n",
              "top              0\n",
              "dtype: int64"
            ]
          },
          "metadata": {
            "tags": []
          },
          "execution_count": 58
        }
      ]
    },
    {
      "cell_type": "code",
      "metadata": {
        "id": "cVYMVG5hMC_Q",
        "colab_type": "code",
        "colab": {}
      },
      "source": [
        "pXs1.dropna(inplace = True)"
      ],
      "execution_count": 0,
      "outputs": []
    },
    {
      "cell_type": "code",
      "metadata": {
        "id": "5hrgY2EGMC_S",
        "colab_type": "code",
        "outputId": "78234c95-70e5-4ee6-e295-2a2a4e09bad8",
        "colab": {
          "base_uri": "https://localhost:8080/",
          "height": 286
        }
      },
      "source": [
        "pXs1.isnull().sum()"
      ],
      "execution_count": 0,
      "outputs": [
        {
          "output_type": "execute_result",
          "data": {
            "text/plain": [
              "pitch_type    0\n",
              "b_score       0\n",
              "s_count       0\n",
              "outs          0\n",
              "pitch_num     0\n",
              "on_1b         0\n",
              "on_2b         0\n",
              "on_3b         0\n",
              "batter_id     0\n",
              "inning        0\n",
              "p_score       0\n",
              "p_throws      0\n",
              "pitcher_id    0\n",
              "stand         0\n",
              "top           0\n",
              "dtype: int64"
            ]
          },
          "metadata": {
            "tags": []
          },
          "execution_count": 60
        }
      ]
    },
    {
      "cell_type": "code",
      "metadata": {
        "id": "lQroVb5_MC_U",
        "colab_type": "code",
        "outputId": "feee8bf3-177e-4783-ee79-bd72cc8da176",
        "colab": {
          "base_uri": "https://localhost:8080/",
          "height": 353
        }
      },
      "source": [
        "pXs1.info()"
      ],
      "execution_count": 0,
      "outputs": [
        {
          "output_type": "stream",
          "text": [
            "<class 'pandas.core.frame.DataFrame'>\n",
            "Int64Index: 718117 entries, 2142710 to 2867153\n",
            "Data columns (total 15 columns):\n",
            "pitch_type    718117 non-null object\n",
            "b_score       718117 non-null float64\n",
            "s_count       718117 non-null float64\n",
            "outs          718117 non-null float64\n",
            "pitch_num     718117 non-null float64\n",
            "on_1b         718117 non-null float64\n",
            "on_2b         718117 non-null float64\n",
            "on_3b         718117 non-null float64\n",
            "batter_id     718117 non-null int64\n",
            "inning        718117 non-null int64\n",
            "p_score       718117 non-null int64\n",
            "p_throws      718117 non-null int64\n",
            "pitcher_id    718117 non-null int64\n",
            "stand         718117 non-null int64\n",
            "top           718117 non-null int64\n",
            "dtypes: float64(7), int64(7), object(1)\n",
            "memory usage: 87.7+ MB\n"
          ],
          "name": "stdout"
        }
      ]
    },
    {
      "cell_type": "code",
      "metadata": {
        "id": "fG_sQ9JQMC_V",
        "colab_type": "code",
        "colab": {}
      },
      "source": [
        "df = pXs1"
      ],
      "execution_count": 0,
      "outputs": []
    },
    {
      "cell_type": "code",
      "metadata": {
        "id": "crsvLezyT5it",
        "colab_type": "code",
        "colab": {}
      },
      "source": [
        "df.to_csv('cleanbb.csv')"
      ],
      "execution_count": 0,
      "outputs": []
    },
    {
      "cell_type": "code",
      "metadata": {
        "id": "tOHTBUyBMC_W",
        "colab_type": "code",
        "outputId": "93606a4b-6027-48c9-cc75-c62a605194d3",
        "colab": {
          "base_uri": "https://localhost:8080/",
          "height": 195
        }
      },
      "source": [
        "df.head()"
      ],
      "execution_count": 0,
      "outputs": [
        {
          "output_type": "execute_result",
          "data": {
            "text/html": [
              "<div>\n",
              "<style scoped>\n",
              "    .dataframe tbody tr th:only-of-type {\n",
              "        vertical-align: middle;\n",
              "    }\n",
              "\n",
              "    .dataframe tbody tr th {\n",
              "        vertical-align: top;\n",
              "    }\n",
              "\n",
              "    .dataframe thead th {\n",
              "        text-align: right;\n",
              "    }\n",
              "</style>\n",
              "<table border=\"1\" class=\"dataframe\">\n",
              "  <thead>\n",
              "    <tr style=\"text-align: right;\">\n",
              "      <th></th>\n",
              "      <th>pitch_type</th>\n",
              "      <th>b_score</th>\n",
              "      <th>s_count</th>\n",
              "      <th>outs</th>\n",
              "      <th>pitch_num</th>\n",
              "      <th>on_1b</th>\n",
              "      <th>on_2b</th>\n",
              "      <th>on_3b</th>\n",
              "      <th>batter_id</th>\n",
              "      <th>inning</th>\n",
              "      <th>p_score</th>\n",
              "      <th>p_throws</th>\n",
              "      <th>pitcher_id</th>\n",
              "      <th>stand</th>\n",
              "      <th>top</th>\n",
              "    </tr>\n",
              "  </thead>\n",
              "  <tbody>\n",
              "    <tr>\n",
              "      <th>2142710</th>\n",
              "      <td>SI</td>\n",
              "      <td>0.0</td>\n",
              "      <td>0.0</td>\n",
              "      <td>0.0</td>\n",
              "      <td>1.0</td>\n",
              "      <td>0.0</td>\n",
              "      <td>0.0</td>\n",
              "      <td>0.0</td>\n",
              "      <td>446359</td>\n",
              "      <td>1</td>\n",
              "      <td>0</td>\n",
              "      <td>0</td>\n",
              "      <td>608665</td>\n",
              "      <td>0</td>\n",
              "      <td>1</td>\n",
              "    </tr>\n",
              "    <tr>\n",
              "      <th>2142711</th>\n",
              "      <td>SI</td>\n",
              "      <td>0.0</td>\n",
              "      <td>1.0</td>\n",
              "      <td>0.0</td>\n",
              "      <td>2.0</td>\n",
              "      <td>0.0</td>\n",
              "      <td>0.0</td>\n",
              "      <td>0.0</td>\n",
              "      <td>446359</td>\n",
              "      <td>1</td>\n",
              "      <td>0</td>\n",
              "      <td>0</td>\n",
              "      <td>608665</td>\n",
              "      <td>0</td>\n",
              "      <td>1</td>\n",
              "    </tr>\n",
              "    <tr>\n",
              "      <th>2142712</th>\n",
              "      <td>SI</td>\n",
              "      <td>0.0</td>\n",
              "      <td>1.0</td>\n",
              "      <td>0.0</td>\n",
              "      <td>3.0</td>\n",
              "      <td>0.0</td>\n",
              "      <td>0.0</td>\n",
              "      <td>0.0</td>\n",
              "      <td>446359</td>\n",
              "      <td>1</td>\n",
              "      <td>0</td>\n",
              "      <td>0</td>\n",
              "      <td>608665</td>\n",
              "      <td>0</td>\n",
              "      <td>1</td>\n",
              "    </tr>\n",
              "    <tr>\n",
              "      <th>2142713</th>\n",
              "      <td>SL</td>\n",
              "      <td>0.0</td>\n",
              "      <td>2.0</td>\n",
              "      <td>0.0</td>\n",
              "      <td>4.0</td>\n",
              "      <td>0.0</td>\n",
              "      <td>0.0</td>\n",
              "      <td>0.0</td>\n",
              "      <td>446359</td>\n",
              "      <td>1</td>\n",
              "      <td>0</td>\n",
              "      <td>0</td>\n",
              "      <td>608665</td>\n",
              "      <td>0</td>\n",
              "      <td>1</td>\n",
              "    </tr>\n",
              "    <tr>\n",
              "      <th>2142714</th>\n",
              "      <td>SI</td>\n",
              "      <td>0.0</td>\n",
              "      <td>2.0</td>\n",
              "      <td>0.0</td>\n",
              "      <td>5.0</td>\n",
              "      <td>0.0</td>\n",
              "      <td>0.0</td>\n",
              "      <td>0.0</td>\n",
              "      <td>446359</td>\n",
              "      <td>1</td>\n",
              "      <td>0</td>\n",
              "      <td>0</td>\n",
              "      <td>608665</td>\n",
              "      <td>0</td>\n",
              "      <td>1</td>\n",
              "    </tr>\n",
              "  </tbody>\n",
              "</table>\n",
              "</div>"
            ],
            "text/plain": [
              "        pitch_type  b_score  s_count  outs  ...  p_throws  pitcher_id  stand  top\n",
              "2142710         SI      0.0      0.0   0.0  ...         0      608665      0    1\n",
              "2142711         SI      0.0      1.0   0.0  ...         0      608665      0    1\n",
              "2142712         SI      0.0      1.0   0.0  ...         0      608665      0    1\n",
              "2142713         SL      0.0      2.0   0.0  ...         0      608665      0    1\n",
              "2142714         SI      0.0      2.0   0.0  ...         0      608665      0    1\n",
              "\n",
              "[5 rows x 15 columns]"
            ]
          },
          "metadata": {
            "tags": []
          },
          "execution_count": 64
        }
      ]
    },
    {
      "cell_type": "code",
      "metadata": {
        "id": "T6jlNoXfMC_a",
        "colab_type": "code",
        "colab": {}
      },
      "source": [
        "features = df.drop('pitch_type', axis=1)  "
      ],
      "execution_count": 0,
      "outputs": []
    },
    {
      "cell_type": "code",
      "metadata": {
        "id": "JHcRAcwjMC_d",
        "colab_type": "code",
        "outputId": "d973941d-18bd-45f0-e5c8-878be9c60aa5",
        "colab": {
          "base_uri": "https://localhost:8080/",
          "height": 195
        }
      },
      "source": [
        "features.head()"
      ],
      "execution_count": 0,
      "outputs": [
        {
          "output_type": "execute_result",
          "data": {
            "text/html": [
              "<div>\n",
              "<style scoped>\n",
              "    .dataframe tbody tr th:only-of-type {\n",
              "        vertical-align: middle;\n",
              "    }\n",
              "\n",
              "    .dataframe tbody tr th {\n",
              "        vertical-align: top;\n",
              "    }\n",
              "\n",
              "    .dataframe thead th {\n",
              "        text-align: right;\n",
              "    }\n",
              "</style>\n",
              "<table border=\"1\" class=\"dataframe\">\n",
              "  <thead>\n",
              "    <tr style=\"text-align: right;\">\n",
              "      <th></th>\n",
              "      <th>b_score</th>\n",
              "      <th>s_count</th>\n",
              "      <th>outs</th>\n",
              "      <th>pitch_num</th>\n",
              "      <th>on_1b</th>\n",
              "      <th>on_2b</th>\n",
              "      <th>on_3b</th>\n",
              "      <th>batter_id</th>\n",
              "      <th>inning</th>\n",
              "      <th>p_score</th>\n",
              "      <th>p_throws</th>\n",
              "      <th>pitcher_id</th>\n",
              "      <th>stand</th>\n",
              "      <th>top</th>\n",
              "    </tr>\n",
              "  </thead>\n",
              "  <tbody>\n",
              "    <tr>\n",
              "      <th>2142710</th>\n",
              "      <td>0.0</td>\n",
              "      <td>0.0</td>\n",
              "      <td>0.0</td>\n",
              "      <td>1.0</td>\n",
              "      <td>0.0</td>\n",
              "      <td>0.0</td>\n",
              "      <td>0.0</td>\n",
              "      <td>446359</td>\n",
              "      <td>1</td>\n",
              "      <td>0</td>\n",
              "      <td>0</td>\n",
              "      <td>608665</td>\n",
              "      <td>0</td>\n",
              "      <td>1</td>\n",
              "    </tr>\n",
              "    <tr>\n",
              "      <th>2142711</th>\n",
              "      <td>0.0</td>\n",
              "      <td>1.0</td>\n",
              "      <td>0.0</td>\n",
              "      <td>2.0</td>\n",
              "      <td>0.0</td>\n",
              "      <td>0.0</td>\n",
              "      <td>0.0</td>\n",
              "      <td>446359</td>\n",
              "      <td>1</td>\n",
              "      <td>0</td>\n",
              "      <td>0</td>\n",
              "      <td>608665</td>\n",
              "      <td>0</td>\n",
              "      <td>1</td>\n",
              "    </tr>\n",
              "    <tr>\n",
              "      <th>2142712</th>\n",
              "      <td>0.0</td>\n",
              "      <td>1.0</td>\n",
              "      <td>0.0</td>\n",
              "      <td>3.0</td>\n",
              "      <td>0.0</td>\n",
              "      <td>0.0</td>\n",
              "      <td>0.0</td>\n",
              "      <td>446359</td>\n",
              "      <td>1</td>\n",
              "      <td>0</td>\n",
              "      <td>0</td>\n",
              "      <td>608665</td>\n",
              "      <td>0</td>\n",
              "      <td>1</td>\n",
              "    </tr>\n",
              "    <tr>\n",
              "      <th>2142713</th>\n",
              "      <td>0.0</td>\n",
              "      <td>2.0</td>\n",
              "      <td>0.0</td>\n",
              "      <td>4.0</td>\n",
              "      <td>0.0</td>\n",
              "      <td>0.0</td>\n",
              "      <td>0.0</td>\n",
              "      <td>446359</td>\n",
              "      <td>1</td>\n",
              "      <td>0</td>\n",
              "      <td>0</td>\n",
              "      <td>608665</td>\n",
              "      <td>0</td>\n",
              "      <td>1</td>\n",
              "    </tr>\n",
              "    <tr>\n",
              "      <th>2142714</th>\n",
              "      <td>0.0</td>\n",
              "      <td>2.0</td>\n",
              "      <td>0.0</td>\n",
              "      <td>5.0</td>\n",
              "      <td>0.0</td>\n",
              "      <td>0.0</td>\n",
              "      <td>0.0</td>\n",
              "      <td>446359</td>\n",
              "      <td>1</td>\n",
              "      <td>0</td>\n",
              "      <td>0</td>\n",
              "      <td>608665</td>\n",
              "      <td>0</td>\n",
              "      <td>1</td>\n",
              "    </tr>\n",
              "  </tbody>\n",
              "</table>\n",
              "</div>"
            ],
            "text/plain": [
              "         b_score  s_count  outs  pitch_num  ...  p_throws  pitcher_id  stand  top\n",
              "2142710      0.0      0.0   0.0        1.0  ...         0      608665      0    1\n",
              "2142711      0.0      1.0   0.0        2.0  ...         0      608665      0    1\n",
              "2142712      0.0      1.0   0.0        3.0  ...         0      608665      0    1\n",
              "2142713      0.0      2.0   0.0        4.0  ...         0      608665      0    1\n",
              "2142714      0.0      2.0   0.0        5.0  ...         0      608665      0    1\n",
              "\n",
              "[5 rows x 14 columns]"
            ]
          },
          "metadata": {
            "tags": []
          },
          "execution_count": 67
        }
      ]
    },
    {
      "cell_type": "code",
      "metadata": {
        "id": "8bhZZcxHMC_g",
        "colab_type": "code",
        "colab": {}
      },
      "source": [
        "sns.pairplot(data = features)"
      ],
      "execution_count": 0,
      "outputs": []
    },
    {
      "cell_type": "code",
      "metadata": {
        "id": "dlpQhA7zMC_j",
        "colab_type": "code",
        "outputId": "c02b9ac6-c2cf-48fc-aa97-d22cf1b9ae3a",
        "colab": {
          "base_uri": "https://localhost:8080/",
          "height": 613
        }
      },
      "source": [
        "plt.figure(figsize=(10,10))\n",
        "sns.boxplot(data=features.iloc[:,:6])"
      ],
      "execution_count": 0,
      "outputs": [
        {
          "output_type": "execute_result",
          "data": {
            "text/plain": [
              "<matplotlib.axes._subplots.AxesSubplot at 0x7ff9fccbc7f0>"
            ]
          },
          "metadata": {
            "tags": []
          },
          "execution_count": 68
        },
        {
          "output_type": "display_data",
          "data": {
            "image/png": "[encoded data removed]",
            "text/plain": [
              "<Figure size 720x720 with 1 Axes>"
            ]
          },
          "metadata": {
            "tags": []
          }
        }
      ]
    },
    {
      "cell_type": "code",
      "metadata": {
        "id": "fcfTFwMeMC_l",
        "colab_type": "code",
        "outputId": "ab34890f-989a-4552-b7d1-00d26526d16a",
        "colab": {
          "base_uri": "https://localhost:8080/",
          "height": 613
        }
      },
      "source": [
        "plt.figure(figsize=(10,10))\n",
        "sns.boxplot(data=features.iloc[:,8:11])"
      ],
      "execution_count": 0,
      "outputs": [
        {
          "output_type": "execute_result",
          "data": {
            "text/plain": [
              "<matplotlib.axes._subplots.AxesSubplot at 0x7ffa04451160>"
            ]
          },
          "metadata": {
            "tags": []
          },
          "execution_count": 69
        },
        {
          "output_type": "display_data",
          "data": {
            "image/png": "[encoded data removed]",
            "text/plain": [
              "<Figure size 720x720 with 1 Axes>"
            ]
          },
          "metadata": {
            "tags": []
          }
        }
      ]
    },
    {
      "cell_type": "code",
      "metadata": {
        "id": "t8Zg9tGKMC_r",
        "colab_type": "code",
        "outputId": "46feeaf4-ef31-41e0-f77a-582a29290d50",
        "colab": {
          "base_uri": "https://localhost:8080/",
          "height": 612
        }
      },
      "source": [
        "plt.figure(figsize=(10,10))\n",
        "sns.boxplot(data=features.iloc[:,12:])"
      ],
      "execution_count": 0,
      "outputs": [
        {
          "output_type": "execute_result",
          "data": {
            "text/plain": [
              "<matplotlib.axes._subplots.AxesSubplot at 0x7ffa043b3588>"
            ]
          },
          "metadata": {
            "tags": []
          },
          "execution_count": 70
        },
        {
          "output_type": "display_data",
          "data": {
            "image/png": "[encoded data removed]",
            "text/plain": [
              "<Figure size 720x720 with 1 Axes>"
            ]
          },
          "metadata": {
            "tags": []
          }
        }
      ]
    },
    {
      "cell_type": "markdown",
      "metadata": {
        "id": "4XchlcEdMC_t",
        "colab_type": "text"
      },
      "source": [
        "Using a Robust Scaler due to the nature of the data and that outliers are going to play a role in the prediction. "
      ]
    },
    {
      "cell_type": "code",
      "metadata": {
        "id": "8UKNgMI9MC_t",
        "colab_type": "code",
        "outputId": "245c54ff-eadb-4ed9-b579-8443a6131ca5",
        "colab": {
          "base_uri": "https://localhost:8080/",
          "height": 235
        }
      },
      "source": [
        "from sklearn.preprocessing import RobustScaler\n",
        "rs = RobustScaler()\n",
        "rs.fit_transform(features)"
      ],
      "execution_count": 0,
      "outputs": [
        {
          "output_type": "execute_result",
          "data": {
            "text/plain": [
              "array([[-0.33333333, -0.5       , -0.5       , ...,  0.34883101,\n",
              "         0.        ,  0.        ],\n",
              "       [-0.33333333,  0.        , -0.5       , ...,  0.34883101,\n",
              "         0.        ,  0.        ],\n",
              "       [-0.33333333,  0.        , -0.5       , ...,  0.34883101,\n",
              "         0.        ,  0.        ],\n",
              "       ...,\n",
              "       [ 0.        , -0.5       ,  0.5       , ...,  0.48864329,\n",
              "         1.        , -1.        ],\n",
              "       [ 0.        ,  0.        ,  0.5       , ...,  0.48864329,\n",
              "         1.        , -1.        ],\n",
              "       [ 0.        ,  0.5       ,  0.5       , ...,  0.48864329,\n",
              "         1.        , -1.        ]])"
            ]
          },
          "metadata": {
            "tags": []
          },
          "execution_count": 71
        }
      ]
    },
    {
      "cell_type": "code",
      "metadata": {
        "id": "c8_sqD7IMC_v",
        "colab_type": "code",
        "outputId": "89fed7e5-b665-4d27-8d91-37a311e65ea8",
        "colab": {
          "base_uri": "https://localhost:8080/",
          "height": 34
        }
      },
      "source": [
        "features.shape"
      ],
      "execution_count": 0,
      "outputs": [
        {
          "output_type": "execute_result",
          "data": {
            "text/plain": [
              "(718117, 14)"
            ]
          },
          "metadata": {
            "tags": []
          },
          "execution_count": 72
        }
      ]
    },
    {
      "cell_type": "code",
      "metadata": {
        "id": "F8xDfFe_MC_w",
        "colab_type": "code",
        "colab": {}
      },
      "source": [
        "target = df['pitch_type']"
      ],
      "execution_count": 0,
      "outputs": []
    },
    {
      "cell_type": "code",
      "metadata": {
        "id": "6GFUwuPZMC_x",
        "colab_type": "code",
        "colab": {}
      },
      "source": [
        "import xgboost as xgb\n",
        "from sklearn.model_selection import train_test_split, cross_val_score\n",
        "X_train, X_test, y_train, y_test = train_test_split(features, target, test_size=0.30)"
      ],
      "execution_count": 0,
      "outputs": []
    },
    {
      "cell_type": "code",
      "metadata": {
        "id": "95atzgtRMC_y",
        "colab_type": "code",
        "colab": {}
      },
      "source": [
        "from sklearn.metrics import accuracy_score, f1_score, confusion_matrix, classification_report"
      ],
      "execution_count": 0,
      "outputs": []
    },
    {
      "cell_type": "code",
      "metadata": {
        "id": "Xka03PAgMC_z",
        "colab_type": "code",
        "outputId": "49a7b0a5-ec44-4ed1-b216-e74df93723bb",
        "colab": {
          "base_uri": "https://localhost:8080/",
          "height": 390
        }
      },
      "source": [
        "#create xgb instance with parameters¶\n",
        "clf = xgb.XGBClassifier()\n",
        "#fit data\n",
        "clf.fit(X_train, y_train)\n",
        "#make predictions\n",
        "training_preds = clf.predict(X_train)\n",
        "val_preds = clf.predict(X_test)\n",
        "#run classification report and confusion matrix\n",
        "gbt_confusion_matrix = confusion_matrix(y_test, val_preds)\n",
        "gbt_confusion_matrix\n",
        "gbt_classification_report = classification_report(y_test, val_preds)\n",
        "print(gbt_classification_report)"
      ],
      "execution_count": 0,
      "outputs": [
        {
          "output_type": "stream",
          "text": [
            "/usr/local/lib/python3.6/dist-packages/sklearn/metrics/classification.py:1437: UndefinedMetricWarning: Precision and F-score are ill-defined and being set to 0.0 in labels with no predicted samples.\n",
            "  'precision', 'predicted', average, warn_for)\n"
          ],
          "name": "stderr"
        },
        {
          "output_type": "stream",
          "text": [
            "              precision    recall  f1-score   support\n",
            "\n",
            "          CH       0.32      0.01      0.02     22332\n",
            "          CU       0.38      0.00      0.01     18104\n",
            "          FC       0.54      0.09      0.16     11786\n",
            "          FF       0.38      0.98      0.54     76379\n",
            "          FS       0.52      0.05      0.09      3128\n",
            "          FT       0.56      0.06      0.10     24501\n",
            "          KC       0.47      0.06      0.11      4858\n",
            "          KN       0.86      1.00      0.92       225\n",
            "          PO       0.25      0.02      0.04        52\n",
            "          SC       0.00      0.00      0.00        15\n",
            "          SI       0.62      0.16      0.25     17373\n",
            "          SL       0.40      0.07      0.12     36683\n",
            "\n",
            "    accuracy                           0.39    215436\n",
            "   macro avg       0.44      0.21      0.20    215436\n",
            "weighted avg       0.43      0.39      0.26    215436\n",
            "\n"
          ],
          "name": "stdout"
        }
      ]
    },
    {
      "cell_type": "code",
      "metadata": {
        "id": "w9Y5YlutMC_0",
        "colab_type": "code",
        "outputId": "f4db991d-7f49-4112-b145-292c5aeffb6d",
        "colab": {
          "base_uri": "https://localhost:8080/",
          "height": 370
        }
      },
      "source": [
        "from sklearn.preprocessing import LabelEncoder\n",
        "from keras.utils.np_utils import to_categorical\n",
        "\n",
        "target_nn = target\n",
        "\n",
        "le = LabelEncoder() #Initialize. le used as abbreviation fo label encoder\n",
        "le.fit(target_nn)\n",
        "print(\"Original class labels:\")\n",
        "print(list(le.classes_))\n",
        "print('\\n')\n",
        "target_cat = le.transform(target_nn)  \n",
        "#list(le.inverse_transform([0, 1, 3, 3, 0, 6, 4])) #If you wish to retrieve the original descriptive labels post production\n",
        "\n",
        "print('New product labels:')\n",
        "print(target_cat)\n",
        "print('\\n')\n",
        "\n",
        "\n",
        "print('One hot labels; 7 binary columns, one for each of the categories.') #Each row will be all zeros except for the category for that observation.\n",
        "target_onehot = to_categorical(target_cat)\n",
        "print(target_onehot)\n",
        "print('\\n')\n",
        "\n",
        "print('One hot labels shape:')\n",
        "print(np.shape(target_onehot))"
      ],
      "execution_count": 0,
      "outputs": [
        {
          "output_type": "stream",
          "text": [
            "Using TensorFlow backend.\n"
          ],
          "name": "stderr"
        },
        {
          "output_type": "stream",
          "text": [
            "Original class labels:\n",
            "['CH', 'CU', 'FC', 'FF', 'FS', 'FT', 'KC', 'KN', 'PO', 'SC', 'SI', 'SL']\n",
            "\n",
            "\n",
            "New product labels:\n",
            "[10 10 10 ...  3  3  3]\n",
            "\n",
            "\n",
            "One hot labels; 7 binary columns, one for each of the categories.\n",
            "[[0. 0. 0. ... 0. 1. 0.]\n",
            " [0. 0. 0. ... 0. 1. 0.]\n",
            " [0. 0. 0. ... 0. 1. 0.]\n",
            " ...\n",
            " [0. 0. 0. ... 0. 0. 0.]\n",
            " [0. 0. 0. ... 0. 0. 0.]\n",
            " [0. 0. 0. ... 0. 0. 0.]]\n",
            "\n",
            "\n",
            "One hot labels shape:\n",
            "(718117, 12)\n"
          ],
          "name": "stdout"
        }
      ]
    },
    {
      "cell_type": "code",
      "metadata": {
        "id": "_TZNW_Q5MC_3",
        "colab_type": "code",
        "colab": {}
      },
      "source": [
        "import random\n",
        "random.seed(123)\n",
        "val = features[:100000]\n",
        "train_final = features[100000:600000]\n",
        "label_val = target_onehot[:100000]\n",
        "label_train_final = target_onehot[100000:600000]\n",
        "test = features[600000:]\n",
        "label_test = target_onehot[600000:]"
      ],
      "execution_count": 0,
      "outputs": []
    },
    {
      "cell_type": "code",
      "metadata": {
        "id": "4SfiYV85MC_4",
        "colab_type": "code",
        "colab": {}
      },
      "source": [
        "#packages to import\n",
        "from keras import models\n",
        "from keras import layers\n",
        "from keras import optimizers\n",
        "from keras import regularizers"
      ],
      "execution_count": 0,
      "outputs": []
    },
    {
      "cell_type": "code",
      "metadata": {
        "id": "yNdGEqXQMC_5",
        "colab_type": "code",
        "outputId": "79578063-c74b-4bf3-9a4b-9cd3c742a24a",
        "colab": {
          "base_uri": "https://localhost:8080/",
          "height": 154
        }
      },
      "source": [
        "model = models.Sequential()\n",
        "model.add(layers.Dense(100, activation='relu', input_shape=(14,))) #1st hidden layer\n",
        "model.add(layers.Dense(50, activation='relu'))#2nd hidden layer\n",
        "model.add(layers.Dense(12, activation='softmax'))#output layer - softmax will return probability between 0-1"
      ],
      "execution_count": 0,
      "outputs": [
        {
          "output_type": "stream",
          "text": [
            "WARNING: Logging before flag parsing goes to stderr.\n",
            "W0824 15:57:19.990022 140712599410560 deprecation_wrapper.py:119] From /usr/local/lib/python3.6/dist-packages/keras/backend/tensorflow_backend.py:74: The name tf.get_default_graph is deprecated. Please use tf.compat.v1.get_default_graph instead.\n",
            "\n",
            "W0824 15:57:20.034708 140712599410560 deprecation_wrapper.py:119] From /usr/local/lib/python3.6/dist-packages/keras/backend/tensorflow_backend.py:517: The name tf.placeholder is deprecated. Please use tf.compat.v1.placeholder instead.\n",
            "\n",
            "W0824 15:57:20.042618 140712599410560 deprecation_wrapper.py:119] From /usr/local/lib/python3.6/dist-packages/keras/backend/tensorflow_backend.py:4138: The name tf.random_uniform is deprecated. Please use tf.random.uniform instead.\n",
            "\n"
          ],
          "name": "stderr"
        }
      ]
    },
    {
      "cell_type": "code",
      "metadata": {
        "id": "T-CNzOtuMC_6",
        "colab_type": "code",
        "outputId": "8a2e3f87-d1e6-4b9e-ed57-d35cff1a63ee",
        "colab": {
          "base_uri": "https://localhost:8080/",
          "height": 70
        }
      },
      "source": [
        "model.compile(optimizer='Adam',\n",
        "              loss='mse',\n",
        "              metrics=['accuracy'])"
      ],
      "execution_count": 0,
      "outputs": [
        {
          "output_type": "stream",
          "text": [
            "W0824 15:57:22.134972 140712599410560 deprecation_wrapper.py:119] From /usr/local/lib/python3.6/dist-packages/keras/optimizers.py:790: The name tf.train.Optimizer is deprecated. Please use tf.compat.v1.train.Optimizer instead.\n",
            "\n"
          ],
          "name": "stderr"
        }
      ]
    },
    {
      "cell_type": "code",
      "metadata": {
        "id": "jmKAFjaOMC_8",
        "colab_type": "code",
        "outputId": "5d145087-f7ca-437b-da9d-c405f3385aec",
        "colab": {
          "base_uri": "https://localhost:8080/",
          "height": 793
        }
      },
      "source": [
        "  history = model.fit(train_final,\n",
        "                      label_train_final,\n",
        "                      epochs=20,\n",
        "                      batch_size=1000,\n",
        "                      validation_data=(val, label_val))"
      ],
      "execution_count": 0,
      "outputs": [
        {
          "output_type": "stream",
          "text": [
            "W0824 15:57:23.558715 140712599410560 deprecation_wrapper.py:119] From /usr/local/lib/python3.6/dist-packages/keras/backend/tensorflow_backend.py:986: The name tf.assign_add is deprecated. Please use tf.compat.v1.assign_add instead.\n",
            "\n",
            "W0824 15:57:23.634741 140712599410560 deprecation_wrapper.py:119] From /usr/local/lib/python3.6/dist-packages/keras/backend/tensorflow_backend.py:973: The name tf.assign is deprecated. Please use tf.compat.v1.assign instead.\n",
            "\n"
          ],
          "name": "stderr"
        },
        {
          "output_type": "stream",
          "text": [
            "Train on 500000 samples, validate on 100000 samples\n",
            "Epoch 1/20\n",
            "500000/500000 [==============================] - 6s 12us/step - loss: 0.1575 - acc: 0.0549 - val_loss: 0.1584 - val_acc: 0.0498\n",
            "Epoch 2/20\n",
            "500000/500000 [==============================] - 2s 5us/step - loss: 0.1575 - acc: 0.0549 - val_loss: 0.1584 - val_acc: 0.0498\n",
            "Epoch 3/20\n",
            "500000/500000 [==============================] - 2s 5us/step - loss: 0.1575 - acc: 0.0549 - val_loss: 0.1584 - val_acc: 0.0498\n",
            "Epoch 4/20\n",
            "500000/500000 [==============================] - 2s 5us/step - loss: 0.1575 - acc: 0.0549 - val_loss: 0.1584 - val_acc: 0.0498\n",
            "Epoch 5/20\n",
            "500000/500000 [==============================] - 2s 5us/step - loss: 0.1575 - acc: 0.0549 - val_loss: 0.1584 - val_acc: 0.0498\n",
            "Epoch 6/20\n",
            "500000/500000 [==============================] - 2s 5us/step - loss: 0.1575 - acc: 0.0549 - val_loss: 0.1584 - val_acc: 0.0498\n",
            "Epoch 7/20\n",
            "500000/500000 [==============================] - 2s 5us/step - loss: 0.1575 - acc: 0.0549 - val_loss: 0.1584 - val_acc: 0.0498\n",
            "Epoch 8/20\n",
            "500000/500000 [==============================] - 2s 5us/step - loss: 0.1575 - acc: 0.0549 - val_loss: 0.1584 - val_acc: 0.0498\n",
            "Epoch 9/20\n",
            "500000/500000 [==============================] - 2s 5us/step - loss: 0.1575 - acc: 0.0549 - val_loss: 0.1584 - val_acc: 0.0498\n",
            "Epoch 10/20\n",
            "500000/500000 [==============================] - 2s 4us/step - loss: 0.1575 - acc: 0.0549 - val_loss: 0.1584 - val_acc: 0.0498\n",
            "Epoch 11/20\n",
            "500000/500000 [==============================] - 2s 5us/step - loss: 0.1575 - acc: 0.0549 - val_loss: 0.1584 - val_acc: 0.0498\n",
            "Epoch 12/20\n",
            "500000/500000 [==============================] - 2s 5us/step - loss: 0.1575 - acc: 0.0549 - val_loss: 0.1584 - val_acc: 0.0498\n",
            "Epoch 13/20\n",
            "500000/500000 [==============================] - 2s 5us/step - loss: 0.1575 - acc: 0.0549 - val_loss: 0.1584 - val_acc: 0.0498\n",
            "Epoch 14/20\n",
            "500000/500000 [==============================] - 2s 5us/step - loss: 0.1575 - acc: 0.0549 - val_loss: 0.1584 - val_acc: 0.0498\n",
            "Epoch 15/20\n",
            "500000/500000 [==============================] - 2s 5us/step - loss: 0.1575 - acc: 0.0549 - val_loss: 0.1584 - val_acc: 0.0498\n",
            "Epoch 16/20\n",
            "500000/500000 [==============================] - 2s 5us/step - loss: 0.1575 - acc: 0.0549 - val_loss: 0.1584 - val_acc: 0.0498\n",
            "Epoch 17/20\n",
            "500000/500000 [==============================] - 2s 5us/step - loss: 0.1575 - acc: 0.0549 - val_loss: 0.1584 - val_acc: 0.0498\n",
            "Epoch 18/20\n",
            "500000/500000 [==============================] - 2s 5us/step - loss: 0.1575 - acc: 0.0549 - val_loss: 0.1584 - val_acc: 0.0498\n",
            "Epoch 19/20\n",
            "500000/500000 [==============================] - 2s 5us/step - loss: 0.1575 - acc: 0.0549 - val_loss: 0.1584 - val_acc: 0.0498\n",
            "Epoch 20/20\n",
            "500000/500000 [==============================] - 2s 5us/step - loss: 0.1575 - acc: 0.0549 - val_loss: 0.1584 - val_acc: 0.0498\n"
          ],
          "name": "stdout"
        }
      ]
    },
    {
      "cell_type": "code",
      "metadata": {
        "id": "KlG-dHIoMC_-",
        "colab_type": "code",
        "outputId": "36a70bab-0f12-4ceb-b2b5-25fa12cd3f62",
        "colab": {
          "base_uri": "https://localhost:8080/",
          "height": 574
        }
      },
      "source": [
        "# loss visualization\n",
        "history_dict = history.history\n",
        "\n",
        "loss_values = history_dict['loss']\n",
        "val_loss_values = history_dict['val_loss']\n",
        "\n",
        "epochs = range(1, len(loss_values) + 1)\n",
        "plt.plot(epochs, loss_values, 'g', label='Training loss')\n",
        "plt.plot(epochs, val_loss_values, 'blue', label='Validation loss')\n",
        "\n",
        "plt.title('Training & validation loss')\n",
        "plt.xlabel('Epochs')\n",
        "plt.ylabel('Loss')\n",
        "plt.legend()\n",
        "plt.show()\n",
        "\n",
        "#accuracy visualization\n",
        "acc_values = history_dict['acc'] \n",
        "val_acc_values = history_dict['val_acc']\n",
        "\n",
        "plt.plot(epochs, acc_values, 'r', label='Training acc')\n",
        "plt.plot(epochs, val_acc_values, 'blue', label='Validation acc')\n",
        "plt.title('Training & validation accuracy')\n",
        "plt.xlabel('Epochs')\n",
        "plt.ylabel('Loss')\n",
        "plt.legend()\n",
        "plt.show()"
      ],
      "execution_count": 0,
      "outputs": [
        {
          "output_type": "display_data",
          "data": {
            "image/png": "[encoded data removed]",
            "text/plain": [
              "<Figure size 432x288 with 1 Axes>"
            ]
          },
          "metadata": {
            "tags": []
          }
        },
        {
          "output_type": "display_data",
          "data": {
            "image/png": "[encoded data removed]",
            "text/plain": [
              "<Figure size 432x288 with 1 Axes>"
            ]
          },
          "metadata": {
            "tags": []
          }
        }
      ]
    },
    {
      "cell_type": "code",
      "metadata": {
        "id": "N3IsYD5jMC__",
        "colab_type": "code",
        "outputId": "b29d3374-ee85-41fa-da43-fd59ef1bc6a4",
        "colab": {
          "base_uri": "https://localhost:8080/",
          "height": 87
        }
      },
      "source": [
        "from keras.layers import Embedding, GRU, Dropout, GlobalMaxPool1D, Dense\n",
        "#sample GRU model\n",
        "gru_model = models.Sequential()\n",
        "gru_model.add(Embedding(20000, 128))\n",
        "gru_model.add(GRU(50, return_sequences=True))\n",
        "gru_model.add(GlobalMaxPool1D())\n",
        "gru_model.add(Dropout(0.5))\n",
        "gru_model.add(Dense(50, activation='relu'))\n",
        "gru_model.add(Dropout(0.5))\n",
        "gru_model.add(Dense(12, activation='softmax'))"
      ],
      "execution_count": 0,
      "outputs": [
        {
          "output_type": "stream",
          "text": [
            "W0824 15:58:14.142149 140712599410560 deprecation.py:506] From /usr/local/lib/python3.6/dist-packages/keras/backend/tensorflow_backend.py:3445: calling dropout (from tensorflow.python.ops.nn_ops) with keep_prob is deprecated and will be removed in a future version.\n",
            "Instructions for updating:\n",
            "Please use `rate` instead of `keep_prob`. Rate should be set to `rate = 1 - keep_prob`.\n"
          ],
          "name": "stderr"
        }
      ]
    },
    {
      "cell_type": "code",
      "metadata": {
        "id": "vvW-SbB2MDAB",
        "colab_type": "code",
        "colab": {}
      },
      "source": [
        "model.compile(optimizer='Adam',\n",
        "              loss='mse',\n",
        "              metrics=['accuracy'])"
      ],
      "execution_count": 0,
      "outputs": []
    },
    {
      "cell_type": "code",
      "metadata": {
        "id": "V570_OX0MDAC",
        "colab_type": "code",
        "outputId": "2f1dedae-2bec-49c5-f9ab-124409eac959",
        "colab": {
          "base_uri": "https://localhost:8080/",
          "height": 706
        }
      },
      "source": [
        "  history = model.fit(train_final,\n",
        "                      label_train_final,\n",
        "                      epochs=20,\n",
        "                      batch_size=1000,\n",
        "                      validation_data=(val, label_val))"
      ],
      "execution_count": 0,
      "outputs": [
        {
          "output_type": "stream",
          "text": [
            "Train on 500000 samples, validate on 100000 samples\n",
            "Epoch 1/20\n",
            "500000/500000 [==============================] - 2s 5us/step - loss: 0.1575 - acc: 0.0549 - val_loss: 0.1584 - val_acc: 0.0498\n",
            "Epoch 2/20\n",
            "500000/500000 [==============================] - 2s 5us/step - loss: 0.1575 - acc: 0.0549 - val_loss: 0.1584 - val_acc: 0.0498\n",
            "Epoch 3/20\n",
            "500000/500000 [==============================] - 2s 5us/step - loss: 0.1575 - acc: 0.0549 - val_loss: 0.1584 - val_acc: 0.0498\n",
            "Epoch 4/20\n",
            "500000/500000 [==============================] - 2s 5us/step - loss: 0.1575 - acc: 0.0549 - val_loss: 0.1584 - val_acc: 0.0498\n",
            "Epoch 5/20\n",
            "500000/500000 [==============================] - 2s 4us/step - loss: 0.1575 - acc: 0.0549 - val_loss: 0.1584 - val_acc: 0.0498\n",
            "Epoch 6/20\n",
            "500000/500000 [==============================] - 2s 5us/step - loss: 0.1575 - acc: 0.0549 - val_loss: 0.1584 - val_acc: 0.0498\n",
            "Epoch 7/20\n",
            "500000/500000 [==============================] - 2s 5us/step - loss: 0.1575 - acc: 0.0549 - val_loss: 0.1584 - val_acc: 0.0498\n",
            "Epoch 8/20\n",
            "500000/500000 [==============================] - 2s 5us/step - loss: 0.1575 - acc: 0.0549 - val_loss: 0.1584 - val_acc: 0.0498\n",
            "Epoch 9/20\n",
            "500000/500000 [==============================] - 2s 5us/step - loss: 0.1575 - acc: 0.0549 - val_loss: 0.1584 - val_acc: 0.0498\n",
            "Epoch 10/20\n",
            "500000/500000 [==============================] - 2s 5us/step - loss: 0.1575 - acc: 0.0549 - val_loss: 0.1584 - val_acc: 0.0498\n",
            "Epoch 11/20\n",
            "500000/500000 [==============================] - 2s 5us/step - loss: 0.1575 - acc: 0.0549 - val_loss: 0.1584 - val_acc: 0.0498\n",
            "Epoch 12/20\n",
            "500000/500000 [==============================] - 2s 5us/step - loss: 0.1575 - acc: 0.0549 - val_loss: 0.1584 - val_acc: 0.0498\n",
            "Epoch 13/20\n",
            "500000/500000 [==============================] - 2s 5us/step - loss: 0.1575 - acc: 0.0549 - val_loss: 0.1584 - val_acc: 0.0498\n",
            "Epoch 14/20\n",
            "500000/500000 [==============================] - 2s 5us/step - loss: 0.1575 - acc: 0.0549 - val_loss: 0.1584 - val_acc: 0.0498\n",
            "Epoch 15/20\n",
            "500000/500000 [==============================] - 2s 5us/step - loss: 0.1575 - acc: 0.0549 - val_loss: 0.1584 - val_acc: 0.0498\n",
            "Epoch 16/20\n",
            "500000/500000 [==============================] - 2s 5us/step - loss: 0.1575 - acc: 0.0549 - val_loss: 0.1584 - val_acc: 0.0498\n",
            "Epoch 17/20\n",
            "500000/500000 [==============================] - 2s 5us/step - loss: 0.1575 - acc: 0.0549 - val_loss: 0.1584 - val_acc: 0.0498\n",
            "Epoch 18/20\n",
            "500000/500000 [==============================] - 2s 5us/step - loss: 0.1575 - acc: 0.0549 - val_loss: 0.1584 - val_acc: 0.0498\n",
            "Epoch 19/20\n",
            "500000/500000 [==============================] - 2s 5us/step - loss: 0.1575 - acc: 0.0549 - val_loss: 0.1584 - val_acc: 0.0498\n",
            "Epoch 20/20\n",
            "500000/500000 [==============================] - 2s 5us/step - loss: 0.1575 - acc: 0.0549 - val_loss: 0.1584 - val_acc: 0.0498\n"
          ],
          "name": "stdout"
        }
      ]
    },
    {
      "cell_type": "code",
      "metadata": {
        "id": "ZoHjIgpHMDAD",
        "colab_type": "code",
        "outputId": "3ce894b1-3743-4c66-f11f-19287a588790",
        "colab": {
          "base_uri": "https://localhost:8080/",
          "height": 574
        }
      },
      "source": [
        "# loss visualization\n",
        "history_dict = history.history\n",
        "\n",
        "loss_values = history_dict['loss']\n",
        "val_loss_values = history_dict['val_loss']\n",
        "\n",
        "epochs = range(1, len(loss_values) + 1)\n",
        "plt.plot(epochs, loss_values, 'g', label='Training loss')\n",
        "plt.plot(epochs, val_loss_values, 'blue', label='Validation loss')\n",
        "\n",
        "plt.title('Training & validation loss')\n",
        "plt.xlabel('Epochs')\n",
        "plt.ylabel('Loss')\n",
        "plt.legend()\n",
        "plt.show()\n",
        "\n",
        "#accuracy visualization\n",
        "acc_values = history_dict['acc'] \n",
        "val_acc_values = history_dict['val_acc']\n",
        "\n",
        "plt.plot(epochs, acc_values, 'r', label='Training acc')\n",
        "plt.plot(epochs, val_acc_values, 'blue', label='Validation acc')\n",
        "plt.title('Training & validation accuracy')\n",
        "plt.xlabel('Epochs')\n",
        "plt.ylabel('Loss')\n",
        "plt.legend()\n",
        "plt.show()"
      ],
      "execution_count": 0,
      "outputs": [
        {
          "output_type": "display_data",
          "data": {
            "image/png": "[encoded data removed]",
            "text/plain": [
              "<Figure size 432x288 with 1 Axes>"
            ]
          },
          "metadata": {
            "tags": []
          }
        },
        {
          "output_type": "display_data",
          "data": {
            "image/png": "[encoded data removed]",
            "text/plain": [
              "<Figure size 432x288 with 1 Axes>"
            ]
          },
          "metadata": {
            "tags": []
          }
        }
      ]
    },
    {
      "cell_type": "code",
      "metadata": {
        "id": "rmgP5Qx7MDAI",
        "colab_type": "code",
        "outputId": "4cf9f686-c144-416d-8795-e29f9fbf335a",
        "colab": {
          "base_uri": "https://localhost:8080/",
          "height": 773
        }
      },
      "source": [
        "pitches.info()"
      ],
      "execution_count": 0,
      "outputs": [
        {
          "output_type": "stream",
          "text": [
            "<class 'pandas.core.frame.DataFrame'>\n",
            "RangeIndex: 2867154 entries, 0 to 2867153\n",
            "Data columns (total 40 columns):\n",
            "px                 float64\n",
            "pz                 float64\n",
            "start_speed        float64\n",
            "end_speed          float64\n",
            "spin_rate          float64\n",
            "spin_dir           float64\n",
            "break_angle        float64\n",
            "break_length       float64\n",
            "break_y            float64\n",
            "ax                 float64\n",
            "ay                 float64\n",
            "az                 float64\n",
            "sz_bot             float64\n",
            "sz_top             float64\n",
            "type_confidence    float64\n",
            "vx0                float64\n",
            "vy0                float64\n",
            "vz0                float64\n",
            "x                  float64\n",
            "x0                 float64\n",
            "y                  float64\n",
            "y0                 float64\n",
            "z0                 float64\n",
            "pfx_x              float64\n",
            "pfx_z              float64\n",
            "nasty              float64\n",
            "zone               float64\n",
            "code               object\n",
            "type               object\n",
            "pitch_type         object\n",
            "event_num          int64\n",
            "b_score            float64\n",
            "ab_id              float64\n",
            "b_count            float64\n",
            "s_count            float64\n",
            "outs               float64\n",
            "pitch_num          float64\n",
            "on_1b              float64\n",
            "on_2b              float64\n",
            "on_3b              float64\n",
            "dtypes: float64(36), int64(1), object(3)\n",
            "memory usage: 875.0+ MB\n"
          ],
          "name": "stdout"
        }
      ]
    },
    {
      "cell_type": "code",
      "metadata": {
        "id": "tFBAmn3zMDAK",
        "colab_type": "code",
        "outputId": "06ede899-40ac-41ee-fe66-7b38a8b75ad3",
        "colab": {
          "base_uri": "https://localhost:8080/",
          "height": 321
        }
      },
      "source": [
        "pitches.describe()"
      ],
      "execution_count": 0,
      "outputs": [
        {
          "output_type": "execute_result",
          "data": {
            "text/html": [
              "<div>\n",
              "<style scoped>\n",
              "    .dataframe tbody tr th:only-of-type {\n",
              "        vertical-align: middle;\n",
              "    }\n",
              "\n",
              "    .dataframe tbody tr th {\n",
              "        vertical-align: top;\n",
              "    }\n",
              "\n",
              "    .dataframe thead th {\n",
              "        text-align: right;\n",
              "    }\n",
              "</style>\n",
              "<table border=\"1\" class=\"dataframe\">\n",
              "  <thead>\n",
              "    <tr style=\"text-align: right;\">\n",
              "      <th></th>\n",
              "      <th>px</th>\n",
              "      <th>pz</th>\n",
              "      <th>start_speed</th>\n",
              "      <th>end_speed</th>\n",
              "      <th>spin_rate</th>\n",
              "      <th>spin_dir</th>\n",
              "      <th>break_angle</th>\n",
              "      <th>break_length</th>\n",
              "      <th>break_y</th>\n",
              "      <th>ax</th>\n",
              "      <th>ay</th>\n",
              "      <th>az</th>\n",
              "      <th>sz_bot</th>\n",
              "      <th>sz_top</th>\n",
              "      <th>type_confidence</th>\n",
              "      <th>vx0</th>\n",
              "      <th>vy0</th>\n",
              "      <th>vz0</th>\n",
              "      <th>x</th>\n",
              "      <th>x0</th>\n",
              "      <th>y</th>\n",
              "      <th>y0</th>\n",
              "      <th>z0</th>\n",
              "      <th>pfx_x</th>\n",
              "      <th>pfx_z</th>\n",
              "      <th>nasty</th>\n",
              "      <th>zone</th>\n",
              "      <th>event_num</th>\n",
              "      <th>b_score</th>\n",
              "      <th>ab_id</th>\n",
              "      <th>b_count</th>\n",
              "      <th>s_count</th>\n",
              "      <th>outs</th>\n",
              "      <th>pitch_num</th>\n",
              "      <th>on_1b</th>\n",
              "      <th>on_2b</th>\n",
              "      <th>on_3b</th>\n",
              "    </tr>\n",
              "  </thead>\n",
              "  <tbody>\n",
              "    <tr>\n",
              "      <th>count</th>\n",
              "      <td>2.852965e+06</td>\n",
              "      <td>2.852965e+06</td>\n",
              "      <td>2.853040e+06</td>\n",
              "      <td>2.853040e+06</td>\n",
              "      <td>2.852965e+06</td>\n",
              "      <td>2.852965e+06</td>\n",
              "      <td>2.852965e+06</td>\n",
              "      <td>2.852965e+06</td>\n",
              "      <td>2.852965e+06</td>\n",
              "      <td>2.852965e+06</td>\n",
              "      <td>2.852965e+06</td>\n",
              "      <td>2.852965e+06</td>\n",
              "      <td>2.865071e+06</td>\n",
              "      <td>2.865071e+06</td>\n",
              "      <td>2.852965e+06</td>\n",
              "      <td>2.852965e+06</td>\n",
              "      <td>2.852965e+06</td>\n",
              "      <td>2.852965e+06</td>\n",
              "      <td>2.867154e+06</td>\n",
              "      <td>2.852965e+06</td>\n",
              "      <td>2.867154e+06</td>\n",
              "      <td>2.852965e+06</td>\n",
              "      <td>2.852965e+06</td>\n",
              "      <td>2.853012e+06</td>\n",
              "      <td>2.853012e+06</td>\n",
              "      <td>2.852965e+06</td>\n",
              "      <td>2.852965e+06</td>\n",
              "      <td>2.867154e+06</td>\n",
              "      <td>2.867154e+06</td>\n",
              "      <td>2.867154e+06</td>\n",
              "      <td>2.867154e+06</td>\n",
              "      <td>2.867154e+06</td>\n",
              "      <td>2.867154e+06</td>\n",
              "      <td>2.867154e+06</td>\n",
              "      <td>2.867154e+06</td>\n",
              "      <td>2.867154e+06</td>\n",
              "      <td>2.867154e+06</td>\n",
              "    </tr>\n",
              "    <tr>\n",
              "      <th>mean</th>\n",
              "      <td>6.572502e-03</td>\n",
              "      <td>2.254962e+00</td>\n",
              "      <td>8.838124e+01</td>\n",
              "      <td>8.136274e+01</td>\n",
              "      <td>1.731173e+03</td>\n",
              "      <td>1.802308e+02</td>\n",
              "      <td>5.848084e+00</td>\n",
              "      <td>6.601459e+00</td>\n",
              "      <td>2.381685e+01</td>\n",
              "      <td>-2.308512e+00</td>\n",
              "      <td>2.649175e+01</td>\n",
              "      <td>-2.278275e+01</td>\n",
              "      <td>1.566689e+00</td>\n",
              "      <td>3.435719e+00</td>\n",
              "      <td>1.550896e+00</td>\n",
              "      <td>2.282811e+00</td>\n",
              "      <td>-1.288567e+02</td>\n",
              "      <td>-4.420795e+00</td>\n",
              "      <td>1.159975e+02</td>\n",
              "      <td>-7.189111e-01</td>\n",
              "      <td>1.758503e+02</td>\n",
              "      <td>5.000000e+01</td>\n",
              "      <td>5.814139e+00</td>\n",
              "      <td>-1.139971e+00</td>\n",
              "      <td>5.046326e+00</td>\n",
              "      <td>4.442669e+01</td>\n",
              "      <td>9.819750e+00</td>\n",
              "      <td>3.129711e+02</td>\n",
              "      <td>2.256608e+00</td>\n",
              "      <td>2.016606e+09</td>\n",
              "      <td>8.824259e-01</td>\n",
              "      <td>8.810873e-01</td>\n",
              "      <td>9.826033e-01</td>\n",
              "      <td>2.894472e+00</td>\n",
              "      <td>3.018314e-01</td>\n",
              "      <td>1.860451e-01</td>\n",
              "      <td>9.595543e-02</td>\n",
              "    </tr>\n",
              "    <tr>\n",
              "      <th>std</th>\n",
              "      <td>8.927490e-01</td>\n",
              "      <td>9.463968e-01</td>\n",
              "      <td>6.015540e+00</td>\n",
              "      <td>5.364057e+00</td>\n",
              "      <td>6.827521e+02</td>\n",
              "      <td>6.742859e+01</td>\n",
              "      <td>2.443621e+01</td>\n",
              "      <td>1.331708e+02</td>\n",
              "      <td>6.446540e-02</td>\n",
              "      <td>1.074066e+01</td>\n",
              "      <td>4.142729e+00</td>\n",
              "      <td>8.865066e+00</td>\n",
              "      <td>1.549407e-01</td>\n",
              "      <td>2.172590e-01</td>\n",
              "      <td>5.537377e-01</td>\n",
              "      <td>5.990039e+00</td>\n",
              "      <td>8.726126e+00</td>\n",
              "      <td>3.067389e+00</td>\n",
              "      <td>3.409448e+01</td>\n",
              "      <td>1.728592e+00</td>\n",
              "      <td>2.960411e+01</td>\n",
              "      <td>3.120278e-14</td>\n",
              "      <td>4.578852e-01</td>\n",
              "      <td>6.275731e+00</td>\n",
              "      <td>5.187005e+00</td>\n",
              "      <td>1.683662e+01</td>\n",
              "      <td>4.060956e+00</td>\n",
              "      <td>1.928482e+02</td>\n",
              "      <td>2.550955e+00</td>\n",
              "      <td>1.117238e+06</td>\n",
              "      <td>9.665457e-01</td>\n",
              "      <td>8.251786e-01</td>\n",
              "      <td>8.174947e-01</td>\n",
              "      <td>1.726595e+00</td>\n",
              "      <td>4.590526e-01</td>\n",
              "      <td>3.891431e-01</td>\n",
              "      <td>2.945302e-01</td>\n",
              "    </tr>\n",
              "    <tr>\n",
              "      <th>min</th>\n",
              "      <td>-1.054333e+01</td>\n",
              "      <td>-5.183664e+00</td>\n",
              "      <td>3.390000e+01</td>\n",
              "      <td>3.240000e+01</td>\n",
              "      <td>1.214000e+00</td>\n",
              "      <td>-2.000000e-03</td>\n",
              "      <td>-9.000000e+01</td>\n",
              "      <td>1.000000e-01</td>\n",
              "      <td>2.330000e+01</td>\n",
              "      <td>-5.929009e+01</td>\n",
              "      <td>-5.243748e-01</td>\n",
              "      <td>-7.717142e+01</td>\n",
              "      <td>-7.921409e+00</td>\n",
              "      <td>-1.849129e+00</td>\n",
              "      <td>0.000000e+00</td>\n",
              "      <td>-2.486900e+01</td>\n",
              "      <td>-1.533620e+02</td>\n",
              "      <td>-1.977060e+01</td>\n",
              "      <td>0.000000e+00</td>\n",
              "      <td>-9.556000e+00</td>\n",
              "      <td>0.000000e+00</td>\n",
              "      <td>5.000000e+01</td>\n",
              "      <td>-1.941000e+00</td>\n",
              "      <td>-2.809165e+01</td>\n",
              "      <td>-7.020600e+01</td>\n",
              "      <td>0.000000e+00</td>\n",
              "      <td>1.000000e+00</td>\n",
              "      <td>3.000000e+00</td>\n",
              "      <td>0.000000e+00</td>\n",
              "      <td>2.015000e+09</td>\n",
              "      <td>0.000000e+00</td>\n",
              "      <td>0.000000e+00</td>\n",
              "      <td>0.000000e+00</td>\n",
              "      <td>1.000000e+00</td>\n",
              "      <td>0.000000e+00</td>\n",
              "      <td>0.000000e+00</td>\n",
              "      <td>0.000000e+00</td>\n",
              "    </tr>\n",
              "    <tr>\n",
              "      <th>25%</th>\n",
              "      <td>-5.908243e-01</td>\n",
              "      <td>1.650000e+00</td>\n",
              "      <td>8.430000e+01</td>\n",
              "      <td>7.790000e+01</td>\n",
              "      <td>1.238745e+03</td>\n",
              "      <td>1.371540e+02</td>\n",
              "      <td>-1.190000e+01</td>\n",
              "      <td>4.300000e+00</td>\n",
              "      <td>2.380000e+01</td>\n",
              "      <td>-1.129000e+01</td>\n",
              "      <td>2.346000e+01</td>\n",
              "      <td>-2.871775e+01</td>\n",
              "      <td>1.485351e+00</td>\n",
              "      <td>3.300000e+00</td>\n",
              "      <td>9.060000e-01</td>\n",
              "      <td>-2.081861e+00</td>\n",
              "      <td>-1.355100e+02</td>\n",
              "      <td>-6.513000e+00</td>\n",
              "      <td>9.342000e+01</td>\n",
              "      <td>-1.955000e+00</td>\n",
              "      <td>1.606500e+02</td>\n",
              "      <td>5.000000e+01</td>\n",
              "      <td>5.564194e+00</td>\n",
              "      <td>-6.450000e+00</td>\n",
              "      <td>2.160000e+00</td>\n",
              "      <td>3.200000e+01</td>\n",
              "      <td>6.000000e+00</td>\n",
              "      <td>1.490000e+02</td>\n",
              "      <td>0.000000e+00</td>\n",
              "      <td>2.016004e+09</td>\n",
              "      <td>0.000000e+00</td>\n",
              "      <td>0.000000e+00</td>\n",
              "      <td>0.000000e+00</td>\n",
              "      <td>1.000000e+00</td>\n",
              "      <td>0.000000e+00</td>\n",
              "      <td>0.000000e+00</td>\n",
              "      <td>0.000000e+00</td>\n",
              "    </tr>\n",
              "    <tr>\n",
              "      <th>50%</th>\n",
              "      <td>1.300000e-02</td>\n",
              "      <td>2.259000e+00</td>\n",
              "      <td>8.970000e+01</td>\n",
              "      <td>8.250000e+01</td>\n",
              "      <td>1.866322e+03</td>\n",
              "      <td>1.958850e+02</td>\n",
              "      <td>6.800000e+00</td>\n",
              "      <td>6.000000e+00</td>\n",
              "      <td>2.380000e+01</td>\n",
              "      <td>-3.142000e+00</td>\n",
              "      <td>2.647444e+01</td>\n",
              "      <td>-2.159500e+01</td>\n",
              "      <td>1.570000e+00</td>\n",
              "      <td>3.440000e+00</td>\n",
              "      <td>2.000000e+00</td>\n",
              "      <td>3.989000e+00</td>\n",
              "      <td>-1.308299e+02</td>\n",
              "      <td>-4.604841e+00</td>\n",
              "      <td>1.161400e+02</td>\n",
              "      <td>-1.333530e+00</td>\n",
              "      <td>1.771800e+02</td>\n",
              "      <td>5.000000e+01</td>\n",
              "      <td>5.842237e+00</td>\n",
              "      <td>-1.880000e+00</td>\n",
              "      <td>6.090000e+00</td>\n",
              "      <td>4.400000e+01</td>\n",
              "      <td>1.100000e+01</td>\n",
              "      <td>3.020000e+02</td>\n",
              "      <td>1.000000e+00</td>\n",
              "      <td>2.017004e+09</td>\n",
              "      <td>1.000000e+00</td>\n",
              "      <td>1.000000e+00</td>\n",
              "      <td>1.000000e+00</td>\n",
              "      <td>3.000000e+00</td>\n",
              "      <td>0.000000e+00</td>\n",
              "      <td>0.000000e+00</td>\n",
              "      <td>0.000000e+00</td>\n",
              "    </tr>\n",
              "    <tr>\n",
              "      <th>75%</th>\n",
              "      <td>6.090000e-01</td>\n",
              "      <td>2.863000e+00</td>\n",
              "      <td>9.300000e+01</td>\n",
              "      <td>8.540000e+01</td>\n",
              "      <td>2.247564e+03</td>\n",
              "      <td>2.252340e+02</td>\n",
              "      <td>2.700000e+01</td>\n",
              "      <td>8.000000e+00</td>\n",
              "      <td>2.390000e+01</td>\n",
              "      <td>5.995827e+00</td>\n",
              "      <td>2.938409e+01</td>\n",
              "      <td>-1.574300e+01</td>\n",
              "      <td>1.658626e+00</td>\n",
              "      <td>3.578467e+00</td>\n",
              "      <td>2.000000e+00</td>\n",
              "      <td>6.625942e+00</td>\n",
              "      <td>-1.229450e+02</td>\n",
              "      <td>-2.488206e+00</td>\n",
              "      <td>1.392400e+02</td>\n",
              "      <td>7.766212e-01</td>\n",
              "      <td>1.936400e+02</td>\n",
              "      <td>5.000000e+01</td>\n",
              "      <td>6.104551e+00</td>\n",
              "      <td>3.864644e+00</td>\n",
              "      <td>8.950000e+00</td>\n",
              "      <td>5.600000e+01</td>\n",
              "      <td>1.300000e+01</td>\n",
              "      <td>4.640000e+02</td>\n",
              "      <td>3.000000e+00</td>\n",
              "      <td>2.018002e+09</td>\n",
              "      <td>2.000000e+00</td>\n",
              "      <td>2.000000e+00</td>\n",
              "      <td>2.000000e+00</td>\n",
              "      <td>4.000000e+00</td>\n",
              "      <td>1.000000e+00</td>\n",
              "      <td>0.000000e+00</td>\n",
              "      <td>0.000000e+00</td>\n",
              "    </tr>\n",
              "    <tr>\n",
              "      <th>max</th>\n",
              "      <td>1.295291e+01</td>\n",
              "      <td>1.488624e+01</td>\n",
              "      <td>1.050000e+02</td>\n",
              "      <td>9.690000e+01</td>\n",
              "      <td>6.539259e+03</td>\n",
              "      <td>3.600010e+02</td>\n",
              "      <td>2.694000e+02</td>\n",
              "      <td>2.248893e+05</td>\n",
              "      <td>3.640000e+01</td>\n",
              "      <td>4.097800e+01</td>\n",
              "      <td>5.405700e+01</td>\n",
              "      <td>2.230520e+01</td>\n",
              "      <td>1.069854e+01</td>\n",
              "      <td>1.054815e+01</td>\n",
              "      <td>2.000000e+00</td>\n",
              "      <td>2.515000e+01</td>\n",
              "      <td>-4.755200e+01</td>\n",
              "      <td>2.781500e+01</td>\n",
              "      <td>2.499500e+02</td>\n",
              "      <td>9.676000e+00</td>\n",
              "      <td>2.500000e+02</td>\n",
              "      <td>5.000000e+01</td>\n",
              "      <td>1.059600e+01</td>\n",
              "      <td>2.202000e+01</td>\n",
              "      <td>3.316048e+01</td>\n",
              "      <td>1.000000e+02</td>\n",
              "      <td>1.400000e+01</td>\n",
              "      <td>1.336000e+03</td>\n",
              "      <td>2.500000e+01</td>\n",
              "      <td>2.018186e+09</td>\n",
              "      <td>4.000000e+00</td>\n",
              "      <td>2.000000e+00</td>\n",
              "      <td>2.000000e+00</td>\n",
              "      <td>2.100000e+01</td>\n",
              "      <td>1.000000e+00</td>\n",
              "      <td>1.000000e+00</td>\n",
              "      <td>1.000000e+00</td>\n",
              "    </tr>\n",
              "  </tbody>\n",
              "</table>\n",
              "</div>"
            ],
            "text/plain": [
              "                 px            pz  ...         on_2b         on_3b\n",
              "count  2.852965e+06  2.852965e+06  ...  2.867154e+06  2.867154e+06\n",
              "mean   6.572502e-03  2.254962e+00  ...  1.860451e-01  9.595543e-02\n",
              "std    8.927490e-01  9.463968e-01  ...  3.891431e-01  2.945302e-01\n",
              "min   -1.054333e+01 -5.183664e+00  ...  0.000000e+00  0.000000e+00\n",
              "25%   -5.908243e-01  1.650000e+00  ...  0.000000e+00  0.000000e+00\n",
              "50%    1.300000e-02  2.259000e+00  ...  0.000000e+00  0.000000e+00\n",
              "75%    6.090000e-01  2.863000e+00  ...  0.000000e+00  0.000000e+00\n",
              "max    1.295291e+01  1.488624e+01  ...  1.000000e+00  1.000000e+00\n",
              "\n",
              "[8 rows x 37 columns]"
            ]
          },
          "metadata": {
            "tags": []
          },
          "execution_count": 89
        }
      ]
    },
    {
      "cell_type": "code",
      "metadata": {
        "id": "3ukEn_1vMDAL",
        "colab_type": "code",
        "colab": {}
      },
      "source": [
        "data2 = data18.drop(['event_num', 'type_confidence', 'ab_id', 'code', 'type', \\\n",
        "                     'event', 'g_id', 'year'], axis = 1)"
      ],
      "execution_count": 0,
      "outputs": []
    },
    {
      "cell_type": "code",
      "metadata": {
        "scrolled": true,
        "id": "vn4NdIQnMDAM",
        "colab_type": "code",
        "outputId": "a43279f7-a2c0-4ad3-818d-ba66f9807abb",
        "colab": {
          "base_uri": "https://localhost:8080/",
          "height": 840
        }
      },
      "source": [
        "data2.info()"
      ],
      "execution_count": 0,
      "outputs": [
        {
          "output_type": "stream",
          "text": [
            "<class 'pandas.core.frame.DataFrame'>\n",
            "Int64Index: 724444 entries, 2142710 to 2867153\n",
            "Data columns (total 44 columns):\n",
            "px              718322 non-null float64\n",
            "pz              718322 non-null float64\n",
            "start_speed     718334 non-null float64\n",
            "end_speed       718334 non-null float64\n",
            "spin_rate       718322 non-null float64\n",
            "spin_dir        718322 non-null float64\n",
            "break_angle     718322 non-null float64\n",
            "break_length    718322 non-null float64\n",
            "break_y         718322 non-null float64\n",
            "ax              718322 non-null float64\n",
            "ay              718322 non-null float64\n",
            "az              718322 non-null float64\n",
            "sz_bot          723353 non-null float64\n",
            "sz_top          723353 non-null float64\n",
            "vx0             718322 non-null float64\n",
            "vy0             718322 non-null float64\n",
            "vz0             718322 non-null float64\n",
            "x               724444 non-null float64\n",
            "x0              718322 non-null float64\n",
            "y               724444 non-null float64\n",
            "y0              718322 non-null float64\n",
            "z0              718322 non-null float64\n",
            "pfx_x           718322 non-null float64\n",
            "pfx_z           718322 non-null float64\n",
            "nasty           718322 non-null float64\n",
            "zone            718322 non-null float64\n",
            "pitch_type      718322 non-null object\n",
            "b_score         724444 non-null float64\n",
            "b_count         724444 non-null float64\n",
            "s_count         724444 non-null float64\n",
            "outs            724444 non-null float64\n",
            "pitch_num       724444 non-null float64\n",
            "on_1b           724444 non-null float64\n",
            "on_2b           724444 non-null float64\n",
            "on_3b           724444 non-null float64\n",
            "batter_id       724444 non-null int64\n",
            "event           724444 non-null object\n",
            "inning          724444 non-null int64\n",
            "o               724444 non-null int64\n",
            "p_score         724444 non-null int64\n",
            "p_throws        724444 non-null object\n",
            "pitcher_id      724444 non-null int64\n",
            "stand           724444 non-null object\n",
            "top             724444 non-null bool\n",
            "dtypes: bool(1), float64(34), int64(5), object(4)\n",
            "memory usage: 263.9+ MB\n"
          ],
          "name": "stdout"
        }
      ]
    },
    {
      "cell_type": "code",
      "metadata": {
        "id": "ftVZNaLPhDaL",
        "colab_type": "code",
        "outputId": "2aa89342-44b4-474f-e538-3033d9210afd",
        "colab": {
          "base_uri": "https://localhost:8080/",
          "height": 286
        }
      },
      "source": [
        "data2.pitch_type.value_counts()"
      ],
      "execution_count": 0,
      "outputs": [
        {
          "output_type": "execute_result",
          "data": {
            "text/plain": [
              "FF    254086\n",
              "SL    122796\n",
              "FT     81617\n",
              "CH     74606\n",
              "CU     60360\n",
              "SI     57970\n",
              "FC     39061\n",
              "KC     16327\n",
              "FS     10365\n",
              "KN       719\n",
              "EP       204\n",
              "PO        89\n",
              "FO        84\n",
              "SC        37\n",
              "AB         1\n",
              "Name: pitch_type, dtype: int64"
            ]
          },
          "metadata": {
            "tags": []
          },
          "execution_count": 214
        }
      ]
    },
    {
      "cell_type": "code",
      "metadata": {
        "id": "trojiGRmMDAN",
        "colab_type": "code",
        "colab": {}
      },
      "source": [
        "data2 = data2[data2.pitch_type != 'FA']\n",
        "data2 = data2[data2.pitch_type != 'AB']\n",
        "data2 = data2[data2.pitch_type != 'KN']\n",
        "data2 = data2[data2.pitch_type != 'EP']\n",
        "data2 = data2[data2.pitch_type != 'FO']\n",
        "data2 = data2[data2.pitch_type != 'PO']\n",
        "data2 = data2[data2.pitch_type != 'SC']"
      ],
      "execution_count": 0,
      "outputs": []
    },
    {
      "cell_type": "code",
      "metadata": {
        "id": "F0yxvVSCfyQl",
        "colab_type": "code",
        "outputId": "9f9f63ee-8180-4b27-e3b8-d27938fbe1be",
        "colab": {
          "base_uri": "https://localhost:8080/",
          "height": 185
        }
      },
      "source": [
        "data2.pitch_type.value_counts()"
      ],
      "execution_count": 0,
      "outputs": [
        {
          "output_type": "execute_result",
          "data": {
            "text/plain": [
              "FF    254086\n",
              "SL    122796\n",
              "FT     81617\n",
              "CH     74606\n",
              "CU     60360\n",
              "SI     57970\n",
              "FC     39061\n",
              "KC     16327\n",
              "FS     10365\n",
              "Name: pitch_type, dtype: int64"
            ]
          },
          "metadata": {
            "tags": []
          },
          "execution_count": 216
        }
      ]
    },
    {
      "cell_type": "code",
      "metadata": {
        "id": "d6xf_nD6fyoz",
        "colab_type": "code",
        "colab": {}
      },
      "source": [
        "data2.pitch_type.replace('FS', 'FF', inplace=True)\n",
        "data2.pitch_type.replace('FC', 'FF', inplace=True)\n",
        "data2.pitch_type.replace('FT', 'FF', inplace=True)\n",
        "data2.pitch_type.replace('KC', 'CU', inplace=True)"
      ],
      "execution_count": 0,
      "outputs": []
    },
    {
      "cell_type": "code",
      "metadata": {
        "id": "h5CvQYrOfy4L",
        "colab_type": "code",
        "outputId": "e992b127-e6cb-44da-fe92-6bda793f2f5c",
        "colab": {
          "base_uri": "https://localhost:8080/",
          "height": 118
        }
      },
      "source": [
        "data2.pitch_type.value_counts()"
      ],
      "execution_count": 0,
      "outputs": [
        {
          "output_type": "execute_result",
          "data": {
            "text/plain": [
              "FF    385129\n",
              "SL    122796\n",
              "CU     76687\n",
              "CH     74606\n",
              "SI     57970\n",
              "Name: pitch_type, dtype: int64"
            ]
          },
          "metadata": {
            "tags": []
          },
          "execution_count": 218
        }
      ]
    },
    {
      "cell_type": "code",
      "metadata": {
        "id": "SvmlAie0MDAO",
        "colab_type": "code",
        "outputId": "ad764684-bd92-4f32-a3fd-abf0ee4dd5d6",
        "colab": {
          "base_uri": "https://localhost:8080/",
          "height": 84
        }
      },
      "source": [
        "from sklearn.preprocessing import LabelEncoder\n",
        "le = LabelEncoder() #Initialize. le used as abbreviation fo label encoder\n",
        "le.fit(features['event'])\n",
        "print(\"Original class labels:\")\n",
        "print(list(le.classes_))\n",
        "print('\\n')\n",
        "features['event'] = le.transform(features['event'])  \n",
        "#list(le.inverse_transform([0, 1, 3, 3, 0, 6, 4])) #If you wish to retrieve the original descriptive labels post production"
      ],
      "execution_count": 0,
      "outputs": [
        {
          "output_type": "stream",
          "text": [
            "Original class labels:\n",
            "[0, 1, 2, 3, 4, 5, 6, 7, 8, 9, 10, 11, 12, 13, 14, 15, 16, 17, 18, 19, 20, 21, 22, 23, 24, 25, 26, 27, 28, 29]\n",
            "\n",
            "\n"
          ],
          "name": "stdout"
        }
      ]
    },
    {
      "cell_type": "code",
      "metadata": {
        "scrolled": true,
        "id": "u1uoAzNPMDAP",
        "colab_type": "code",
        "colab": {}
      },
      "source": [
        "data2.p_throws = data2.p_throws.replace(['R', 'L'], [0,1])\n",
        "data2.stand = data2.stand.replace(['R', 'L'], [0,1])\n",
        "data2.top = data2.top.replace([True, False], [1,0])"
      ],
      "execution_count": 0,
      "outputs": []
    },
    {
      "cell_type": "code",
      "metadata": {
        "id": "pqLLLcbWMDAR",
        "colab_type": "code",
        "outputId": "52ae675c-f315-4afb-91c6-4440b64628a8",
        "colab": {
          "base_uri": "https://localhost:8080/",
          "height": 823
        }
      },
      "source": [
        "data2.info()"
      ],
      "execution_count": 0,
      "outputs": [
        {
          "output_type": "stream",
          "text": [
            "<class 'pandas.core.frame.DataFrame'>\n",
            "Int64Index: 723310 entries, 2142710 to 2867153\n",
            "Data columns (total 43 columns):\n",
            "px              717188 non-null float64\n",
            "pz              717188 non-null float64\n",
            "start_speed     717200 non-null float64\n",
            "end_speed       717200 non-null float64\n",
            "spin_rate       717188 non-null float64\n",
            "spin_dir        717188 non-null float64\n",
            "break_angle     717188 non-null float64\n",
            "break_length    717188 non-null float64\n",
            "break_y         717188 non-null float64\n",
            "ax              717188 non-null float64\n",
            "ay              717188 non-null float64\n",
            "az              717188 non-null float64\n",
            "sz_bot          722219 non-null float64\n",
            "sz_top          722219 non-null float64\n",
            "vx0             717188 non-null float64\n",
            "vy0             717188 non-null float64\n",
            "vz0             717188 non-null float64\n",
            "x               723310 non-null float64\n",
            "x0              717188 non-null float64\n",
            "y               723310 non-null float64\n",
            "y0              717188 non-null float64\n",
            "z0              717188 non-null float64\n",
            "pfx_x           717188 non-null float64\n",
            "pfx_z           717188 non-null float64\n",
            "nasty           717188 non-null float64\n",
            "zone            717188 non-null float64\n",
            "pitch_type      717188 non-null object\n",
            "b_score         723310 non-null float64\n",
            "b_count         723310 non-null float64\n",
            "s_count         723310 non-null float64\n",
            "outs            723310 non-null float64\n",
            "pitch_num       723310 non-null float64\n",
            "on_1b           723310 non-null float64\n",
            "on_2b           723310 non-null float64\n",
            "on_3b           723310 non-null float64\n",
            "batter_id       723310 non-null int64\n",
            "inning          723310 non-null int64\n",
            "o               723310 non-null int64\n",
            "p_score         723310 non-null int64\n",
            "p_throws        723310 non-null int64\n",
            "pitcher_id      723310 non-null int64\n",
            "stand           723310 non-null int64\n",
            "top             723310 non-null int64\n",
            "dtypes: float64(34), int64(8), object(1)\n",
            "memory usage: 242.8+ MB\n"
          ],
          "name": "stdout"
        }
      ]
    },
    {
      "cell_type": "code",
      "metadata": {
        "id": "P0Eap0e0MDAT",
        "colab_type": "code",
        "colab": {}
      },
      "source": [
        "data2 = data2.dropna()"
      ],
      "execution_count": 0,
      "outputs": []
    },
    {
      "cell_type": "code",
      "metadata": {
        "scrolled": true,
        "id": "LQqDTiQMMDAU",
        "colab_type": "code",
        "outputId": "b55ccecc-70ee-4128-a49e-6018887f99d7",
        "colab": {
          "base_uri": "https://localhost:8080/",
          "height": 823
        }
      },
      "source": [
        "data2.info()"
      ],
      "execution_count": 0,
      "outputs": [
        {
          "output_type": "stream",
          "text": [
            "<class 'pandas.core.frame.DataFrame'>\n",
            "Int64Index: 717188 entries, 2142710 to 2867153\n",
            "Data columns (total 43 columns):\n",
            "px              717188 non-null float64\n",
            "pz              717188 non-null float64\n",
            "start_speed     717188 non-null float64\n",
            "end_speed       717188 non-null float64\n",
            "spin_rate       717188 non-null float64\n",
            "spin_dir        717188 non-null float64\n",
            "break_angle     717188 non-null float64\n",
            "break_length    717188 non-null float64\n",
            "break_y         717188 non-null float64\n",
            "ax              717188 non-null float64\n",
            "ay              717188 non-null float64\n",
            "az              717188 non-null float64\n",
            "sz_bot          717188 non-null float64\n",
            "sz_top          717188 non-null float64\n",
            "vx0             717188 non-null float64\n",
            "vy0             717188 non-null float64\n",
            "vz0             717188 non-null float64\n",
            "x               717188 non-null float64\n",
            "x0              717188 non-null float64\n",
            "y               717188 non-null float64\n",
            "y0              717188 non-null float64\n",
            "z0              717188 non-null float64\n",
            "pfx_x           717188 non-null float64\n",
            "pfx_z           717188 non-null float64\n",
            "nasty           717188 non-null float64\n",
            "zone            717188 non-null float64\n",
            "pitch_type      717188 non-null object\n",
            "b_score         717188 non-null float64\n",
            "b_count         717188 non-null float64\n",
            "s_count         717188 non-null float64\n",
            "outs            717188 non-null float64\n",
            "pitch_num       717188 non-null float64\n",
            "on_1b           717188 non-null float64\n",
            "on_2b           717188 non-null float64\n",
            "on_3b           717188 non-null float64\n",
            "batter_id       717188 non-null int64\n",
            "inning          717188 non-null int64\n",
            "o               717188 non-null int64\n",
            "p_score         717188 non-null int64\n",
            "p_throws        717188 non-null int64\n",
            "pitcher_id      717188 non-null int64\n",
            "stand           717188 non-null int64\n",
            "top             717188 non-null int64\n",
            "dtypes: float64(34), int64(8), object(1)\n",
            "memory usage: 240.8+ MB\n"
          ],
          "name": "stdout"
        }
      ]
    },
    {
      "cell_type": "code",
      "metadata": {
        "id": "toxWy267piI5",
        "colab_type": "code",
        "colab": {}
      },
      "source": [
        "target1 = data2.pitch_type"
      ],
      "execution_count": 0,
      "outputs": []
    },
    {
      "cell_type": "code",
      "metadata": {
        "id": "Jda_cZrTphxT",
        "colab_type": "code",
        "colab": {}
      },
      "source": [
        "features1 = data2.drop('pitch_type', axis=1) "
      ],
      "execution_count": 0,
      "outputs": []
    },
    {
      "cell_type": "code",
      "metadata": {
        "id": "MyfeqdCrMDAV",
        "colab_type": "code",
        "outputId": "985546d1-ee29-436d-c991-304b0e1e5e25",
        "colab": {
          "base_uri": "https://localhost:8080/",
          "height": 303
        }
      },
      "source": [
        "sns.pairplot(data=features1);"
      ],
      "execution_count": 0,
      "outputs": [
        {
          "output_type": "error",
          "ename": "KeyboardInterrupt",
          "evalue": "ignored",
          "traceback": [
            "\u001b[0;31m---------------------------------------------------------------------------\u001b[0m",
            "\u001b[0;31mKeyboardInterrupt\u001b[0m                         Traceback (most recent call last)",
            "\u001b[0;32m<ipython-input-99-f13cec1f4bbe>\u001b[0m in \u001b[0;36m<module>\u001b[0;34m()\u001b[0m\n\u001b[0;32m----> 1\u001b[0;31m \u001b[0msns\u001b[0m\u001b[0;34m.\u001b[0m\u001b[0mbarplot\u001b[0m\u001b[0;34m(\u001b[0m\u001b[0mdata\u001b[0m\u001b[0;34m=\u001b[0m\u001b[0mfeatures\u001b[0m\u001b[0;34m)\u001b[0m\u001b[0;34m;\u001b[0m\u001b[0;34m\u001b[0m\u001b[0;34m\u001b[0m\u001b[0m\n\u001b[0m",
            "\u001b[0;32m/usr/local/lib/python3.6/dist-packages/seaborn/categorical.py\u001b[0m in \u001b[0;36mbarplot\u001b[0;34m(x, y, hue, data, order, hue_order, estimator, ci, n_boot, units, orient, color, palette, saturation, errcolor, errwidth, capsize, dodge, ax, **kwargs)\u001b[0m\n\u001b[1;32m   3147\u001b[0m                           \u001b[0mestimator\u001b[0m\u001b[0;34m,\u001b[0m \u001b[0mci\u001b[0m\u001b[0;34m,\u001b[0m \u001b[0mn_boot\u001b[0m\u001b[0;34m,\u001b[0m \u001b[0munits\u001b[0m\u001b[0;34m,\u001b[0m\u001b[0;34m\u001b[0m\u001b[0;34m\u001b[0m\u001b[0m\n\u001b[1;32m   3148\u001b[0m                           \u001b[0morient\u001b[0m\u001b[0;34m,\u001b[0m \u001b[0mcolor\u001b[0m\u001b[0;34m,\u001b[0m \u001b[0mpalette\u001b[0m\u001b[0;34m,\u001b[0m \u001b[0msaturation\u001b[0m\u001b[0;34m,\u001b[0m\u001b[0;34m\u001b[0m\u001b[0;34m\u001b[0m\u001b[0m\n\u001b[0;32m-> 3149\u001b[0;31m                           errcolor, errwidth, capsize, dodge)\n\u001b[0m\u001b[1;32m   3150\u001b[0m \u001b[0;34m\u001b[0m\u001b[0m\n\u001b[1;32m   3151\u001b[0m     \u001b[0;32mif\u001b[0m \u001b[0max\u001b[0m \u001b[0;32mis\u001b[0m \u001b[0;32mNone\u001b[0m\u001b[0;34m:\u001b[0m\u001b[0;34m\u001b[0m\u001b[0;34m\u001b[0m\u001b[0m\n",
            "\u001b[0;32m/usr/local/lib/python3.6/dist-packages/seaborn/categorical.py\u001b[0m in \u001b[0;36m__init__\u001b[0;34m(self, x, y, hue, data, order, hue_order, estimator, ci, n_boot, units, orient, color, palette, saturation, errcolor, errwidth, capsize, dodge)\u001b[0m\n\u001b[1;32m   1607\u001b[0m                                  order, hue_order, units)\n\u001b[1;32m   1608\u001b[0m         \u001b[0mself\u001b[0m\u001b[0;34m.\u001b[0m\u001b[0mestablish_colors\u001b[0m\u001b[0;34m(\u001b[0m\u001b[0mcolor\u001b[0m\u001b[0;34m,\u001b[0m \u001b[0mpalette\u001b[0m\u001b[0;34m,\u001b[0m \u001b[0msaturation\u001b[0m\u001b[0;34m)\u001b[0m\u001b[0;34m\u001b[0m\u001b[0;34m\u001b[0m\u001b[0m\n\u001b[0;32m-> 1609\u001b[0;31m         \u001b[0mself\u001b[0m\u001b[0;34m.\u001b[0m\u001b[0mestimate_statistic\u001b[0m\u001b[0;34m(\u001b[0m\u001b[0mestimator\u001b[0m\u001b[0;34m,\u001b[0m \u001b[0mci\u001b[0m\u001b[0;34m,\u001b[0m \u001b[0mn_boot\u001b[0m\u001b[0;34m)\u001b[0m\u001b[0;34m\u001b[0m\u001b[0;34m\u001b[0m\u001b[0m\n\u001b[0m\u001b[1;32m   1610\u001b[0m \u001b[0;34m\u001b[0m\u001b[0m\n\u001b[1;32m   1611\u001b[0m         \u001b[0mself\u001b[0m\u001b[0;34m.\u001b[0m\u001b[0mdodge\u001b[0m \u001b[0;34m=\u001b[0m \u001b[0mdodge\u001b[0m\u001b[0;34m\u001b[0m\u001b[0;34m\u001b[0m\u001b[0m\n",
            "\u001b[0;32m/usr/local/lib/python3.6/dist-packages/seaborn/categorical.py\u001b[0m in \u001b[0;36mestimate_statistic\u001b[0;34m(self, estimator, ci, n_boot)\u001b[0m\n\u001b[1;32m   1510\u001b[0m                         boots = bootstrap(stat_data, func=estimator,\n\u001b[1;32m   1511\u001b[0m                                           \u001b[0mn_boot\u001b[0m\u001b[0;34m=\u001b[0m\u001b[0mn_boot\u001b[0m\u001b[0;34m,\u001b[0m\u001b[0;34m\u001b[0m\u001b[0;34m\u001b[0m\u001b[0m\n\u001b[0;32m-> 1512\u001b[0;31m                                           units=unit_data)\n\u001b[0m\u001b[1;32m   1513\u001b[0m                         \u001b[0mconfint\u001b[0m\u001b[0;34m.\u001b[0m\u001b[0mappend\u001b[0m\u001b[0;34m(\u001b[0m\u001b[0mutils\u001b[0m\u001b[0;34m.\u001b[0m\u001b[0mci\u001b[0m\u001b[0;34m(\u001b[0m\u001b[0mboots\u001b[0m\u001b[0;34m,\u001b[0m \u001b[0mci\u001b[0m\u001b[0;34m)\u001b[0m\u001b[0;34m)\u001b[0m\u001b[0;34m\u001b[0m\u001b[0;34m\u001b[0m\u001b[0m\n\u001b[1;32m   1514\u001b[0m \u001b[0;34m\u001b[0m\u001b[0m\n",
            "\u001b[0;32m/usr/local/lib/python3.6/dist-packages/seaborn/algorithms.py\u001b[0m in \u001b[0;36mbootstrap\u001b[0;34m(*args, **kwargs)\u001b[0m\n\u001b[1;32m     85\u001b[0m     \u001b[0;32mfor\u001b[0m \u001b[0mi\u001b[0m \u001b[0;32min\u001b[0m \u001b[0mrange\u001b[0m\u001b[0;34m(\u001b[0m\u001b[0mint\u001b[0m\u001b[0;34m(\u001b[0m\u001b[0mn_boot\u001b[0m\u001b[0;34m)\u001b[0m\u001b[0;34m)\u001b[0m\u001b[0;34m:\u001b[0m\u001b[0;34m\u001b[0m\u001b[0;34m\u001b[0m\u001b[0m\n\u001b[1;32m     86\u001b[0m         \u001b[0mresampler\u001b[0m \u001b[0;34m=\u001b[0m \u001b[0mrs\u001b[0m\u001b[0;34m.\u001b[0m\u001b[0mrandint\u001b[0m\u001b[0;34m(\u001b[0m\u001b[0;36m0\u001b[0m\u001b[0;34m,\u001b[0m \u001b[0mn\u001b[0m\u001b[0;34m,\u001b[0m \u001b[0mn\u001b[0m\u001b[0;34m)\u001b[0m\u001b[0;34m\u001b[0m\u001b[0;34m\u001b[0m\u001b[0m\n\u001b[0;32m---> 87\u001b[0;31m         \u001b[0msample\u001b[0m \u001b[0;34m=\u001b[0m \u001b[0;34m[\u001b[0m\u001b[0ma\u001b[0m\u001b[0;34m.\u001b[0m\u001b[0mtake\u001b[0m\u001b[0;34m(\u001b[0m\u001b[0mresampler\u001b[0m\u001b[0;34m,\u001b[0m \u001b[0maxis\u001b[0m\u001b[0;34m=\u001b[0m\u001b[0;36m0\u001b[0m\u001b[0;34m)\u001b[0m \u001b[0;32mfor\u001b[0m \u001b[0ma\u001b[0m \u001b[0;32min\u001b[0m \u001b[0margs\u001b[0m\u001b[0;34m]\u001b[0m\u001b[0;34m\u001b[0m\u001b[0;34m\u001b[0m\u001b[0m\n\u001b[0m\u001b[1;32m     88\u001b[0m         \u001b[0mboot_dist\u001b[0m\u001b[0;34m.\u001b[0m\u001b[0mappend\u001b[0m\u001b[0;34m(\u001b[0m\u001b[0mf\u001b[0m\u001b[0;34m(\u001b[0m\u001b[0;34m*\u001b[0m\u001b[0msample\u001b[0m\u001b[0;34m,\u001b[0m \u001b[0;34m**\u001b[0m\u001b[0mfunc_kwargs\u001b[0m\u001b[0;34m)\u001b[0m\u001b[0;34m)\u001b[0m\u001b[0;34m\u001b[0m\u001b[0;34m\u001b[0m\u001b[0m\n\u001b[1;32m     89\u001b[0m     \u001b[0;32mreturn\u001b[0m \u001b[0mnp\u001b[0m\u001b[0;34m.\u001b[0m\u001b[0marray\u001b[0m\u001b[0;34m(\u001b[0m\u001b[0mboot_dist\u001b[0m\u001b[0;34m)\u001b[0m\u001b[0;34m\u001b[0m\u001b[0;34m\u001b[0m\u001b[0m\n",
            "\u001b[0;32m/usr/local/lib/python3.6/dist-packages/seaborn/algorithms.py\u001b[0m in \u001b[0;36m<listcomp>\u001b[0;34m(.0)\u001b[0m\n\u001b[1;32m     85\u001b[0m     \u001b[0;32mfor\u001b[0m \u001b[0mi\u001b[0m \u001b[0;32min\u001b[0m \u001b[0mrange\u001b[0m\u001b[0;34m(\u001b[0m\u001b[0mint\u001b[0m\u001b[0;34m(\u001b[0m\u001b[0mn_boot\u001b[0m\u001b[0;34m)\u001b[0m\u001b[0;34m)\u001b[0m\u001b[0;34m:\u001b[0m\u001b[0;34m\u001b[0m\u001b[0;34m\u001b[0m\u001b[0m\n\u001b[1;32m     86\u001b[0m         \u001b[0mresampler\u001b[0m \u001b[0;34m=\u001b[0m \u001b[0mrs\u001b[0m\u001b[0;34m.\u001b[0m\u001b[0mrandint\u001b[0m\u001b[0;34m(\u001b[0m\u001b[0;36m0\u001b[0m\u001b[0;34m,\u001b[0m \u001b[0mn\u001b[0m\u001b[0;34m,\u001b[0m \u001b[0mn\u001b[0m\u001b[0;34m)\u001b[0m\u001b[0;34m\u001b[0m\u001b[0;34m\u001b[0m\u001b[0m\n\u001b[0;32m---> 87\u001b[0;31m         \u001b[0msample\u001b[0m \u001b[0;34m=\u001b[0m \u001b[0;34m[\u001b[0m\u001b[0ma\u001b[0m\u001b[0;34m.\u001b[0m\u001b[0mtake\u001b[0m\u001b[0;34m(\u001b[0m\u001b[0mresampler\u001b[0m\u001b[0;34m,\u001b[0m \u001b[0maxis\u001b[0m\u001b[0;34m=\u001b[0m\u001b[0;36m0\u001b[0m\u001b[0;34m)\u001b[0m \u001b[0;32mfor\u001b[0m \u001b[0ma\u001b[0m \u001b[0;32min\u001b[0m \u001b[0margs\u001b[0m\u001b[0;34m]\u001b[0m\u001b[0;34m\u001b[0m\u001b[0;34m\u001b[0m\u001b[0m\n\u001b[0m\u001b[1;32m     88\u001b[0m         \u001b[0mboot_dist\u001b[0m\u001b[0;34m.\u001b[0m\u001b[0mappend\u001b[0m\u001b[0;34m(\u001b[0m\u001b[0mf\u001b[0m\u001b[0;34m(\u001b[0m\u001b[0;34m*\u001b[0m\u001b[0msample\u001b[0m\u001b[0;34m,\u001b[0m \u001b[0;34m**\u001b[0m\u001b[0mfunc_kwargs\u001b[0m\u001b[0;34m)\u001b[0m\u001b[0;34m)\u001b[0m\u001b[0;34m\u001b[0m\u001b[0;34m\u001b[0m\u001b[0m\n\u001b[1;32m     89\u001b[0m     \u001b[0;32mreturn\u001b[0m \u001b[0mnp\u001b[0m\u001b[0;34m.\u001b[0m\u001b[0marray\u001b[0m\u001b[0;34m(\u001b[0m\u001b[0mboot_dist\u001b[0m\u001b[0;34m)\u001b[0m\u001b[0;34m\u001b[0m\u001b[0;34m\u001b[0m\u001b[0m\n",
            "\u001b[0;31mKeyboardInterrupt\u001b[0m: "
          ]
        }
      ]
    },
    {
      "cell_type": "code",
      "metadata": {
        "id": "YzRilLZjMDAW",
        "colab_type": "code",
        "outputId": "40026301-c30b-4a1c-c7c3-e9a9d0fc1ca4",
        "colab": {
          "base_uri": "https://localhost:8080/",
          "height": 613
        }
      },
      "source": [
        "plt.figure(figsize=(10,10))\n",
        "sns.boxplot(data=features1.iloc[:,:9])"
      ],
      "execution_count": 0,
      "outputs": [
        {
          "output_type": "execute_result",
          "data": {
            "text/plain": [
              "<matplotlib.axes._subplots.AxesSubplot at 0x7ff95f2a6860>"
            ]
          },
          "metadata": {
            "tags": []
          },
          "execution_count": 227
        },
        {
          "output_type": "display_data",
          "data": {
            "image/png": "[encoded data removed]",
            "text/plain": [
              "<Figure size 720x720 with 1 Axes>"
            ]
          },
          "metadata": {
            "tags": []
          }
        }
      ]
    },
    {
      "cell_type": "code",
      "metadata": {
        "id": "uKOTtGXYMDAY",
        "colab_type": "code",
        "outputId": "c96ab697-4e46-4c72-d937-7fed2edc93a7",
        "colab": {
          "base_uri": "https://localhost:8080/",
          "height": 613
        }
      },
      "source": [
        "plt.figure(figsize=(10,10))\n",
        "sns.boxplot(data=features1.iloc[:,9:19])"
      ],
      "execution_count": 0,
      "outputs": [
        {
          "output_type": "execute_result",
          "data": {
            "text/plain": [
              "<matplotlib.axes._subplots.AxesSubplot at 0x7ff94e376a90>"
            ]
          },
          "metadata": {
            "tags": []
          },
          "execution_count": 228
        },
        {
          "output_type": "display_data",
          "data": {
            "image/png": "[encoded data removed]",
            "text/plain": [
              "<Figure size 720x720 with 1 Axes>"
            ]
          },
          "metadata": {
            "tags": []
          }
        }
      ]
    },
    {
      "cell_type": "code",
      "metadata": {
        "id": "6xSZ_LpjMDAZ",
        "colab_type": "code",
        "outputId": "3856ee95-3110-4f4d-8d05-ecc28af7ff92",
        "colab": {
          "base_uri": "https://localhost:8080/",
          "height": 613
        }
      },
      "source": [
        "plt.figure(figsize=(10,10))\n",
        "sns.boxplot(data=features1.iloc[:,19:28])"
      ],
      "execution_count": 0,
      "outputs": [
        {
          "output_type": "execute_result",
          "data": {
            "text/plain": [
              "<matplotlib.axes._subplots.AxesSubplot at 0x7ff95e3e8a20>"
            ]
          },
          "metadata": {
            "tags": []
          },
          "execution_count": 229
        },
        {
          "output_type": "display_data",
          "data": {
            "image/png": "[encoded data removed]",
            "text/plain": [
              "<Figure size 720x720 with 1 Axes>"
            ]
          },
          "metadata": {
            "tags": []
          }
        }
      ]
    },
    {
      "cell_type": "code",
      "metadata": {
        "id": "v9qoW2tKMDAa",
        "colab_type": "code",
        "outputId": "8f29fbf2-9b5d-4a13-8862-be8fc89cff0c",
        "colab": {
          "base_uri": "https://localhost:8080/",
          "height": 613
        }
      },
      "source": [
        "plt.figure(figsize=(10,10))\n",
        "sns.boxplot(data=features1.iloc[:,28:37])"
      ],
      "execution_count": 0,
      "outputs": [
        {
          "output_type": "execute_result",
          "data": {
            "text/plain": [
              "<matplotlib.axes._subplots.AxesSubplot at 0x7ff95e2f3b00>"
            ]
          },
          "metadata": {
            "tags": []
          },
          "execution_count": 230
        },
        {
          "output_type": "display_data",
          "data": {
            "image/png": "[encoded data removed]",
            "text/plain": [
              "<Figure size 720x720 with 1 Axes>"
            ]
          },
          "metadata": {
            "tags": []
          }
        }
      ]
    },
    {
      "cell_type": "code",
      "metadata": {
        "id": "1jziTaegMDAc",
        "colab_type": "code",
        "outputId": "9902e0dd-10b7-4bc4-fb5e-ba765e456140",
        "colab": {
          "base_uri": "https://localhost:8080/",
          "height": 613
        }
      },
      "source": [
        "plt.figure(figsize=(10,10))\n",
        "sns.boxplot(data=features1.iloc[:,37:44])"
      ],
      "execution_count": 0,
      "outputs": [
        {
          "output_type": "execute_result",
          "data": {
            "text/plain": [
              "<matplotlib.axes._subplots.AxesSubplot at 0x7ff95e1d4128>"
            ]
          },
          "metadata": {
            "tags": []
          },
          "execution_count": 231
        },
        {
          "output_type": "display_data",
          "data": {
            "image/png": "[encoded data removed]",
            "text/plain": [
              "<Figure size 720x720 with 1 Axes>"
            ]
          },
          "metadata": {
            "tags": []
          }
        }
      ]
    },
    {
      "cell_type": "code",
      "metadata": {
        "id": "UAcPCNGhMDAe",
        "colab_type": "code",
        "colab": {}
      },
      "source": [
        ""
      ],
      "execution_count": 0,
      "outputs": []
    },
    {
      "cell_type": "code",
      "metadata": {
        "id": "2TtgE_A5MDAh",
        "colab_type": "code",
        "outputId": "747eef4f-25cb-4d0d-860b-cbd1f25b028f",
        "colab": {
          "base_uri": "https://localhost:8080/",
          "height": 235
        }
      },
      "source": [
        "from sklearn.preprocessing import RobustScaler\n",
        "rs = RobustScaler()\n",
        "rs.fit_transform(features1)"
      ],
      "execution_count": 0,
      "outputs": [
        {
          "output_type": "execute_result",
          "data": {
            "text/plain": [
              "array([[ 0.16830352, -0.33009792,  0.43678161, ...,  0.34883101,\n",
              "         0.        ,  0.        ],\n",
              "       [-0.71260546, -1.08545051,  0.47126437, ...,  0.34883101,\n",
              "         0.        ,  0.        ],\n",
              "       [ 0.47133816, -0.51992501,  0.55172414, ...,  0.34883101,\n",
              "         0.        ,  0.        ],\n",
              "       ...,\n",
              "       [-0.40919413,  0.30006343,  0.85057471, ...,  0.48864329,\n",
              "         1.        , -1.        ],\n",
              "       [-0.2532415 , -0.74908133,  0.68965517, ...,  0.48864329,\n",
              "         1.        , -1.        ],\n",
              "       [ 0.20200741,  0.46334724,  0.67816092, ...,  0.48864329,\n",
              "         1.        , -1.        ]])"
            ]
          },
          "metadata": {
            "tags": []
          },
          "execution_count": 232
        }
      ]
    },
    {
      "cell_type": "code",
      "metadata": {
        "id": "YSz0bfAlMDAj",
        "colab_type": "code",
        "outputId": "eacb5e1f-2466-42ce-e099-e2239539a420",
        "colab": {
          "base_uri": "https://localhost:8080/",
          "height": 353
        }
      },
      "source": [
        "from sklearn.preprocessing import LabelEncoder\n",
        "from keras.utils.np_utils import to_categorical\n",
        "\n",
        "target1_nn = target1\n",
        "\n",
        "le = LabelEncoder() #Initialize. le used as abbreviation fo label encoder\n",
        "le.fit(target1_nn)\n",
        "print(\"Original class labels:\")\n",
        "print(list(le.classes_))\n",
        "print('\\n')\n",
        "target_cat = le.transform(target1_nn)  \n",
        "#list(le.inverse_transform([0, 1, 3, 3, 0, 6, 4])) #If you wish to retrieve the original descriptive labels post production\n",
        "\n",
        "print('New product labels:')\n",
        "print(target_cat)\n",
        "print('\\n')\n",
        "\n",
        "\n",
        "print('One hot labels; 7 binary columns, one for each of the categories.') #Each row will be all zeros except for the category for that observation.\n",
        "target_onehot = to_categorical(target_cat)\n",
        "print(target_onehot)\n",
        "print('\\n')\n",
        "\n",
        "print('One hot labels shape:')\n",
        "print(np.shape(target_onehot))"
      ],
      "execution_count": 0,
      "outputs": [
        {
          "output_type": "stream",
          "text": [
            "Original class labels:\n",
            "['CH', 'CU', 'FF', 'SI', 'SL']\n",
            "\n",
            "\n",
            "New product labels:\n",
            "[3 3 3 ... 2 2 2]\n",
            "\n",
            "\n",
            "One hot labels; 7 binary columns, one for each of the categories.\n",
            "[[0. 0. 0. 1. 0.]\n",
            " [0. 0. 0. 1. 0.]\n",
            " [0. 0. 0. 1. 0.]\n",
            " ...\n",
            " [0. 0. 1. 0. 0.]\n",
            " [0. 0. 1. 0. 0.]\n",
            " [0. 0. 1. 0. 0.]]\n",
            "\n",
            "\n",
            "One hot labels shape:\n",
            "(717188, 5)\n"
          ],
          "name": "stdout"
        }
      ]
    },
    {
      "cell_type": "code",
      "metadata": {
        "id": "PtS65ODrMDAl",
        "colab_type": "code",
        "colab": {}
      },
      "source": [
        "model = models.Sequential()\n",
        "model.add(layers.Dense(100, activation='relu', input_shape=(41,))) #1st hidden layer\n",
        "model.add(layers.Dense(50, activation='relu'))#2nd hidden layer\n",
        "model.add(layers.Dense(5, activation='softmax'))#output layer - softmax will return probability between 0-"
      ],
      "execution_count": 0,
      "outputs": []
    },
    {
      "cell_type": "code",
      "metadata": {
        "id": "ox478eNyMDAm",
        "colab_type": "code",
        "colab": {}
      },
      "source": [
        "model.compile(optimizer='Adam',\n",
        "              loss='mse',\n",
        "              metrics=['accuracy'])"
      ],
      "execution_count": 0,
      "outputs": []
    },
    {
      "cell_type": "code",
      "metadata": {
        "id": "BIBCO7muMDAn",
        "colab_type": "code",
        "colab": {}
      },
      "source": [
        "import random\n",
        "random.seed(123)\n",
        "val = features[:100000]\n",
        "train_final = features[100000:600000]\n",
        "label_val = target_onehot[:100000]\n",
        "label_train_final = target_onehot[100000:600000]\n",
        "test = features[600000:]\n",
        "label_test = target_onehot[600000:]"
      ],
      "execution_count": 0,
      "outputs": []
    },
    {
      "cell_type": "code",
      "metadata": {
        "id": "lTkA0L8zMDAo",
        "colab_type": "code",
        "outputId": "2dcfc35b-7ce2-4ea2-b124-388c29efac65",
        "colab": {
          "base_uri": "https://localhost:8080/",
          "height": 706
        }
      },
      "source": [
        "  history = model.fit(train_final,\n",
        "                      label_train_final,\n",
        "                      epochs=20,\n",
        "                      batch_size=1000,\n",
        "                      validation_data=(val, label_val))"
      ],
      "execution_count": 0,
      "outputs": [
        {
          "output_type": "stream",
          "text": [
            "Train on 500000 samples, validate on 100000 samples\n",
            "Epoch 1/20\n",
            "500000/500000 [==============================] - 3s 6us/step - loss: 0.1999 - acc: 0.5000 - val_loss: 0.1848 - val_acc: 0.5381\n",
            "Epoch 2/20\n",
            "500000/500000 [==============================] - 3s 6us/step - loss: 0.1842 - acc: 0.5394 - val_loss: 0.1848 - val_acc: 0.5381\n",
            "Epoch 3/20\n",
            "500000/500000 [==============================] - 3s 6us/step - loss: 0.1842 - acc: 0.5394 - val_loss: 0.1848 - val_acc: 0.5381\n",
            "Epoch 4/20\n",
            "500000/500000 [==============================] - 3s 5us/step - loss: 0.1842 - acc: 0.5394 - val_loss: 0.1848 - val_acc: 0.5381\n",
            "Epoch 5/20\n",
            "500000/500000 [==============================] - 3s 5us/step - loss: 0.1842 - acc: 0.5394 - val_loss: 0.1848 - val_acc: 0.5381\n",
            "Epoch 6/20\n",
            "500000/500000 [==============================] - 3s 5us/step - loss: 0.1842 - acc: 0.5394 - val_loss: 0.1848 - val_acc: 0.5381\n",
            "Epoch 7/20\n",
            "500000/500000 [==============================] - 3s 6us/step - loss: 0.1842 - acc: 0.5394 - val_loss: 0.1848 - val_acc: 0.5381\n",
            "Epoch 8/20\n",
            "500000/500000 [==============================] - 3s 5us/step - loss: 0.1842 - acc: 0.5394 - val_loss: 0.1848 - val_acc: 0.5381\n",
            "Epoch 9/20\n",
            "500000/500000 [==============================] - 3s 5us/step - loss: 0.1842 - acc: 0.5394 - val_loss: 0.1848 - val_acc: 0.5381\n",
            "Epoch 10/20\n",
            "500000/500000 [==============================] - 3s 6us/step - loss: 0.1842 - acc: 0.5394 - val_loss: 0.1848 - val_acc: 0.5381\n",
            "Epoch 11/20\n",
            "500000/500000 [==============================] - 3s 6us/step - loss: 0.1842 - acc: 0.5394 - val_loss: 0.1848 - val_acc: 0.5381\n",
            "Epoch 12/20\n",
            "500000/500000 [==============================] - 3s 6us/step - loss: 0.1842 - acc: 0.5394 - val_loss: 0.1848 - val_acc: 0.5381\n",
            "Epoch 13/20\n",
            "500000/500000 [==============================] - 3s 6us/step - loss: 0.1842 - acc: 0.5394 - val_loss: 0.1848 - val_acc: 0.5381\n",
            "Epoch 14/20\n",
            "500000/500000 [==============================] - 3s 6us/step - loss: 0.1842 - acc: 0.5394 - val_loss: 0.1848 - val_acc: 0.5381\n",
            "Epoch 15/20\n",
            "500000/500000 [==============================] - 3s 6us/step - loss: 0.1842 - acc: 0.5394 - val_loss: 0.1848 - val_acc: 0.5381\n",
            "Epoch 16/20\n",
            "500000/500000 [==============================] - 3s 5us/step - loss: 0.1842 - acc: 0.5394 - val_loss: 0.1848 - val_acc: 0.5381\n",
            "Epoch 17/20\n",
            "500000/500000 [==============================] - 3s 5us/step - loss: 0.1842 - acc: 0.5394 - val_loss: 0.1848 - val_acc: 0.5381\n",
            "Epoch 18/20\n",
            "500000/500000 [==============================] - 3s 6us/step - loss: 0.1842 - acc: 0.5394 - val_loss: 0.1848 - val_acc: 0.5381\n",
            "Epoch 19/20\n",
            "500000/500000 [==============================] - 3s 6us/step - loss: 0.1842 - acc: 0.5394 - val_loss: 0.1848 - val_acc: 0.5381\n",
            "Epoch 20/20\n",
            "500000/500000 [==============================] - 3s 5us/step - loss: 0.1842 - acc: 0.5394 - val_loss: 0.1848 - val_acc: 0.5381\n"
          ],
          "name": "stdout"
        }
      ]
    },
    {
      "cell_type": "code",
      "metadata": {
        "id": "IHCVH89XrpCV",
        "colab_type": "code",
        "outputId": "03ffbecf-2f84-4ff9-c39b-8bbf4db39cf6",
        "colab": {
          "base_uri": "https://localhost:8080/",
          "height": 806
        }
      },
      "source": [
        ""
      ],
      "execution_count": 0,
      "outputs": [
        {
          "output_type": "stream",
          "text": [
            "<class 'pandas.core.frame.DataFrame'>\n",
            "Int64Index: 717188 entries, 2142710 to 2867153\n",
            "Data columns (total 42 columns):\n",
            "px              717188 non-null float64\n",
            "pz              717188 non-null float64\n",
            "start_speed     717188 non-null float64\n",
            "end_speed       717188 non-null float64\n",
            "spin_rate       717188 non-null float64\n",
            "spin_dir        717188 non-null float64\n",
            "break_angle     717188 non-null float64\n",
            "break_length    717188 non-null float64\n",
            "break_y         717188 non-null float64\n",
            "ax              717188 non-null float64\n",
            "ay              717188 non-null float64\n",
            "az              717188 non-null float64\n",
            "sz_bot          717188 non-null float64\n",
            "sz_top          717188 non-null float64\n",
            "vx0             717188 non-null float64\n",
            "vy0             717188 non-null float64\n",
            "vz0             717188 non-null float64\n",
            "x               717188 non-null float64\n",
            "x0              717188 non-null float64\n",
            "y               717188 non-null float64\n",
            "y0              717188 non-null float64\n",
            "z0              717188 non-null float64\n",
            "pfx_x           717188 non-null float64\n",
            "pfx_z           717188 non-null float64\n",
            "nasty           717188 non-null float64\n",
            "zone            717188 non-null float64\n",
            "b_score         717188 non-null float64\n",
            "b_count         717188 non-null float64\n",
            "s_count         717188 non-null float64\n",
            "outs            717188 non-null float64\n",
            "pitch_num       717188 non-null float64\n",
            "on_1b           717188 non-null float64\n",
            "on_2b           717188 non-null float64\n",
            "on_3b           717188 non-null float64\n",
            "batter_id       717188 non-null int64\n",
            "inning          717188 non-null int64\n",
            "o               717188 non-null int64\n",
            "p_score         717188 non-null int64\n",
            "p_throws        717188 non-null int64\n",
            "pitcher_id      717188 non-null int64\n",
            "stand           717188 non-null int64\n",
            "top             717188 non-null int64\n",
            "dtypes: float64(34), int64(8)\n",
            "memory usage: 255.3 MB\n"
          ],
          "name": "stdout"
        }
      ]
    },
    {
      "cell_type": "code",
      "metadata": {
        "id": "KwsMhpGarpU7",
        "colab_type": "code",
        "outputId": "0a66b0ee-e617-4e90-f120-bb08b7de37c4",
        "colab": {
          "base_uri": "https://localhost:8080/",
          "height": 353
        }
      },
      "source": [
        "df.info()"
      ],
      "execution_count": 0,
      "outputs": [
        {
          "output_type": "stream",
          "text": [
            "<class 'pandas.core.frame.DataFrame'>\n",
            "Int64Index: 718117 entries, 2142710 to 2867153\n",
            "Data columns (total 15 columns):\n",
            "pitch_type    718117 non-null object\n",
            "b_score       718117 non-null float64\n",
            "s_count       718117 non-null float64\n",
            "outs          718117 non-null float64\n",
            "pitch_num     718117 non-null float64\n",
            "on_1b         718117 non-null float64\n",
            "on_2b         718117 non-null float64\n",
            "on_3b         718117 non-null float64\n",
            "batter_id     718117 non-null int64\n",
            "inning        718117 non-null int64\n",
            "p_score       718117 non-null int64\n",
            "p_throws      718117 non-null int64\n",
            "pitcher_id    718117 non-null int64\n",
            "stand         718117 non-null int64\n",
            "top           718117 non-null int64\n",
            "dtypes: float64(7), int64(7), object(1)\n",
            "memory usage: 87.7+ MB\n"
          ],
          "name": "stdout"
        }
      ]
    },
    {
      "cell_type": "code",
      "metadata": {
        "id": "0o5EZRRSrpq3",
        "colab_type": "code",
        "outputId": "9d153101-69ad-4bc8-a3f4-c7b6fea4ec83",
        "colab": {
          "base_uri": "https://localhost:8080/",
          "height": 218
        }
      },
      "source": [
        "df.pitch_type.value_counts()"
      ],
      "execution_count": 0,
      "outputs": [
        {
          "output_type": "execute_result",
          "data": {
            "text/plain": [
              "FF    264451\n",
              "SL    122796\n",
              "FT     81617\n",
              "CH     74606\n",
              "CU     60360\n",
              "SI     57970\n",
              "FC     39061\n",
              "KC     16327\n",
              "KN       719\n",
              "PO       173\n",
              "SC        37\n",
              "Name: pitch_type, dtype: int64"
            ]
          },
          "metadata": {
            "tags": []
          },
          "execution_count": 245
        }
      ]
    },
    {
      "cell_type": "code",
      "metadata": {
        "id": "0IEQpwzRt-8c",
        "colab_type": "code",
        "colab": {}
      },
      "source": [
        "df = df[df.pitch_type != 'KN']\n",
        "df = df[df.pitch_type != 'FO']\n",
        "df = df[df.pitch_type != 'PO']\n",
        "df = df[df.pitch_type != 'SC']"
      ],
      "execution_count": 0,
      "outputs": []
    },
    {
      "cell_type": "code",
      "metadata": {
        "id": "87MJUcu_wuRo",
        "colab_type": "code",
        "outputId": "827b12f7-c933-49c0-fedd-c2e9a30b932b",
        "colab": {
          "base_uri": "https://localhost:8080/",
          "height": 118
        }
      },
      "source": [
        "df.pitch_type.value_counts()"
      ],
      "execution_count": 0,
      "outputs": [
        {
          "output_type": "execute_result",
          "data": {
            "text/plain": [
              "FF    385129\n",
              "SL    122796\n",
              "CU     76687\n",
              "CH     74606\n",
              "SI     57970\n",
              "Name: pitch_type, dtype: int64"
            ]
          },
          "metadata": {
            "tags": []
          },
          "execution_count": 253
        }
      ]
    },
    {
      "cell_type": "code",
      "metadata": {
        "id": "xcJarG9-t_V6",
        "colab_type": "code",
        "colab": {}
      },
      "source": [
        "df.pitch_type.replace('FS', 'FF', inplace=True)\n",
        "df.pitch_type.replace('FC', 'FF', inplace=True)\n",
        "df.pitch_type.replace('FT', 'FF', inplace=True)\n",
        "df.pitch_type.replace('KC', 'CU', inplace=True)"
      ],
      "execution_count": 0,
      "outputs": []
    },
    {
      "cell_type": "code",
      "metadata": {
        "id": "8jhKGVP0t_3U",
        "colab_type": "code",
        "colab": {}
      },
      "source": [
        "features2 = df.drop('pitch_type', axis=1) "
      ],
      "execution_count": 0,
      "outputs": []
    },
    {
      "cell_type": "code",
      "metadata": {
        "id": "te7wJxHTvR9U",
        "colab_type": "code",
        "colab": {}
      },
      "source": [
        "target2 = df.pitch_type"
      ],
      "execution_count": 0,
      "outputs": []
    },
    {
      "cell_type": "code",
      "metadata": {
        "id": "i7Zffmw7rqQ5",
        "colab_type": "code",
        "colab": {}
      },
      "source": [
        "import xgboost as xgb\n",
        "from sklearn.model_selection import train_test_split, cross_val_score\n",
        "X_train, X_test, y_train, y_test = train_test_split(features2, target2, test_size=0.30)"
      ],
      "execution_count": 0,
      "outputs": []
    },
    {
      "cell_type": "code",
      "metadata": {
        "id": "s6qJ4YxMvhLg",
        "colab_type": "code",
        "outputId": "ea0a5a4a-60af-4ff5-fe25-223aecd2887e",
        "colab": {
          "base_uri": "https://localhost:8080/",
          "height": 272
        }
      },
      "source": [
        "#create xgb instance with parameters¶\n",
        "clf = xgb.XGBClassifier()\n",
        "#fit data\n",
        "clf.fit(X_train, y_train)\n",
        "#make predictions\n",
        "training_preds = clf.predict(X_train)\n",
        "val_preds = clf.predict(X_test)\n",
        "#run classification report and confusion matrix\n",
        "gbt_confusion_matrix = confusion_matrix(y_test, val_preds)\n",
        "gbt_confusion_matrix\n",
        "gbt_classification_report = classification_report(y_test, val_preds)\n",
        "print(gbt_classification_report)"
      ],
      "execution_count": 0,
      "outputs": [
        {
          "output_type": "stream",
          "text": [
            "/usr/local/lib/python3.6/dist-packages/sklearn/metrics/classification.py:1437: UndefinedMetricWarning: Precision and F-score are ill-defined and being set to 0.0 in labels with no predicted samples.\n",
            "  'precision', 'predicted', average, warn_for)\n"
          ],
          "name": "stderr"
        },
        {
          "output_type": "stream",
          "text": [
            "              precision    recall  f1-score   support\n",
            "\n",
            "          CH       0.30      0.00      0.00     22327\n",
            "          CU       0.00      0.00      0.00     22940\n",
            "          FF       0.54      1.00      0.70    115634\n",
            "          SI       0.69      0.10      0.18     17507\n",
            "          SL       0.54      0.01      0.02     36749\n",
            "\n",
            "    accuracy                           0.55    215157\n",
            "   macro avg       0.41      0.22      0.18    215157\n",
            "weighted avg       0.47      0.55      0.40    215157\n",
            "\n"
          ],
          "name": "stdout"
        }
      ]
    },
    {
      "cell_type": "code",
      "metadata": {
        "id": "p3dt91ZIMDAG",
        "colab_type": "code",
        "colab": {}
      },
      "source": [
        "from sklearn.model_selection import GridSearchCV\n",
        "xgb_param_grid = {\"learning_rate\": [.01,0.1,1],'max_depth': [2,6,10],'min_child_weight': [5,10,15],'n_estimators': [50, 100, 250]}\n",
        "gs = GridSearchCV(clf, xgb_param_grid, n_jobs=-1, cv=3)\n",
        "gs.fit(X_train, y_train)"
      ],
      "execution_count": 0,
      "outputs": []
    },
    {
      "cell_type": "code",
      "metadata": {
        "id": "uEpb0eaVMDAr",
        "colab_type": "code",
        "colab": {}
      },
      "source": [
        ""
      ],
      "execution_count": 0,
      "outputs": []
    },
    {
      "cell_type": "code",
      "metadata": {
        "id": "-TNxmzNmMDAs",
        "colab_type": "code",
        "colab": {}
      },
      "source": [
        ""
      ],
      "execution_count": 0,
      "outputs": []
    }
  ]
}